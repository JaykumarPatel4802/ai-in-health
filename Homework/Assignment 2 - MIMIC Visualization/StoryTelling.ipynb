{
 "cells": [
  {
   "cell_type": "markdown",
   "metadata": {},
   "source": [
    "# Import Libraries"
   ]
  },
  {
   "cell_type": "code",
   "execution_count": 21,
   "metadata": {},
   "outputs": [],
   "source": [
    "import pandas as pd\n",
    "import matplotlib.pyplot as plt\n",
    "import seaborn as sns\n",
    "import numpy as np\n",
    "import plotly.express as px"
   ]
  },
  {
   "cell_type": "markdown",
   "metadata": {},
   "source": [
    "# Idea\n",
    "- Look at which which abnormal tests are correlated\n",
    "- Look at the patients for those tests, and see what diagnosis\n",
    "- Look at if there are common prescriptions for those drugs"
   ]
  },
  {
   "cell_type": "markdown",
   "metadata": {},
   "source": [
    "# Import Data"
   ]
  },
  {
   "cell_type": "code",
   "execution_count": 22,
   "metadata": {},
   "outputs": [],
   "source": [
    "# Patient Data\n",
    "patients = pd.read_csv('mimic-iii-clinical-database-demo-1.4/PATIENTS.csv')\n",
    "\n",
    "# Prescription Data\n",
    "prescriptions = pd.read_csv('mimic-iii-clinical-database-demo-1.4/PRESCRIPTIONS.csv')\n",
    "\n",
    "# Lab Events Data\n",
    "lab_items = pd.read_csv('mimic-iii-clinical-database-demo-1.4/D_LABITEMS.csv')\n",
    "lab_events = pd.read_csv('mimic-iii-clinical-database-demo-1.4/LABEVENTS.csv', parse_dates=['charttime'])\n",
    "\n",
    "# Procedures Data\n",
    "procedures = pd.read_csv('mimic-iii-clinical-database-demo-1.4/PROCEDURES_ICD.csv')\n",
    "procedures_labels = pd.read_csv('mimic-iii-clinical-database-demo-1.4/D_ICD_PROCEDURES.csv')\n",
    "\n",
    "# Admissions Data\n",
    "admissions = pd.read_csv('mimic-iii-clinical-database-demo-1.4/ADMISSIONS.csv')"
   ]
  },
  {
   "cell_type": "code",
   "execution_count": 23,
   "metadata": {},
   "outputs": [
    {
     "name": "stdout",
     "output_type": "stream",
     "text": [
      "   row_id  subject_id gender                  dob                  dod  \\\n",
      "0    9467       10006      F  2094-03-05 00:00:00  2165-08-12 00:00:00   \n",
      "1    9472       10011      F  2090-06-05 00:00:00  2126-08-28 00:00:00   \n",
      "2    9474       10013      F  2038-09-03 00:00:00  2125-10-07 00:00:00   \n",
      "3    9478       10017      F  2075-09-21 00:00:00  2152-09-12 00:00:00   \n",
      "4    9479       10019      M  2114-06-20 00:00:00  2163-05-15 00:00:00   \n",
      "\n",
      "              dod_hosp              dod_ssn  expire_flag  age  \n",
      "0  2165-08-12 00:00:00  2165-08-12 00:00:00            1   71  \n",
      "1  2126-08-28 00:00:00                  NaN            1   36  \n",
      "2  2125-10-07 00:00:00  2125-10-07 00:00:00            1   87  \n",
      "3                  NaN  2152-09-12 00:00:00            1   77  \n",
      "4  2163-05-15 00:00:00  2163-05-15 00:00:00            1   48  \n"
     ]
    }
   ],
   "source": [
    "from datetime import datetime\n",
    "# Calculate age function\n",
    "def calculate_age(dob, dod):\n",
    "    dob_date = datetime.strptime(dob, \"%Y-%m-%d %H:%M:%S\")\n",
    "    dod_date = datetime.strptime(dod, \"%Y-%m-%d %H:%M:%S\")\n",
    "    age = (dod_date - dob_date).days // 365\n",
    "    return age\n",
    "\n",
    "# Apply calculate_age function to create \"age\" column\n",
    "patients[\"age\"] = patients.apply(lambda row: calculate_age(row[\"dob\"], row[\"dod\"]), axis=1)\n",
    "\n",
    "# Display the updated DataFrame\n",
    "print(patients.head())"
   ]
  },
  {
   "cell_type": "markdown",
   "metadata": {},
   "source": [
    "## First, I identify the tests that have the highest percentage of abnormal results"
   ]
  },
  {
   "cell_type": "code",
   "execution_count": 24,
   "metadata": {},
   "outputs": [
    {
     "name": "stdout",
     "output_type": "stream",
     "text": [
      "Top 10 lab tests by abnormal count:\n",
      "     itemid              label  total_count  abnormal_count  \\\n",
      "265   51221         Hematocrit         2317          2185.0   \n",
      "266   51222         Hemoglobin         2024          1914.0   \n",
      "307   51279    Red Blood Cells         2007          1881.0   \n",
      "93    50931            Glucose         2121          1489.0   \n",
      "305   51277                RDW         2005          1363.0   \n",
      "147   51006      Urea Nitrogen         2158          1262.0   \n",
      "302   51274                 PT         1378          1117.0   \n",
      "81    50912         Creatinine         2175          1023.0   \n",
      "297   51265     Platelet Count         2088           944.0   \n",
      "321   51301  White Blood Cells         2021           871.0   \n",
      "\n",
      "     abnormal_percentage  \n",
      "265                94.30  \n",
      "266                94.57  \n",
      "307                93.72  \n",
      "93                 70.20  \n",
      "305                67.98  \n",
      "147                58.48  \n",
      "302                81.06  \n",
      "81                 47.03  \n",
      "297                45.21  \n",
      "321                43.10  \n"
     ]
    }
   ],
   "source": [
    "# Step 1: Get unique lab tests with their counts\n",
    "test_counts = lab_events.groupby('itemid').agg(\n",
    "    total_count=('itemid', 'count')\n",
    ").reset_index()\n",
    "\n",
    "# Step 2: Add count of abnormal results\n",
    "abnormal_counts = lab_events[lab_events['flag'] == 'abnormal'].groupby('itemid').agg(\n",
    "    abnormal_count=('itemid', 'count')\n",
    ").reset_index()\n",
    "\n",
    "# Step 3: Merge the counts\n",
    "test_stats = test_counts.merge(abnormal_counts, on='itemid', how='left')\n",
    "test_stats['abnormal_count'] = test_stats['abnormal_count'].fillna(0)\n",
    "\n",
    "# Step 4: Add lab test labels\n",
    "test_stats = test_stats.merge(lab_items[['itemid', 'label']], on='itemid', how='left')\n",
    "\n",
    "# Step 5: Calculate percentage and sort\n",
    "test_stats['abnormal_percentage'] = (test_stats['abnormal_count'] / test_stats['total_count'] * 100).round(2)\n",
    "test_stats = test_stats.sort_values('abnormal_count', ascending=False)\n",
    "\n",
    "# Print top 10 for verification\n",
    "print(\"Top 10 lab tests by abnormal count:\")\n",
    "print(test_stats.head(10)[['itemid', 'label', 'total_count', 'abnormal_count', 'abnormal_percentage']])"
   ]
  },
  {
   "cell_type": "code",
   "execution_count": 25,
   "metadata": {},
   "outputs": [
    {
     "data": {
      "application/vnd.plotly.v1+json": {
       "config": {
        "plotlyServerURL": "https://plot.ly"
       },
       "data": [
        {
         "customdata": {
          "bdata": "AAAAAAAaokAzMzMzM5NXQAAAAACgAulAAAAAAACgn0AUrkfheqRXQAAAAADAAulAAAAAAABcn0CuR+F6FG5XQAAAAADgCelAAAAAAACSoEDNzMzMzIxRQAAAAABg3uhAAAAAAABUn0AfhetRuP5QQAAAAACgCelAAAAAAADcoEA9CtejcD1NQAAAAADA5+hAAAAAAACIlUCkcD0K10NUQAAAAABACelAAAAAAAD+oECkcD0K14NHQAAAAAAA3OhAAAAAAABQoEB7FK5H4ZpGQAAAAAAgCOlAAAAAAACUn0DNzMzMzIxFQAAAAACgDOlA",
          "dtype": "f8",
          "shape": "10, 3"
         },
         "hovertemplate": "Lab Test=%{x}<br>Number of Abnormal Results=%{y}<br>total_count=%{customdata[0]}<br>abnormal_percentage=%{customdata[1]:.2f}<br>itemid=%{customdata[2]}<extra></extra>",
         "legendgroup": "",
         "marker": {
          "color": "#636efa",
          "pattern": {
           "shape": ""
          }
         },
         "name": "",
         "orientation": "v",
         "showlegend": false,
         "textposition": "auto",
         "type": "bar",
         "x": [
          "Hematocrit",
          "Hemoglobin",
          "Red Blood Cells",
          "Glucose",
          "RDW",
          "Urea Nitrogen",
          "PT",
          "Creatinine",
          "Platelet Count",
          "White Blood Cells"
         ],
         "xaxis": "x",
         "y": {
          "bdata": "AAAAAAASoUAAAAAAAOidQAAAAAAAZJ1AAAAAAABEl0AAAAAAAEyVQAAAAAAAuJNAAAAAAAB0kUAAAAAAAPiPQAAAAAAAgI1AAAAAAAA4i0A=",
          "dtype": "f8"
         },
         "yaxis": "y"
        }
       ],
       "layout": {
        "barmode": "relative",
        "height": 600,
        "legend": {
         "tracegroupgap": 0
        },
        "template": {
         "data": {
          "bar": [
           {
            "error_x": {
             "color": "#2a3f5f"
            },
            "error_y": {
             "color": "#2a3f5f"
            },
            "marker": {
             "line": {
              "color": "#E5ECF6",
              "width": 0.5
             },
             "pattern": {
              "fillmode": "overlay",
              "size": 10,
              "solidity": 0.2
             }
            },
            "type": "bar"
           }
          ],
          "barpolar": [
           {
            "marker": {
             "line": {
              "color": "#E5ECF6",
              "width": 0.5
             },
             "pattern": {
              "fillmode": "overlay",
              "size": 10,
              "solidity": 0.2
             }
            },
            "type": "barpolar"
           }
          ],
          "carpet": [
           {
            "aaxis": {
             "endlinecolor": "#2a3f5f",
             "gridcolor": "white",
             "linecolor": "white",
             "minorgridcolor": "white",
             "startlinecolor": "#2a3f5f"
            },
            "baxis": {
             "endlinecolor": "#2a3f5f",
             "gridcolor": "white",
             "linecolor": "white",
             "minorgridcolor": "white",
             "startlinecolor": "#2a3f5f"
            },
            "type": "carpet"
           }
          ],
          "choropleth": [
           {
            "colorbar": {
             "outlinewidth": 0,
             "ticks": ""
            },
            "type": "choropleth"
           }
          ],
          "contour": [
           {
            "colorbar": {
             "outlinewidth": 0,
             "ticks": ""
            },
            "colorscale": [
             [
              0,
              "#0d0887"
             ],
             [
              0.1111111111111111,
              "#46039f"
             ],
             [
              0.2222222222222222,
              "#7201a8"
             ],
             [
              0.3333333333333333,
              "#9c179e"
             ],
             [
              0.4444444444444444,
              "#bd3786"
             ],
             [
              0.5555555555555556,
              "#d8576b"
             ],
             [
              0.6666666666666666,
              "#ed7953"
             ],
             [
              0.7777777777777778,
              "#fb9f3a"
             ],
             [
              0.8888888888888888,
              "#fdca26"
             ],
             [
              1,
              "#f0f921"
             ]
            ],
            "type": "contour"
           }
          ],
          "contourcarpet": [
           {
            "colorbar": {
             "outlinewidth": 0,
             "ticks": ""
            },
            "type": "contourcarpet"
           }
          ],
          "heatmap": [
           {
            "colorbar": {
             "outlinewidth": 0,
             "ticks": ""
            },
            "colorscale": [
             [
              0,
              "#0d0887"
             ],
             [
              0.1111111111111111,
              "#46039f"
             ],
             [
              0.2222222222222222,
              "#7201a8"
             ],
             [
              0.3333333333333333,
              "#9c179e"
             ],
             [
              0.4444444444444444,
              "#bd3786"
             ],
             [
              0.5555555555555556,
              "#d8576b"
             ],
             [
              0.6666666666666666,
              "#ed7953"
             ],
             [
              0.7777777777777778,
              "#fb9f3a"
             ],
             [
              0.8888888888888888,
              "#fdca26"
             ],
             [
              1,
              "#f0f921"
             ]
            ],
            "type": "heatmap"
           }
          ],
          "histogram": [
           {
            "marker": {
             "pattern": {
              "fillmode": "overlay",
              "size": 10,
              "solidity": 0.2
             }
            },
            "type": "histogram"
           }
          ],
          "histogram2d": [
           {
            "colorbar": {
             "outlinewidth": 0,
             "ticks": ""
            },
            "colorscale": [
             [
              0,
              "#0d0887"
             ],
             [
              0.1111111111111111,
              "#46039f"
             ],
             [
              0.2222222222222222,
              "#7201a8"
             ],
             [
              0.3333333333333333,
              "#9c179e"
             ],
             [
              0.4444444444444444,
              "#bd3786"
             ],
             [
              0.5555555555555556,
              "#d8576b"
             ],
             [
              0.6666666666666666,
              "#ed7953"
             ],
             [
              0.7777777777777778,
              "#fb9f3a"
             ],
             [
              0.8888888888888888,
              "#fdca26"
             ],
             [
              1,
              "#f0f921"
             ]
            ],
            "type": "histogram2d"
           }
          ],
          "histogram2dcontour": [
           {
            "colorbar": {
             "outlinewidth": 0,
             "ticks": ""
            },
            "colorscale": [
             [
              0,
              "#0d0887"
             ],
             [
              0.1111111111111111,
              "#46039f"
             ],
             [
              0.2222222222222222,
              "#7201a8"
             ],
             [
              0.3333333333333333,
              "#9c179e"
             ],
             [
              0.4444444444444444,
              "#bd3786"
             ],
             [
              0.5555555555555556,
              "#d8576b"
             ],
             [
              0.6666666666666666,
              "#ed7953"
             ],
             [
              0.7777777777777778,
              "#fb9f3a"
             ],
             [
              0.8888888888888888,
              "#fdca26"
             ],
             [
              1,
              "#f0f921"
             ]
            ],
            "type": "histogram2dcontour"
           }
          ],
          "mesh3d": [
           {
            "colorbar": {
             "outlinewidth": 0,
             "ticks": ""
            },
            "type": "mesh3d"
           }
          ],
          "parcoords": [
           {
            "line": {
             "colorbar": {
              "outlinewidth": 0,
              "ticks": ""
             }
            },
            "type": "parcoords"
           }
          ],
          "pie": [
           {
            "automargin": true,
            "type": "pie"
           }
          ],
          "scatter": [
           {
            "fillpattern": {
             "fillmode": "overlay",
             "size": 10,
             "solidity": 0.2
            },
            "type": "scatter"
           }
          ],
          "scatter3d": [
           {
            "line": {
             "colorbar": {
              "outlinewidth": 0,
              "ticks": ""
             }
            },
            "marker": {
             "colorbar": {
              "outlinewidth": 0,
              "ticks": ""
             }
            },
            "type": "scatter3d"
           }
          ],
          "scattercarpet": [
           {
            "marker": {
             "colorbar": {
              "outlinewidth": 0,
              "ticks": ""
             }
            },
            "type": "scattercarpet"
           }
          ],
          "scattergeo": [
           {
            "marker": {
             "colorbar": {
              "outlinewidth": 0,
              "ticks": ""
             }
            },
            "type": "scattergeo"
           }
          ],
          "scattergl": [
           {
            "marker": {
             "colorbar": {
              "outlinewidth": 0,
              "ticks": ""
             }
            },
            "type": "scattergl"
           }
          ],
          "scattermap": [
           {
            "marker": {
             "colorbar": {
              "outlinewidth": 0,
              "ticks": ""
             }
            },
            "type": "scattermap"
           }
          ],
          "scattermapbox": [
           {
            "marker": {
             "colorbar": {
              "outlinewidth": 0,
              "ticks": ""
             }
            },
            "type": "scattermapbox"
           }
          ],
          "scatterpolar": [
           {
            "marker": {
             "colorbar": {
              "outlinewidth": 0,
              "ticks": ""
             }
            },
            "type": "scatterpolar"
           }
          ],
          "scatterpolargl": [
           {
            "marker": {
             "colorbar": {
              "outlinewidth": 0,
              "ticks": ""
             }
            },
            "type": "scatterpolargl"
           }
          ],
          "scatterternary": [
           {
            "marker": {
             "colorbar": {
              "outlinewidth": 0,
              "ticks": ""
             }
            },
            "type": "scatterternary"
           }
          ],
          "surface": [
           {
            "colorbar": {
             "outlinewidth": 0,
             "ticks": ""
            },
            "colorscale": [
             [
              0,
              "#0d0887"
             ],
             [
              0.1111111111111111,
              "#46039f"
             ],
             [
              0.2222222222222222,
              "#7201a8"
             ],
             [
              0.3333333333333333,
              "#9c179e"
             ],
             [
              0.4444444444444444,
              "#bd3786"
             ],
             [
              0.5555555555555556,
              "#d8576b"
             ],
             [
              0.6666666666666666,
              "#ed7953"
             ],
             [
              0.7777777777777778,
              "#fb9f3a"
             ],
             [
              0.8888888888888888,
              "#fdca26"
             ],
             [
              1,
              "#f0f921"
             ]
            ],
            "type": "surface"
           }
          ],
          "table": [
           {
            "cells": {
             "fill": {
              "color": "#EBF0F8"
             },
             "line": {
              "color": "white"
             }
            },
            "header": {
             "fill": {
              "color": "#C8D4E3"
             },
             "line": {
              "color": "white"
             }
            },
            "type": "table"
           }
          ]
         },
         "layout": {
          "annotationdefaults": {
           "arrowcolor": "#2a3f5f",
           "arrowhead": 0,
           "arrowwidth": 1
          },
          "autotypenumbers": "strict",
          "coloraxis": {
           "colorbar": {
            "outlinewidth": 0,
            "ticks": ""
           }
          },
          "colorscale": {
           "diverging": [
            [
             0,
             "#8e0152"
            ],
            [
             0.1,
             "#c51b7d"
            ],
            [
             0.2,
             "#de77ae"
            ],
            [
             0.3,
             "#f1b6da"
            ],
            [
             0.4,
             "#fde0ef"
            ],
            [
             0.5,
             "#f7f7f7"
            ],
            [
             0.6,
             "#e6f5d0"
            ],
            [
             0.7,
             "#b8e186"
            ],
            [
             0.8,
             "#7fbc41"
            ],
            [
             0.9,
             "#4d9221"
            ],
            [
             1,
             "#276419"
            ]
           ],
           "sequential": [
            [
             0,
             "#0d0887"
            ],
            [
             0.1111111111111111,
             "#46039f"
            ],
            [
             0.2222222222222222,
             "#7201a8"
            ],
            [
             0.3333333333333333,
             "#9c179e"
            ],
            [
             0.4444444444444444,
             "#bd3786"
            ],
            [
             0.5555555555555556,
             "#d8576b"
            ],
            [
             0.6666666666666666,
             "#ed7953"
            ],
            [
             0.7777777777777778,
             "#fb9f3a"
            ],
            [
             0.8888888888888888,
             "#fdca26"
            ],
            [
             1,
             "#f0f921"
            ]
           ],
           "sequentialminus": [
            [
             0,
             "#0d0887"
            ],
            [
             0.1111111111111111,
             "#46039f"
            ],
            [
             0.2222222222222222,
             "#7201a8"
            ],
            [
             0.3333333333333333,
             "#9c179e"
            ],
            [
             0.4444444444444444,
             "#bd3786"
            ],
            [
             0.5555555555555556,
             "#d8576b"
            ],
            [
             0.6666666666666666,
             "#ed7953"
            ],
            [
             0.7777777777777778,
             "#fb9f3a"
            ],
            [
             0.8888888888888888,
             "#fdca26"
            ],
            [
             1,
             "#f0f921"
            ]
           ]
          },
          "colorway": [
           "#636efa",
           "#EF553B",
           "#00cc96",
           "#ab63fa",
           "#FFA15A",
           "#19d3f3",
           "#FF6692",
           "#B6E880",
           "#FF97FF",
           "#FECB52"
          ],
          "font": {
           "color": "#2a3f5f"
          },
          "geo": {
           "bgcolor": "white",
           "lakecolor": "white",
           "landcolor": "#E5ECF6",
           "showlakes": true,
           "showland": true,
           "subunitcolor": "white"
          },
          "hoverlabel": {
           "align": "left"
          },
          "hovermode": "closest",
          "mapbox": {
           "style": "light"
          },
          "paper_bgcolor": "white",
          "plot_bgcolor": "#E5ECF6",
          "polar": {
           "angularaxis": {
            "gridcolor": "white",
            "linecolor": "white",
            "ticks": ""
           },
           "bgcolor": "#E5ECF6",
           "radialaxis": {
            "gridcolor": "white",
            "linecolor": "white",
            "ticks": ""
           }
          },
          "scene": {
           "xaxis": {
            "backgroundcolor": "#E5ECF6",
            "gridcolor": "white",
            "gridwidth": 2,
            "linecolor": "white",
            "showbackground": true,
            "ticks": "",
            "zerolinecolor": "white"
           },
           "yaxis": {
            "backgroundcolor": "#E5ECF6",
            "gridcolor": "white",
            "gridwidth": 2,
            "linecolor": "white",
            "showbackground": true,
            "ticks": "",
            "zerolinecolor": "white"
           },
           "zaxis": {
            "backgroundcolor": "#E5ECF6",
            "gridcolor": "white",
            "gridwidth": 2,
            "linecolor": "white",
            "showbackground": true,
            "ticks": "",
            "zerolinecolor": "white"
           }
          },
          "shapedefaults": {
           "line": {
            "color": "#2a3f5f"
           }
          },
          "ternary": {
           "aaxis": {
            "gridcolor": "white",
            "linecolor": "white",
            "ticks": ""
           },
           "baxis": {
            "gridcolor": "white",
            "linecolor": "white",
            "ticks": ""
           },
           "bgcolor": "#E5ECF6",
           "caxis": {
            "gridcolor": "white",
            "linecolor": "white",
            "ticks": ""
           }
          },
          "title": {
           "x": 0.05
          },
          "xaxis": {
           "automargin": true,
           "gridcolor": "white",
           "linecolor": "white",
           "ticks": "",
           "title": {
            "standoff": 15
           },
           "zerolinecolor": "white",
           "zerolinewidth": 2
          },
          "yaxis": {
           "automargin": true,
           "gridcolor": "white",
           "linecolor": "white",
           "ticks": "",
           "title": {
            "standoff": 15
           },
           "zerolinecolor": "white",
           "zerolinewidth": 2
          }
         }
        },
        "title": {
         "text": "Top 10 Lab Tests by Abnormal Results Count"
        },
        "xaxis": {
         "anchor": "y",
         "domain": [
          0,
          1
         ],
         "tickangle": 45,
         "title": {
          "text": "Lab Test"
         }
        },
        "yaxis": {
         "anchor": "x",
         "domain": [
          0,
          1
         ],
         "title": {
          "text": "Number of Abnormal Results"
         }
        }
       }
      }
     },
     "metadata": {},
     "output_type": "display_data"
    }
   ],
   "source": [
    "# Get top 10 tests by abnormal count\n",
    "top_10_tests = test_stats.nlargest(10, 'abnormal_count')\n",
    "\n",
    "# Create bar chart\n",
    "fig = px.bar(\n",
    "    top_10_tests,\n",
    "    x='label',\n",
    "    y='abnormal_count',\n",
    "    title='Top 10 Lab Tests by Abnormal Results Count',\n",
    "    labels={\n",
    "        'label': 'Lab Test',\n",
    "        'abnormal_count': 'Number of Abnormal Results'\n",
    "    },\n",
    "    hover_data={\n",
    "        'total_count': True,\n",
    "        'abnormal_count': True,\n",
    "        'abnormal_percentage': ':.2f',\n",
    "        'itemid': True\n",
    "    }\n",
    ")\n",
    "\n",
    "# Update layout for better readability\n",
    "fig.update_layout(\n",
    "    xaxis_tickangle=45,\n",
    "    height=600\n",
    ")\n",
    "\n",
    "fig.show()"
   ]
  },
  {
   "cell_type": "markdown",
   "metadata": {},
   "source": [
    "Notes:\n",
    "\n",
    "Looking at the data, we see that Hematocrit, Hemoglobin, and Red Blood Cells are the Lab tests that have the highest number of abnormal tests. Additionally, each of them have high percentage of abnormal tests. Meaning of they were abnormal over 90% of the time they were conducted."
   ]
  },
  {
   "cell_type": "markdown",
   "metadata": {},
   "source": [
    "## I will explore patients who tested abnormal for Hematocrit (itemid = 51221), Hemoglobin (itemid = 51222), and Red Blood Cells (itemid = 51279), in more detail."
   ]
  },
  {
   "cell_type": "markdown",
   "metadata": {},
   "source": [
    "#### Getting insurance, religion, and ethnicity, for each patient"
   ]
  },
  {
   "cell_type": "code",
   "execution_count": 26,
   "metadata": {},
   "outputs": [],
   "source": [
    "# Get the first occurrence of insurance, religion, and ethnicity for each subject_id\n",
    "first_admission_info = admissions.groupby('subject_id').agg({\n",
    "    'insurance': 'first',\n",
    "    'religion': 'first',\n",
    "    'ethnicity': 'first'\n",
    "}).reset_index()\n",
    "\n",
    "# Merge with patients dataframe\n",
    "patients = patients.merge(first_admission_info, on='subject_id', how='left')"
   ]
  },
  {
   "cell_type": "markdown",
   "metadata": {},
   "source": [
    "#### Analyzing the Patients that Tested Positive for Hematocrit, Hemoglobin, and Red Blood Cells"
   ]
  },
  {
   "cell_type": "code",
   "execution_count": 27,
   "metadata": {},
   "outputs": [
    {
     "name": "stdout",
     "output_type": "stream",
     "text": [
      "   row_id  subject_id gender                  dob                  dod  \\\n",
      "0    9467       10006      F  2094-03-05 00:00:00  2165-08-12 00:00:00   \n",
      "1    9472       10011      F  2090-06-05 00:00:00  2126-08-28 00:00:00   \n",
      "2    9474       10013      F  2038-09-03 00:00:00  2125-10-07 00:00:00   \n",
      "3    9478       10017      F  2075-09-21 00:00:00  2152-09-12 00:00:00   \n",
      "4    9479       10019      M  2114-06-20 00:00:00  2163-05-15 00:00:00   \n",
      "\n",
      "              dod_hosp              dod_ssn  expire_flag  age insurance  ...  \\\n",
      "0  2165-08-12 00:00:00  2165-08-12 00:00:00            1   71  Medicare  ...   \n",
      "1  2126-08-28 00:00:00                  NaN            1   36   Private  ...   \n",
      "2  2125-10-07 00:00:00  2125-10-07 00:00:00            1   87  Medicare  ...   \n",
      "3                  NaN  2152-09-12 00:00:00            1   77  Medicare  ...   \n",
      "4  2163-05-15 00:00:00  2163-05-15 00:00:00            1   48  Medicare  ...   \n",
      "\n",
      "                ethnicity total_hematocrit_tests  abnormal_hematocrit_tests  \\\n",
      "0  BLACK/AFRICAN AMERICAN                     69                       62.0   \n",
      "1   UNKNOWN/NOT SPECIFIED                     25                       24.0   \n",
      "2   UNKNOWN/NOT SPECIFIED                      2                        2.0   \n",
      "3                   WHITE                     15                       10.0   \n",
      "4                   WHITE                      5                        5.0   \n",
      "\n",
      "   hematocrit_abnormal_percentage  total_hemoglobin_tests  \\\n",
      "0                       89.855072                      64   \n",
      "1                       96.000000                      19   \n",
      "2                      100.000000                       2   \n",
      "3                       66.666667                      14   \n",
      "4                      100.000000                       3   \n",
      "\n",
      "   abnormal_hemoglobin_tests  hemoglobin_abnormal_percentage  \\\n",
      "0                         58                       90.625000   \n",
      "1                         14                       73.684211   \n",
      "2                          2                      100.000000   \n",
      "3                          9                       64.285714   \n",
      "4                          3                      100.000000   \n",
      "\n",
      "   total_red_blood_cells_tests  abnormal_red_blood_cells_tests  \\\n",
      "0                           64                              62   \n",
      "1                           19                              18   \n",
      "2                            2                               2   \n",
      "3                           14                              10   \n",
      "4                            3                               3   \n",
      "\n",
      "   red_blood_cells_abnormal_percentage  \n",
      "0                            96.875000  \n",
      "1                            94.736842  \n",
      "2                           100.000000  \n",
      "3                            71.428571  \n",
      "4                           100.000000  \n",
      "\n",
      "[5 rows x 21 columns]\n"
     ]
    }
   ],
   "source": [
    "# Get itemids for each test\n",
    "test_ids = {\n",
    "    'Hematocrit': 51221,\n",
    "    'Hemoglobin': 51222,\n",
    "    'Red Blood Cells': 51279\n",
    "}\n",
    "\n",
    "# Create counts for each test type\n",
    "for test_name, test_id in test_ids.items():\n",
    "    # Get total test counts\n",
    "    total_counts = lab_events[lab_events['itemid'] == test_id]\\\n",
    "        .groupby('subject_id').size()\\\n",
    "        .reset_index(name=f'total_{test_name.lower().replace(\" \", \"_\")}_tests')\n",
    "    \n",
    "    # Get abnormal test counts\n",
    "    abnormal_counts = lab_events[\n",
    "        (lab_events['itemid'] == test_id) & \n",
    "        (lab_events['flag'] == 'abnormal')\n",
    "    ].groupby('subject_id').size()\\\n",
    "        .reset_index(name=f'abnormal_{test_name.lower().replace(\" \", \"_\")}_tests')\n",
    "    \n",
    "    # Merge with patients dataframe\n",
    "    patients = patients.merge(total_counts, on='subject_id', how='left')\n",
    "    patients = patients.merge(abnormal_counts, on='subject_id', how='left')\n",
    "    \n",
    "    # Fill NaN values with 0\n",
    "    patients[f'total_{test_name.lower().replace(\" \", \"_\")}_tests'] = \\\n",
    "        patients[f'total_{test_name.lower().replace(\" \", \"_\")}_tests'].fillna(0)\n",
    "    patients[f'abnormal_{test_name.lower().replace(\" \", \"_\")}_tests'] = \\\n",
    "        patients[f'abnormal_{test_name.lower().replace(\" \", \"_\")}_tests'].fillna(0)\n",
    "    \n",
    "    # Add percentage column\n",
    "    test_name_lower = test_name.lower().replace(\" \", \"_\")\n",
    "    patients[f'{test_name_lower}_abnormal_percentage'] = (\n",
    "        patients[f'abnormal_{test_name_lower}_tests'] / \n",
    "        patients[f'total_{test_name_lower}_tests'] * 100\n",
    "    ).fillna(0)\n",
    "\n",
    "# Display the first few rows to verify\n",
    "print(patients.head())"
   ]
  },
  {
   "cell_type": "markdown",
   "metadata": {},
   "source": [
    "#### Analyzing Percentage of Abnormal tests as a Function of Age"
   ]
  },
  {
   "cell_type": "code",
   "execution_count": 28,
   "metadata": {},
   "outputs": [
    {
     "data": {
      "image/png": "[encoded data removed]",
      "text/plain": [
       "<Figure size 2000x600 with 3 Axes>"
      ]
     },
     "metadata": {},
     "output_type": "display_data"
    }
   ],
   "source": [
    "# Filter by age, only keep rows with <120 age\n",
    "patients = patients[patients['age'] < 120]\n",
    "\n",
    "# Create a figure with 3 subplots\n",
    "fig, (ax1, ax2, ax3) = plt.subplots(1, 3, figsize=(20, 6))\n",
    "\n",
    "# Plot for Hematocrit\n",
    "sns.scatterplot(\n",
    "    data=patients[patients['total_hematocrit_tests'] > 0],\n",
    "    x='age',\n",
    "    y='hematocrit_abnormal_percentage',\n",
    "    hue='gender',\n",
    "    alpha=0.5,\n",
    "    ax=ax1\n",
    ")\n",
    "ax1.set_title('Percentage of Abnormal Hematocrit Tests vs Age')\n",
    "ax1.set_xlabel('Age')\n",
    "ax1.set_ylabel('Percentage of Abnormal Hematocrit Tests')\n",
    "\n",
    "# Plot for Hemoglobin\n",
    "sns.scatterplot(\n",
    "    data=patients[patients['total_hemoglobin_tests'] > 0],\n",
    "    x='age',\n",
    "    y='hemoglobin_abnormal_percentage',\n",
    "    hue='gender',\n",
    "    alpha=0.5,\n",
    "    ax=ax2\n",
    ")\n",
    "ax2.set_title('Percentage of Abnormal Hemoglobin Tests vs Age')\n",
    "ax2.set_xlabel('Age')\n",
    "ax2.set_ylabel('Percentage of Abnormal Hemoglobin Tests')\n",
    "\n",
    "# Plot for Red Blood Cells\n",
    "sns.scatterplot(\n",
    "    data=patients[patients['total_red_blood_cells_tests'] > 0],\n",
    "    x='age',\n",
    "    y='red_blood_cells_abnormal_percentage',\n",
    "    hue='gender',\n",
    "    alpha=0.5,\n",
    "    ax=ax3\n",
    ")\n",
    "ax3.set_title('Percentage of Abnormal Red Blood Cells Tests vs Age')\n",
    "ax3.set_xlabel('Age')\n",
    "ax3.set_ylabel('Percentage of Abnormal Red Blood Cells Tests')\n",
    "\n",
    "# Adjust layout and display\n",
    "plt.tight_layout()\n",
    "plt.show()"
   ]
  },
  {
   "cell_type": "code",
   "execution_count": 29,
   "metadata": {},
   "outputs": [
    {
     "data": {
      "image/png": "[encoded data removed]",
      "text/plain": [
       "<Figure size 2000x600 with 3 Axes>"
      ]
     },
     "metadata": {},
     "output_type": "display_data"
    }
   ],
   "source": [
    "# Analyze Age Distribution for Patients for which 90% or more of the tests were abnormal\n",
    "# Create a figure with 3 subplots\n",
    "fig, (ax1, ax2, ax3) = plt.subplots(1, 3, figsize=(20, 6))\n",
    "\n",
    "# Plot for Hematocrit\n",
    "sns.swarmplot(\n",
    "    data=patients[\n",
    "        (patients['total_hematocrit_tests'] > 0) & \n",
    "        (patients['hematocrit_abnormal_percentage'] > 90)\n",
    "    ],\n",
    "    x='gender',\n",
    "    y='age',\n",
    "    ax=ax1\n",
    ")\n",
    "ax1.set_title('Age Distribution for Patients with >90%\\nAbnormal Hematocrit Test Results by Gender')\n",
    "ax1.set_xlabel('Gender')\n",
    "ax1.set_ylabel('Age')\n",
    "\n",
    "# Plot for Hemoglobin\n",
    "sns.swarmplot(\n",
    "    data=patients[\n",
    "        (patients['total_hemoglobin_tests'] > 0) & \n",
    "        (patients['hemoglobin_abnormal_percentage'] > 90)\n",
    "    ],\n",
    "    x='gender',\n",
    "    y='age',\n",
    "    ax=ax2\n",
    ")\n",
    "ax2.set_title('Age Distribution for Patients with >90%\\nAbnormal Hemoglobin Test Results by Gender')\n",
    "ax2.set_xlabel('Gender')\n",
    "ax2.set_ylabel('Age')\n",
    "\n",
    "# Plot for Red Blood Cells\n",
    "sns.swarmplot(\n",
    "    data=patients[\n",
    "        (patients['total_red_blood_cells_tests'] > 0) & \n",
    "        (patients['red_blood_cells_abnormal_percentage'] > 90)\n",
    "    ],\n",
    "    x='gender',\n",
    "    y='age',\n",
    "    ax=ax3\n",
    ")\n",
    "ax3.set_title('Age Distribution for Patients with >90%\\nAbnormal Red Blood Cells Test Results by Gender')\n",
    "ax3.set_xlabel('Gender')\n",
    "ax3.set_ylabel('Age')\n",
    "\n",
    "plt.tight_layout()\n",
    "plt.show()\n"
   ]
  },
  {
   "cell_type": "markdown",
   "metadata": {},
   "source": [
    "Note:\n",
    "\n",
    "Interestingly, for all three tests, men aged 60 and above tend to have a higher percentage of abnormal Hematocrit, Hemoglobin, and Red Blood Cell results compared to women in the same age group.\n",
    "Additionally, for all three tests, there are more men under the age of 60 for whom at least 90% of their test results (for each test) were abnormal compared to women under the age of 60."
   ]
  },
  {
   "cell_type": "markdown",
   "metadata": {},
   "source": [
    "#### Analyzing Percentage of Abnormal tests as a Function of Insurance"
   ]
  },
  {
   "cell_type": "code",
   "execution_count": 30,
   "metadata": {},
   "outputs": [
    {
     "data": {
      "image/png": "[encoded data removed]",
      "text/plain": [
       "<Figure size 1000x600 with 2 Axes>"
      ]
     },
     "metadata": {},
     "output_type": "display_data"
    }
   ],
   "source": [
    "# look at the patients with >90%. Then compare the drugs they were administered. See if there are commonalities in drugs, diagnosis, etc.\n",
    "# Filter rows where any of the specified columns have values > 90%\n",
    "filtered_patients_over_90 = patients[\n",
    "    (patients['hematocrit_abnormal_percentage'] > 90) |\n",
    "    (patients['hemoglobin_abnormal_percentage'] > 90) |\n",
    "    (patients['red_blood_cells_abnormal_percentage'] > 90)\n",
    "]\n",
    "\n",
    "# Create a pivot table for the heatmap\n",
    "heatmap_data = pd.DataFrame()\n",
    "\n",
    "# Create separate rows for each test type\n",
    "for test_type, column in {\n",
    "    'Hematocrit': 'hematocrit_abnormal_percentage',\n",
    "    'Hemoglobin': 'hemoglobin_abnormal_percentage', \n",
    "    'Red Blood Cells': 'red_blood_cells_abnormal_percentage'\n",
    "}.items():\n",
    "    # Count patients by insurance type for each test\n",
    "    test_counts = filtered_patients_over_90[filtered_patients_over_90[column] > 90]['insurance'].value_counts()\n",
    "    heatmap_data[test_type] = test_counts\n",
    "\n",
    "# Fill NaN values with 0 since these represent no patients meeting criteria\n",
    "heatmap_data = heatmap_data.fillna(0)\n",
    "\n",
    "# Create the heatmap\n",
    "plt.figure(figsize=(10, 6))\n",
    "sns.heatmap(heatmap_data.T, annot=True, fmt='.0f', cmap='YlOrRd')\n",
    "plt.title('Number of Patients with >90% Abnormal Test Results by Insurance Type')\n",
    "plt.xlabel('Insurance Type')\n",
    "plt.ylabel('Test Type')\n",
    "plt.tight_layout()\n",
    "plt.show()\n",
    "\n"
   ]
  },
  {
   "cell_type": "code",
   "execution_count": 31,
   "metadata": {},
   "outputs": [
    {
     "data": {
      "image/png": "[encoded data removed]",
      "text/plain": [
       "<Figure size 1000x600 with 2 Axes>"
      ]
     },
     "metadata": {},
     "output_type": "display_data"
    }
   ],
   "source": [
    "# look at the patients with <90%. Then compare the drugs they were administered. See if there are commonalities in drugs, diagnosis, etc.\n",
    "# Filter rows where any of the specified columns have values > 90%\n",
    "filtered_patients_under_90 = patients[\n",
    "    (patients['hematocrit_abnormal_percentage'] < 90) |\n",
    "    (patients['hemoglobin_abnormal_percentage'] < 90) |\n",
    "    (patients['red_blood_cells_abnormal_percentage'] < 90)\n",
    "]\n",
    "\n",
    "# Create a pivot table for the heatmap\n",
    "heatmap_data = pd.DataFrame()\n",
    "\n",
    "# Create separate rows for each test type\n",
    "for test_type, column in {\n",
    "    'Hematocrit': 'hematocrit_abnormal_percentage',\n",
    "    'Hemoglobin': 'hemoglobin_abnormal_percentage', \n",
    "    'Red Blood Cells': 'red_blood_cells_abnormal_percentage'\n",
    "}.items():\n",
    "    # Count patients by insurance type for each test\n",
    "    test_counts = filtered_patients_under_90[filtered_patients_under_90[column] > 90]['insurance'].value_counts()\n",
    "    heatmap_data[test_type] = test_counts\n",
    "\n",
    "# Fill NaN values with 0 since these represent no patients meeting criteria\n",
    "heatmap_data = heatmap_data.fillna(0)\n",
    "\n",
    "# Create the heatmap\n",
    "plt.figure(figsize=(10, 6))\n",
    "sns.heatmap(heatmap_data.T, annot=True, fmt='.0f', cmap='YlOrRd')\n",
    "plt.title('Number of Patients with <90% Abnormal Test Results by Insurance Type')\n",
    "plt.xlabel('Insurance Type')\n",
    "plt.ylabel('Test Type')\n",
    "plt.tight_layout()\n",
    "plt.show()\n",
    "\n"
   ]
  },
  {
   "cell_type": "markdown",
   "metadata": {},
   "source": [
    "Note:\n",
    "\n",
    "This data shows that most of the patients with a greater than 90% of abnormal tests have Medicare, followed by Private insurance, and then Medicaid.\n",
    "\n",
    "Note that a patient can have abnormal tests for multiple Tests, but cannot have multiple types of insurance. A patient can belong to multiple rows, within the same column, but not multiple columns within the same row."
   ]
  },
  {
   "cell_type": "markdown",
   "metadata": {},
   "source": [
    "#### Analyzing Percentage of Abnormal tests as a Function of Religion"
   ]
  },
  {
   "cell_type": "code",
   "execution_count": 32,
   "metadata": {},
   "outputs": [
    {
     "data": {
      "image/png": "[encoded data removed]",
      "text/plain": [
       "<Figure size 1000x600 with 2 Axes>"
      ]
     },
     "metadata": {},
     "output_type": "display_data"
    }
   ],
   "source": [
    "# look at the patients with >90%. Then compare the drugs they were administered. See if there are commonalities in drugs, diagnosis, etc.\n",
    "# Filter rows where any of the specified columns have values > 90%\n",
    "filtered_patients_over_90 = patients[\n",
    "    (patients['hematocrit_abnormal_percentage'] > 90) |\n",
    "    (patients['hemoglobin_abnormal_percentage'] > 90) |\n",
    "    (patients['red_blood_cells_abnormal_percentage'] > 90)\n",
    "]\n",
    "\n",
    "# Create a pivot table for the heatmap\n",
    "heatmap_data = pd.DataFrame()\n",
    "\n",
    "# Create separate rows for each test type\n",
    "for test_type, column in {\n",
    "    'Hematocrit': 'hematocrit_abnormal_percentage',\n",
    "    'Hemoglobin': 'hemoglobin_abnormal_percentage', \n",
    "    'Red Blood Cells': 'red_blood_cells_abnormal_percentage'\n",
    "}.items():\n",
    "    # Count patients by insurance type for each test\n",
    "    test_counts = filtered_patients_over_90[filtered_patients_over_90[column] > 90]['religion'].value_counts()\n",
    "    heatmap_data[test_type] = test_counts\n",
    "\n",
    "# Fill NaN values with 0 since these represent no patients meeting criteria\n",
    "heatmap_data = heatmap_data.fillna(0)\n",
    "\n",
    "# Create the heatmap\n",
    "plt.figure(figsize=(10, 6))\n",
    "sns.heatmap(heatmap_data.T, annot=True, fmt='.0f', cmap='YlOrRd')\n",
    "plt.title('Number of Patients with >90% Abnormal Test Results by Religion')\n",
    "plt.xlabel('Religion')\n",
    "plt.ylabel('Test Type')\n",
    "plt.tight_layout()\n",
    "plt.show()\n",
    "\n"
   ]
  },
  {
   "cell_type": "code",
   "execution_count": 33,
   "metadata": {},
   "outputs": [
    {
     "data": {
      "image/png": "[encoded data removed]",
      "text/plain": [
       "<Figure size 1000x600 with 2 Axes>"
      ]
     },
     "metadata": {},
     "output_type": "display_data"
    }
   ],
   "source": [
    "# look at the patients with <90%. Then compare the drugs they were administered. See if there are commonalities in drugs, diagnosis, etc.\n",
    "# Filter rows where any of the specified columns have values > 90%\n",
    "filtered_patients_under_90 = patients[\n",
    "    (patients['hematocrit_abnormal_percentage'] < 90) |\n",
    "    (patients['hemoglobin_abnormal_percentage'] < 90) |\n",
    "    (patients['red_blood_cells_abnormal_percentage'] < 90)\n",
    "]\n",
    "\n",
    "# Create a pivot table for the heatmap\n",
    "heatmap_data = pd.DataFrame()\n",
    "\n",
    "# Create separate rows for each test type\n",
    "for test_type, column in {\n",
    "    'Hematocrit': 'hematocrit_abnormal_percentage',\n",
    "    'Hemoglobin': 'hemoglobin_abnormal_percentage', \n",
    "    'Red Blood Cells': 'red_blood_cells_abnormal_percentage'\n",
    "}.items():\n",
    "    # Count patients by insurance type for each test\n",
    "    test_counts = filtered_patients_under_90[filtered_patients_under_90[column] > 90]['religion'].value_counts()\n",
    "    heatmap_data[test_type] = test_counts\n",
    "\n",
    "# Fill NaN values with 0 since these represent no patients meeting criteria\n",
    "heatmap_data = heatmap_data.fillna(0)\n",
    "\n",
    "# Create the heatmap\n",
    "plt.figure(figsize=(10, 6))\n",
    "sns.heatmap(heatmap_data.T, annot=True, fmt='.0f', cmap='YlOrRd')\n",
    "plt.title('Number of Patients with <90% Abnormal Test Results by Religion')\n",
    "plt.xlabel('Religion')\n",
    "plt.ylabel('Test Type')\n",
    "plt.tight_layout()\n",
    "plt.show()\n",
    "\n"
   ]
  },
  {
   "cell_type": "markdown",
   "metadata": {},
   "source": [
    "Note:\n",
    "\n",
    "This data shows that most of the patients with a greater than 90% of abnormal tests are Catholic."
   ]
  },
  {
   "cell_type": "markdown",
   "metadata": {},
   "source": [
    "## Analyzing Prescription Data"
   ]
  },
  {
   "cell_type": "code",
   "execution_count": 34,
   "metadata": {},
   "outputs": [
    {
     "data": {
      "application/vnd.plotly.v1+json": {
       "config": {
        "plotlyServerURL": "https://plot.ly"
       },
       "data": [
        {
         "branchvalues": "total",
         "customdata": [
          [
           "AcetaZOLamide",
           "AcetaZOLamide"
          ],
          [
           "Acetaminophen",
           "(?)"
          ],
          [
           "Acetaminophen (Liquid)",
           "Acetaminophen (Liquid)"
          ],
          [
           "Acetaminophen IV",
           "Acetaminophen IV"
          ],
          [
           "Acetaminophen w/Codeine",
           "Acetaminophen w/Codeine"
          ],
          [
           "Acetylcysteine 20%",
           "Acetylcysteine 20%"
          ],
          [
           "Acular",
           "*NF* Ketorolac 0.5% Ophth Soln"
          ],
          [
           "Acyclovir",
           "Acyclovir"
          ],
          [
           "Adenosine",
           "Adenosine"
          ],
          [
           "Albumin 25% (12.5 g)",
           "Albumin 25% (12.5 g)"
          ],
          [
           "Albumin 25% (12.5g / 50mL)",
           "Albumin 25% (12.5g / 50mL)"
          ],
          [
           "Albumin 25% (12.5gm)",
           "Albumin 25% (12.5gm)"
          ],
          [
           "Albumin 5% (12.5g / 250mL)",
           "Albumin 5% (12.5g / 250mL)"
          ],
          [
           "Albumin 5% (25 g)",
           "Albumin 5% (25 g)"
          ],
          [
           "Albumin 5% (25g / 500mL)",
           "Albumin 5% (25g / 500mL)"
          ],
          [
           "Albuterol",
           "Albuterol Inhaler"
          ],
          [
           "Albuterol 0.083% Neb Soln",
           "Albuterol 0.083% Neb Soln"
          ],
          [
           "Albuterol Inhaler",
           "(?)"
          ],
          [
           "Albuterol MDI",
           "Albuterol Inhaler"
          ],
          [
           "Albuterol Neb Soln",
           "Albuterol Neb Soln"
          ],
          [
           "Albuterol-Ipratropium",
           "Albuterol Sulfate-Ipratropium"
          ],
          [
           "Alendronate Sodium",
           "Alendronate Sodium"
          ],
          [
           "Allopurinol",
           "Allopurinol"
          ],
          [
           "Alprazolam",
           "Alprazolam"
          ],
          [
           "Alteplase (Catheter Clearance)",
           "Alteplase (Catheter Clearance)"
          ],
          [
           "Aluminum Hydroxide Suspension",
           "Aluminum Hydroxide"
          ],
          [
           "Aluminum-Magnesium Hydrox.-Simethicone",
           "Aluminum-Magnesium Hydrox.-Simethicone"
          ],
          [
           "Amiodarone",
           "Amiodarone"
          ],
          [
           "Amiodarone HCl",
           "Amiodarone HCl"
          ],
          [
           "Amlodipine",
           "Amlodipine"
          ],
          [
           "Amoxicillin-Clavulanic Acid",
           "Amoxicillin-Clavulanic Acid"
          ],
          [
           "Ampicillin",
           "Ampicillin"
          ],
          [
           "Artificial Tear Ointment",
           "Artificial Tear Ointment"
          ],
          [
           "Artificial Tears",
           "(?)"
          ],
          [
           "Artificial Tears Preserv. Free",
           "Artificial Tears Preserv. Free"
          ],
          [
           "Ascorbic Acid",
           "(?)"
          ],
          [
           "Ascorbic Acid (Liquid)",
           "Ascorbic Acid (Liquid)"
          ],
          [
           "Aspirin",
           "(?)"
          ],
          [
           "Aspirin EC",
           "Aspirin EC"
          ],
          [
           "Atenolol",
           "Atenolol"
          ],
          [
           "Atorvastatin",
           "Atorvastatin"
          ],
          [
           "Atovaquone Suspension",
           "Atovaquone Suspension"
          ],
          [
           "Atropine Sulfate",
           "Atropine Sulfate"
          ],
          [
           "Azithromycin",
           "Azithromycin"
          ],
          [
           "Bacitracin Ointment",
           "Bacitracin Ointment"
          ],
          [
           "Bacitracin/Polymyxin B Sulfate Opht. Oint",
           "Bacitracin/Polymyxin B Sulfate Opht. Oint"
          ],
          [
           "Baclofen",
           "Baclofen"
          ],
          [
           "Benzocaine 20% Spray",
           "Benzocaine 20% Spray"
          ],
          [
           "Benzonatate",
           "Benzonatate"
          ],
          [
           "Bisacodyl",
           "(?)"
          ],
          [
           "Bismuth Subsalicylate",
           "Bismuth Subsalicylate"
          ],
          [
           "Brimonidine Tartrate 0.15% Ophth.",
           "Brimonidine Tartrate 0.15% Ophth."
          ],
          [
           "Bupivacaine 0.75%",
           "Bupivacaine 0.75%"
          ],
          [
           "Butalbital-Acet-Caffeine",
           "Butalbital-Acet-Caffeine"
          ],
          [
           "Calcitriol",
           "Calcitriol"
          ],
          [
           "Calcium Carbonate",
           "(?)"
          ],
          [
           "Calcium Chloride",
           "Calcium Chloride"
          ],
          [
           "Calcium Gluconate",
           "Calcium Gluconate"
          ],
          [
           "Calcium Replacement (Oncology)",
           "Calcium Gluconate"
          ],
          [
           "Candesartan",
           "*NF* Candesartan Cilexetil"
          ],
          [
           "Caphosol",
           "Caphosol"
          ],
          [
           "Capsaicin 0.025%",
           "Capsaicin 0.025%"
          ],
          [
           "Captopril",
           "Captopril"
          ],
          [
           "Carbidopa-Levodopa (10-100)",
           "Carbidopa-Levodopa (10-100)"
          ],
          [
           "Carbidopa-Levodopa (25-250)",
           "Carbidopa-Levodopa (25-250)"
          ],
          [
           "Carbidopa-Levodopa CR (25-100)",
           "Carbidopa-Levodopa CR (25-100)"
          ],
          [
           "Carvedilol",
           "Carvedilol"
          ],
          [
           "Cefpodoxime Proxetil",
           "Cefpodoxime Proxetil"
          ],
          [
           "Cepacol (Menthol)",
           "Cepacol (Menthol)"
          ],
          [
           "Cephalexin",
           "Cephalexin"
          ],
          [
           "Cetylpyridinium Chl (Cepacol)",
           "Cetylpyridinium Chl (Cepacol)"
          ],
          [
           "Chlorhexidine Gluconate",
           "Chlorhexidine Gluconate"
          ],
          [
           "Chlorhexidine Gluconate 0.12% Oral Rinse",
           "Chlorhexidine Gluconate"
          ],
          [
           "ChlorproMAZINE",
           "ChlorproMAZINE"
          ],
          [
           "Cilostazol",
           "*NF* Cilostazol"
          ],
          [
           "Cimetidine",
           "Cimetidine"
          ],
          [
           "Cinacalcet",
           "Cinacalcet"
          ],
          [
           "Ciprofloxacin 0.3% Ophth Soln",
           "Ciprofloxacin 0.3% Ophth Soln"
          ],
          [
           "Ciprofloxacin HCl",
           "Ciprofloxacin HCl"
          ],
          [
           "Cisatracurium Besylate",
           "Cisatracurium Besylate"
          ],
          [
           "Citalopram",
           "Citalopram"
          ],
          [
           "Citalopram Hydrobromide",
           "Citalopram Hydrobromide"
          ],
          [
           "Clarithromycin",
           "Clarithromycin"
          ],
          [
           "Clindamycin Suspension",
           "Clindamycin Suspension"
          ],
          [
           "Clonazepam",
           "Clonazepam"
          ],
          [
           "CloniDINE",
           "CloniDINE"
          ],
          [
           "Clonidine Patch 0.1 mg/24 hr",
           "Clonidine Patch 0.1 mg/24 hr"
          ],
          [
           "Clonidine Patch 0.3 mg/24 hr",
           "Clonidine Patch 0.3 mg/24 hr"
          ],
          [
           "Clopidogrel",
           "Clopidogrel"
          ],
          [
           "Clopidogrel Bisulfate",
           "Clopidogrel Bisulfate"
          ],
          [
           "Clotrimazole",
           "Clotrimazole"
          ],
          [
           "Clotrimazole Cream",
           "Clotrimazole Cream"
          ],
          [
           "Codeine Sulfate",
           "Codeine"
          ],
          [
           "Collagenase Ointment",
           "Collagenase Ointment"
          ],
          [
           "Cosyntropin",
           "Cosyntropin"
          ],
          [
           "Creon 10",
           "Creon 10"
          ],
          [
           "Creon 12",
           "Creon 12"
          ],
          [
           "Cromolyn",
           "*NF* Cromolyn Sodium 4% Opth"
          ],
          [
           "Cyanocobalamin",
           "Cyanocobalamin"
          ],
          [
           "Cyproheptadine",
           "Cyproheptadine"
          ],
          [
           "Danazol",
           "Danazol"
          ],
          [
           "Dapsone",
           "Dapsone"
          ],
          [
           "Desitin",
           "Desitin"
          ],
          [
           "Dexamethasone",
           "(?)"
          ],
          [
           "Dextromethorphan-Guaifenesin (Sugar Free)",
           "Dextromethorphan-Guaifenesin (Sugar Free)"
          ],
          [
           "Dextrose 50%",
           "Dextrose 50%"
          ],
          [
           "Diazepam",
           "Diazepam"
          ],
          [
           "Dicloxacillin",
           "Dicloxacillin"
          ],
          [
           "Digoxin",
           "Digoxin"
          ],
          [
           "Diltiazem",
           "Diltiazem"
          ],
          [
           "Diltiazem Extended-Release",
           "Diltiazem Extended-Release"
          ],
          [
           "DiphenhydrAMINE",
           "DiphenhydrAMINE"
          ],
          [
           "DiphenhydrAMINE HCl",
           "DiphenhydrAMINE HCl"
          ],
          [
           "Diphenhydramine HCl",
           "Diphenhydramine HCl"
          ],
          [
           "Divalproex (EXTended Release)",
           "Divalproex (EXTended Release)"
          ],
          [
           "Divalproex Sod. Sprinkles",
           "Divalproex Sod. Sprinkles"
          ],
          [
           "Docusate Sodium",
           "(?)"
          ],
          [
           "Docusate Sodium (Liquid)",
           "(?)"
          ],
          [
           "Dolasetron Mesylate",
           "Dolasetron Mesylate"
          ],
          [
           "Donepezil",
           "(?)"
          ],
          [
           "Donepezil 5 mg or Placebo",
           "Donepezil Study Drug (*IND*)"
          ],
          [
           "Dorzolamide 2%/Timolol 0.5% Ophth.",
           "Dorzolamide 2%/Timolol 0.5% Ophth."
          ],
          [
           "Doxazosin",
           "Doxazosin"
          ],
          [
           "Doxycycline Hyclate",
           "Doxycycline Hyclate"
          ],
          [
           "Dronabinol",
           "Dronabinol"
          ],
          [
           "Duloxetine",
           "Duloxetine"
          ],
          [
           "Enalapril Maleate",
           "Enalapril Maleate"
          ],
          [
           "Enalaprilat",
           "Enalaprilat"
          ],
          [
           "Enoxaparin Sodium",
           "Enoxaparin Sodium"
          ],
          [
           "Epinephrine HCl",
           "Epinephrine-Sodium Chloride"
          ],
          [
           "Epoetin Alfa",
           "Epoetin Alfa"
          ],
          [
           "Erythromycin 0.5% Ophth Oint",
           "Erythromycin 0.5% Ophth Oint"
          ],
          [
           "Escitalopram Oxalate",
           "Escitalopram Oxalate"
          ],
          [
           "Esmolol",
           "Esmolol"
          ],
          [
           "Estrogens Conjugated",
           "Estrogens Conjugated Vaginal"
          ],
          [
           "Ethambutol HCl",
           "Ethambutol HCl"
          ],
          [
           "Etomidate",
           "Etomidate"
          ],
          [
           "Exelon",
           "*NF* Rivastigmine Tartrate"
          ],
          [
           "Famotidine",
           "Famotidine (PO)"
          ],
          [
           "Felodipine",
           "Felodipine"
          ],
          [
           "Fentanyl Citrate",
           "(?)"
          ],
          [
           "Fentanyl Patch",
           "(?)"
          ],
          [
           "Ferrous Gluconate",
           "Ferrous GLUCONATE"
          ],
          [
           "Ferrous Sulfate",
           "(?)"
          ],
          [
           "Ferrous Sulfate (Liquid)",
           "Ferrous Sulfate (Liquid)"
          ],
          [
           "Finasteride",
           "Finasteride"
          ],
          [
           "Fleet Enema",
           "Fleet Enema"
          ],
          [
           "Fleet Phospho-Soda",
           "Fleet Phospho-Soda"
          ],
          [
           "Fluconazole",
           "Fluconazole"
          ],
          [
           "Fludrocortisone Acetate",
           "Fludrocortisone Acetate"
          ],
          [
           "Flumazenil",
           "Flumazenil"
          ],
          [
           "Fluocinonide 0.05% Ointment",
           "Fluocinonide 0.05% Ointment"
          ],
          [
           "Fluticasone Propionate 110mcg",
           "Fluticasone Propionate 110mcg"
          ],
          [
           "Fluticasone Propionate NASAL",
           "Fluticasone Propionate NASAL"
          ],
          [
           "Fluticasone-Salmeterol (100/50)",
           "Fluticasone-Salmeterol (100/50)"
          ],
          [
           "Fluticasone-Salmeterol (250/50) ",
           "Fluticasone-Salmeterol (250/50) "
          ],
          [
           "Fluticasone-Salmeterol Diskus (100/50)",
           "Fluticasone-Salmeterol Diskus (100/50)"
          ],
          [
           "Fluticasone-Salmeterol Diskus (250/50) ",
           "Fluticasone-Salmeterol Diskus (250/50) "
          ],
          [
           "FoLIC Acid",
           "FoLIC Acid"
          ],
          [
           "Folic Acid",
           "Folic Acid"
          ],
          [
           "Fondaparinux Sodium",
           "Fondaparinux Sodium"
          ],
          [
           "Fosinopril",
           "*NF* Fosinopril Sodium"
          ],
          [
           "Furosemide",
           "Furosemide"
          ],
          [
           "Gabapentin",
           "(?)"
          ],
          [
           "Gelclair",
           "Gelclair"
          ],
          [
           "GlipiZIDE",
           "GlipiZIDE"
          ],
          [
           "GlipiZIDE XL",
           "GlipiZIDE XL"
          ],
          [
           "Glipizide",
           "Glipizide"
          ],
          [
           "Glucagon",
           "Glucagon"
          ],
          [
           "Glyburide",
           "Glyburide"
          ],
          [
           "Glycopyrrolate",
           "Glycopyrrolate"
          ],
          [
           "Golytely",
           "Golytely"
          ],
          [
           "Guaifenesin",
           "Guaifenesin"
          ],
          [
           "Guaifenesin-Codeine Phosphate",
           "Guaifenesin-Codeine Phosphate"
          ],
          [
           "Guaifenesin-Dextromethorphan",
           "Guaifenesin-Dextromethorphan"
          ],
          [
           "HYDROmorphone (Dilaudid)",
           "(?)"
          ],
          [
           "Haloperidol",
           "Haloperidol"
          ],
          [
           "Heparin",
           "Heparin Sodium"
          ],
          [
           "Heparin CRRT",
           "Heparin"
          ],
          [
           "Heparin Flush ",
           "Heparin"
          ],
          [
           "Heparin Flush (10 units/ml)",
           "(?)"
          ],
          [
           "Heparin Flush (100 units/ml)",
           "(?)"
          ],
          [
           "Heparin Flush (5000 Units/mL)",
           "Heparin Sodium"
          ],
          [
           "Heparin Flush CRRT (5000 Units/mL)",
           "Heparin Sodium"
          ],
          [
           "Heparin Flush CVL  (100 units/ml)",
           "Heparin Flush"
          ],
          [
           "Heparin Flush Hickman (100 units/ml)",
           "Heparin Flush"
          ],
          [
           "Heparin Flush PICC (100 units/ml)",
           "Heparin Flush"
          ],
          [
           "Heparin Lock Flush",
           "Heparin Lock Flush"
          ],
          [
           "HydrALAZINE HCl",
           "HydrALAZINE HCl"
          ],
          [
           "HydrALAzine",
           "HydrALAzine"
          ],
          [
           "Hydralazine HCl",
           "Hydralazine HCl"
          ],
          [
           "Hydrochlorothiazide",
           "Hydrochlorothiazide"
          ],
          [
           "Hydrocodone-Acetaminophen",
           "Hydrocodone-Acetaminophen"
          ],
          [
           "Hydrocortisone",
           "Hydrocortisone"
          ],
          [
           "Hydrocortisone Na Succ.",
           "(?)"
          ],
          [
           "Hydromorphone",
           "(?)"
          ],
          [
           "Hydroxyurea",
           "Hydroxyurea"
          ],
          [
           "Hyoscyamine",
           "Hyoscyamine"
          ],
          [
           "Ibuprofen Suspension",
           "Ibuprofen Suspension"
          ],
          [
           "Imipramine",
           "Imipramine"
          ],
          [
           "Indomethacin",
           "Indomethacin"
          ],
          [
           "Influenza Virus Vaccine",
           "(?)"
          ],
          [
           "Insulin",
           "(?)"
          ],
          [
           "Ipratropium Bromide MDI",
           "(?)"
          ],
          [
           "Ipratropium Bromide Neb",
           "Ipratropium Bromide Neb"
          ],
          [
           "Isoniazid",
           "Isoniazid"
          ],
          [
           "Isosorbide Dinitrate",
           "Isosorbide Dinitrate"
          ],
          [
           "Isosorbide Mononitrate (Extended Release)",
           "Isosorbide Mononitrate (Extended Release)"
          ],
          [
           "Ketorolac",
           "Ketorolac"
          ],
          [
           "Labetalol",
           "Labetalol"
          ],
          [
           "Labetalol HCl",
           "Labetalol HCl"
          ],
          [
           "Lacri-Lube Oint",
           "Lacri-Lube Oint"
          ],
          [
           "Lactulose",
           "(?)"
          ],
          [
           "Lactulose Enema",
           "Lactulose Enema"
          ],
          [
           "Lansoprazole",
           "Lansoprazole Oral Suspension"
          ],
          [
           "Lansoprazole Oral Disintegrating Tab",
           "Lansoprazole Oral Disintegrating Tab"
          ],
          [
           "Lansoprazole Oral Solution",
           "Lansoprazole Oral Solution"
          ],
          [
           "Lansoprazole Oral Suspension",
           "Lansoprazole Oral Suspension"
          ],
          [
           "Latanoprost 0.005% Ophth. Soln.",
           "Latanoprost 0.005% Ophth. Soln."
          ],
          [
           "LeVETiracetam",
           "LeVETiracetam"
          ],
          [
           "LeVETiracetam Solution",
           "LeVETiracetam Solution"
          ],
          [
           "Leucovorin Calcium",
           "Leucovorin Calcium"
          ],
          [
           "Levalbuterol HCl",
           "*NF* Levalbuterol Soln"
          ],
          [
           "Levetiracetam",
           "Levetiracetam"
          ],
          [
           "Levofloxacin",
           "Levofloxacin"
          ],
          [
           "Levothyroxine Sodium",
           "(?)"
          ],
          [
           "Lidocaine",
           "Lidocaine"
          ],
          [
           "Lidocaine 1%",
           "(?)"
          ],
          [
           "Lidocaine 1%/Epinephrine 1:100000",
           "Lidocaine 1%/Epinephrine 1:100000"
          ],
          [
           "Lidocaine 2%",
           "Lidocaine 2% P.F."
          ],
          [
           "Lidocaine 5% Patch",
           "Lidocaine 5% Patch"
          ],
          [
           "Lidocaine Jelly 2%",
           "(?)"
          ],
          [
           "Lidocaine Jelly 2% (Urojet)",
           "Lidocaine Jelly 2% (Urojet)"
          ],
          [
           "Lidocaine Viscous 2%",
           "Lidocaine Viscous 2%"
          ],
          [
           "Linezolid",
           "Linezolid"
          ],
          [
           "Lisinopril",
           "Lisinopril"
          ],
          [
           "Loperamide",
           "Loperamide"
          ],
          [
           "Loperamide HCl",
           "Loperamide HCl"
          ],
          [
           "Lorazepam",
           "Lorazepam"
          ],
          [
           "Losartan Potassium",
           "Losartan Potassium"
          ],
          [
           "Lumigan",
           "*NF* Bimatoprost  0.03%  Ophth"
          ],
          [
           "Maalox/Diphenhydramine/Lidocaine",
           "Maalox/Diphenhydramine/Lidocaine"
          ],
          [
           "Magnesium Citrate",
           "Magnesium Citrate"
          ],
          [
           "Magnesium Oxide",
           "Magnesium Oxide"
          ],
          [
           "Magnesium Sulfate",
           "Magnesium Sulfate"
          ],
          [
           "Meclizine",
           "Meclizine"
          ],
          [
           "Megestrol Acetate",
           "Megestrol Oral Suspension"
          ],
          [
           "Meperidine",
           "Meperidine"
          ],
          [
           "MetRONIDAZOLE (FLagyl)",
           "MetRONIDAZOLE (FLagyl)"
          ],
          [
           "Metformin",
           "Metformin"
          ],
          [
           "Methadone",
           "Methadone"
          ],
          [
           "Methadone HCl",
           "(?)"
          ],
          [
           "Methimazole",
           "Methimazole"
          ],
          [
           "MethylPREDNISolone Sodium Succ",
           "MethylPREDNISolone Sodium Succ"
          ],
          [
           "Methylene Blue 1%",
           "Methylene Blue 1%"
          ],
          [
           "Methylnaltrexone",
           "Methylnaltrexone"
          ],
          [
           "Methylprednisolone",
           "MethylPREDNISolone"
          ],
          [
           "Metoclopramide",
           "(?)"
          ],
          [
           "Metolazone",
           "Metolazone"
          ],
          [
           "Metoprolol",
           "Metoprolol"
          ],
          [
           "Metoprolol Succinate XL",
           "Metoprolol Succinate XL"
          ],
          [
           "Metoprolol Tartrate",
           "Metoprolol Tartrate"
          ],
          [
           "Metoprolol XL",
           "Metoprolol XL"
          ],
          [
           "Metronidazole",
           "Metronidazole"
          ],
          [
           "Miconazole Powder 2%",
           "Miconazole Powder 2%"
          ],
          [
           "Midazolam",
           "Midazolam"
          ],
          [
           "Midazolam HCl",
           "Midazolam HCl"
          ],
          [
           "Midodrine",
           "Midodrine"
          ],
          [
           "Milk of Magnesia",
           "Milk Of Magnesia"
          ],
          [
           "Mineral Oil",
           "Mineral Oil"
          ],
          [
           "Mirtazapine",
           "(?)"
          ],
          [
           "Moexipril HCl",
           "Moexipril HCl"
          ],
          [
           "Montelukast Sodium",
           "Montelukast"
          ],
          [
           "Morphine SR (MS Contin)",
           "Morphine SR (MS Contin)"
          ],
          [
           "Morphine Sulfate",
           "(?)"
          ],
          [
           "Morphine Sulfate (Concentrated Oral Soln)",
           "Morphine Sulfate (Concentrated Oral Soln)"
          ],
          [
           "Morphine Sulfate (Oral Soln.)",
           "Morphine Sulfate (Oral Soln.)"
          ],
          [
           "Morphine Sulfate IR",
           "(?)"
          ],
          [
           "Multiple Vitamins Liq.",
           "Multiple Vitamins Liq."
          ],
          [
           "Multivitamins",
           "(?)"
          ],
          [
           "Multivitamins W/minerals",
           "(?)"
          ],
          [
           "NIFEdipine CR",
           "NIFEdipine CR"
          ],
          [
           "Nadolol",
           "Nadolol"
          ],
          [
           "Naloxone",
           "(?)"
          ],
          [
           "Naphazoline-Pheniramine Ophth. Solution",
           "Naphazoline-Pheniramine Ophth. Solution"
          ],
          [
           "Naproxen",
           "Naproxen"
          ],
          [
           "Neomycin-Polymyxin-Dexameth Ophth. Oint",
           "Neomycin-Polymyxin-Dexameth Ophth. Oint"
          ],
          [
           "Neostigmine",
           "Neostigmine"
          ],
          [
           "Nephrocaps",
           "Nephrocaps"
          ],
          [
           "Neutra-Phos",
           "Neutra-Phos"
          ],
          [
           "Nicotine Patch",
           "Nicotine Patch"
          ],
          [
           "Nitrofurantoin (Macrodantin)",
           "Nitrofurantoin (Macrodantin)"
          ],
          [
           "Nitroglycerin Oint. 2%",
           "Nitroglycerin Oint. 2%"
          ],
          [
           "Nitroglycerin Ointment  2%",
           "Nitroglycerin Ointment  2%"
          ],
          [
           "Nitroglycerin SL",
           "Nitroglycerin SL"
          ],
          [
           "Nortriptyline",
           "Nortriptyline HCl"
          ],
          [
           "Ny",
           "Nystatin Oral Suspension"
          ],
          [
           "Nystatin",
           "Nystatin Oral Suspension"
          ],
          [
           "Nystatin Cream",
           "Nystatin Cream"
          ],
          [
           "Nystatin Ointment",
           "Nystatin Ointment"
          ],
          [
           "Nystatin Oral Susp.",
           "Nystatin Oral Susp."
          ],
          [
           "Nystatin Oral Suspension",
           "Nystatin Oral Suspension"
          ],
          [
           "Nystatin-Triamcinolone Cream",
           "Nystatin-Triamcinolone Cream"
          ],
          [
           "Nystatin-Triamcinolone Ointment",
           "Nystatin-Triamcinolone Ointment"
          ],
          [
           "Olanzapine",
           "Olanzapine"
          ],
          [
           "Olanzapine (Disintegrating Tablet)",
           "Olanzapine (Disintegrating Tablet)"
          ],
          [
           "Omeprazole",
           "Omeprazole"
          ],
          [
           "Ondansetron",
           "Ondansetron"
          ],
          [
           "Ondansetron ODT",
           "Ondansetron ODT"
          ],
          [
           "Oxybutynin",
           "Oxybutynin"
          ],
          [
           "OxycoDONE (Immediate Release) ",
           "OxycoDONE (Immediate Release) "
          ],
          [
           "OxycoDONE Liquid",
           "OxycoDONE Liquid"
          ],
          [
           "OxycoDONE-Acetaminophen Elixir",
           "OxycoDONE-Acetaminophen Elixir"
          ],
          [
           "Oxycodone",
           "Oxycodone"
          ],
          [
           "Oxycodone-Acetaminophen",
           "(?)"
          ],
          [
           "Oxycodone-Acetaminophen Elixir",
           "Oxycodone-Acetaminophen Elixir"
          ],
          [
           "PHENObarbital",
           "(?)"
          ],
          [
           "Pancrelipase 5000",
           "Pancrelipase 5000"
          ],
          [
           "Pantoprazole",
           "Pantoprazole"
          ],
          [
           "Papain 2.5 % Solution",
           "Papain 2.5 % Solution"
          ],
          [
           "Paroxetine",
           "(?)"
          ],
          [
           "Paroxetine HCl",
           "Paroxetine HCl"
          ],
          [
           "Penicillin V Potassium",
           "Penicillin V Potassium"
          ],
          [
           "Pentamidine-Inhalation",
           "Pentamidine-Inhalation"
          ],
          [
           "Phenazopyridine",
           "Phenazopyridine"
          ],
          [
           "Phenazopyridine HCl",
           "Phenazopyridine HCl"
          ],
          [
           "Phenytoin",
           "(?)"
          ],
          [
           "Phosphorus",
           "Phosphorus"
          ],
          [
           "Phytonadione",
           "(?)"
          ],
          [
           "Pletal",
           "*NF* Cilostazol"
          ],
          [
           "Pneumococcal Vac Polyvalent",
           "(?)"
          ],
          [
           "Polyethylene Glycol",
           "Polyethylene Glycol"
          ],
          [
           "Potassium Chloride",
           "(?)"
          ],
          [
           "Potassium Chloride (Powder)",
           "Potassium Chloride (Powder)"
          ],
          [
           "Potassium Chloride Replacement (Oncology)",
           "(?)"
          ],
          [
           "Pravastatin",
           "Pravastatin"
          ],
          [
           "PredniSONE",
           "PredniSONE"
          ],
          [
           "PrednisoLONE Acetate 1% Ophth. Susp.",
           "PrednisoLONE Acetate 1% Ophth. Susp."
          ],
          [
           "Prednisone",
           "Prednisone"
          ],
          [
           "Pregabalin",
           "Pregabalin"
          ],
          [
           "Prochlorperazine",
           "(?)"
          ],
          [
           "Promethazine",
           "Promethazine"
          ],
          [
           "Promethazine HCl",
           "Promethazine HCl"
          ],
          [
           "Propofol",
           "Propofol"
          ],
          [
           "Propofol (Generic)",
           "Propofol (Generic)"
          ],
          [
           "Propoxyphene Nap.-Apap (N-100)",
           "Propoxyphene Nap.-Apap (N-100)"
          ],
          [
           "Propra",
           "Propranolol LA"
          ],
          [
           "Propranolol",
           "Propranolol"
          ],
          [
           "Pseudoephedrine HCl",
           "Pseudoephedrine HCl"
          ],
          [
           "Pyrazinamide",
           "Pyrazinamide"
          ],
          [
           "Pyridoxine HCl",
           "Pyridoxine HCl"
          ],
          [
           "Quetiapine Fumarate",
           "Quetiapine Fumarate"
          ],
          [
           "Quinapril",
           "Quinapril"
          ],
          [
           "Quinidine Gluconate",
           "Quinidine Gluconate"
          ],
          [
           "Ranitidine",
           "(?)"
          ],
          [
           "Rifampin",
           "Rifampin"
          ],
          [
           "Rifaximin",
           "Rifaximin"
          ],
          [
           "Risperidone",
           "Risperidone"
          ],
          [
           "Rosuvastatin Calcium",
           "Rosuvastatin Calcium"
          ],
          [
           "Salmeterol Xinafoate Diskus (50 mcg)",
           "Salmeterol Xinafoate Diskus (50 mcg)"
          ],
          [
           "Sarna Lotion",
           "Sarna Lotion"
          ],
          [
           "Scopolamine Patch",
           "Scopolamine Patch"
          ],
          [
           "Senna",
           "Senna"
          ],
          [
           "Sertraline",
           "Sertraline"
          ],
          [
           "Sevelamer",
           "Sevelamer HCl"
          ],
          [
           "Simethicone",
           "Simethicone"
          ],
          [
           "Simvastatin",
           "Simvastatin"
          ],
          [
           "Sirolimus",
           "Sirolimus"
          ],
          [
           "Sodium Bicarbo",
           "Sodium Bicarbonate"
          ],
          [
           "Sodium Bicarbonate",
           "Sodium Bicarbonate"
          ],
          [
           "Sodium CITRATE 4%",
           "Sodium CITRATE 4%"
          ],
          [
           "Sodium Chloride",
           "Sodium Chloride"
          ],
          [
           "Sodium Chloride 0.9%  Flush",
           "Sodium Chloride 0.9%  Flush"
          ],
          [
           "Sodium Chloride Nasal",
           "Sodium Chloride Nasal"
          ],
          [
           "Sodium Polystyrene Sulfonate",
           "Sodium Polystyrene Sulfonate"
          ],
          [
           "Spironolactone",
           "Spironolactone"
          ],
          [
           "Succinylcholine",
           "Succinylcholine"
          ],
          [
           "Sucralfate",
           "Sucralfate"
          ],
          [
           "Sulfameth/Trimethoprim DS",
           "Sulfameth/Trimethoprim DS"
          ],
          [
           "Sulfameth/Trimethoprim SS",
           "Sulfameth/Trimethoprim SS"
          ],
          [
           "Sulfameth/Trimethoprim Suspension",
           "Sulfameth/Trimethoprim Suspension"
          ],
          [
           "Sumatriptan Succinate",
           "Sumatriptan Succinate"
          ],
          [
           "Tacrolimus",
           "Tacrolimus"
          ],
          [
           "Tamsulosin",
           "Tamsulosin"
          ],
          [
           "Tarceva",
           "Tarceva"
          ],
          [
           "Theophylline (Oral Solution)",
           "Theophylline (Oral Solution)"
          ],
          [
           "Thiamine",
           "Thiamine"
          ],
          [
           "Thiamine HCl",
           "Thiamine HCl"
          ],
          [
           "Thioridazine HCl",
           "Thioridazine HCl"
          ],
          [
           "Timolol Maleate 0.25%",
           "Timolol Maleate 0.25%"
          ],
          [
           "Timolol Maleate 0.5%",
           "Timolol Maleate 0.5%"
          ],
          [
           "Tiotropium Bromide",
           "Tiotropium Bromide"
          ],
          [
           "Tizanidine",
           "Tizanidine"
          ],
          [
           "Tizanidine HCl",
           "Tizanidine HCl"
          ],
          [
           "Tocopheryl",
           "Tocopheryl"
          ],
          [
           "Tolterodine",
           "Tolterodine"
          ],
          [
           "Torsemide",
           "Torsemide"
          ],
          [
           "TraMADOL (Ultram)",
           "TraMADOL (Ultram)"
          ],
          [
           "Tuberculin Protein",
           "Tuberculin Protein"
          ],
          [
           "Ursodiol",
           "Ursodiol"
          ],
          [
           "Valsartan",
           "Valsartan"
          ],
          [
           "Vancomycin",
           "Vancomycin"
          ],
          [
           "Vancomycin Oral Liquid",
           "Vancomycin Oral Liquid"
          ],
          [
           "Vecuronium Bromide",
           "Vecuronium Bromide"
          ],
          [
           "Verapamil SR",
           "Verapamil SR"
          ],
          [
           "Vigamox",
           "*NF* Moxifloxacin 0.5% Ophth"
          ],
          [
           "Viokase-8",
           "Viokase-8"
          ],
          [
           "Vitamin D",
           "Vitamin D"
          ],
          [
           "Warfarin",
           "Warfarin"
          ],
          [
           "Xopenex",
           "*NF* Levalbuterol Soln"
          ],
          [
           "Xopenex Neb",
           "*NF* Levalbuterol Neb"
          ],
          [
           "Zinc Sulfate",
           "Zinc Sulfate"
          ],
          [
           "Ziprasidone",
           "Ziprasidone"
          ],
          [
           "Zolpidem Tartrate",
           "Zolpidem Tartrate"
          ],
          [
           "Zonisamide",
           "Zonisamide"
          ],
          [
           "donepezil 5 mg or placebo",
           "Donepezil Study Drug (*IND*)"
          ],
          [
           "sevelamer HYDROCHLORIDE",
           "sevelamer HYDROCHLORIDE"
          ],
          [
           "sodium bic",
           "Sodium Bicarbonate"
          ],
          [
           "sodium bicar",
           "Sodium Bicarbonate"
          ],
          [
           "sodium bicarb",
           "Sodium Bicarbonate"
          ],
          [
           "traMADOL",
           "traMADOL"
          ],
          [
           "traZODONE",
           "traZODONE"
          ],
          [
           "traZODONE HCl",
           "traZODONE HCl"
          ],
          [
           "tucks",
           "Tucks Hemorrhoidal Oint 1%"
          ]
         ],
         "domain": {
          "x": [
           0,
           1
          ],
          "y": [
           0,
           1
          ]
         },
         "hovertemplate": "\n    Drug: %{label}<br>\n    Count: %{value}<br>\n    POE Name: %{customdata[0]}<br>\n    Generic Name: %{customdata[1]}<br>\n    <extra></extra>\n    ",
         "ids": [
          "AcetaZOLamide",
          "Acetaminophen",
          "Acetaminophen (Liquid)",
          "Acetaminophen IV",
          "Acetaminophen w/Codeine",
          "Acetylcysteine 20%",
          "Acular",
          "Acyclovir",
          "Adenosine",
          "Albumin 25% (12.5 g)",
          "Albumin 25% (12.5g / 50mL)",
          "Albumin 25% (12.5gm)",
          "Albumin 5% (12.5g / 250mL)",
          "Albumin 5% (25 g)",
          "Albumin 5% (25g / 500mL)",
          "Albuterol",
          "Albuterol 0.083% Neb Soln",
          "Albuterol Inhaler",
          "Albuterol MDI",
          "Albuterol Neb Soln",
          "Albuterol-Ipratropium",
          "Alendronate Sodium",
          "Allopurinol",
          "Alprazolam",
          "Alteplase (Catheter Clearance)",
          "Aluminum Hydroxide Suspension",
          "Aluminum-Magnesium Hydrox.-Simethicone",
          "Amiodarone",
          "Amiodarone HCl",
          "Amlodipine",
          "Amoxicillin-Clavulanic Acid",
          "Ampicillin",
          "Artificial Tear Ointment",
          "Artificial Tears",
          "Artificial Tears Preserv. Free",
          "Ascorbic Acid",
          "Ascorbic Acid (Liquid)",
          "Aspirin",
          "Aspirin EC",
          "Atenolol",
          "Atorvastatin",
          "Atovaquone Suspension",
          "Atropine Sulfate",
          "Azithromycin",
          "Bacitracin Ointment",
          "Bacitracin/Polymyxin B Sulfate Opht. Oint",
          "Baclofen",
          "Benzocaine 20% Spray",
          "Benzonatate",
          "Bisacodyl",
          "Bismuth Subsalicylate",
          "Brimonidine Tartrate 0.15% Ophth.",
          "Bupivacaine 0.75%",
          "Butalbital-Acet-Caffeine",
          "Calcitriol",
          "Calcium Carbonate",
          "Calcium Chloride",
          "Calcium Gluconate",
          "Calcium Replacement (Oncology)",
          "Candesartan",
          "Caphosol",
          "Capsaicin 0.025%",
          "Captopril",
          "Carbidopa-Levodopa (10-100)",
          "Carbidopa-Levodopa (25-250)",
          "Carbidopa-Levodopa CR (25-100)",
          "Carvedilol",
          "Cefpodoxime Proxetil",
          "Cepacol (Menthol)",
          "Cephalexin",
          "Cetylpyridinium Chl (Cepacol)",
          "Chlorhexidine Gluconate",
          "Chlorhexidine Gluconate 0.12% Oral Rinse",
          "ChlorproMAZINE",
          "Cilostazol",
          "Cimetidine",
          "Cinacalcet",
          "Ciprofloxacin 0.3% Ophth Soln",
          "Ciprofloxacin HCl",
          "Cisatracurium Besylate",
          "Citalopram",
          "Citalopram Hydrobromide",
          "Clarithromycin",
          "Clindamycin Suspension",
          "Clonazepam",
          "CloniDINE",
          "Clonidine Patch 0.1 mg/24 hr",
          "Clonidine Patch 0.3 mg/24 hr",
          "Clopidogrel",
          "Clopidogrel Bisulfate",
          "Clotrimazole",
          "Clotrimazole Cream",
          "Codeine Sulfate",
          "Collagenase Ointment",
          "Cosyntropin",
          "Creon 10",
          "Creon 12",
          "Cromolyn",
          "Cyanocobalamin",
          "Cyproheptadine",
          "Danazol",
          "Dapsone",
          "Desitin",
          "Dexamethasone",
          "Dextromethorphan-Guaifenesin (Sugar Free)",
          "Dextrose 50%",
          "Diazepam",
          "Dicloxacillin",
          "Digoxin",
          "Diltiazem",
          "Diltiazem Extended-Release",
          "DiphenhydrAMINE",
          "DiphenhydrAMINE HCl",
          "Diphenhydramine HCl",
          "Divalproex (EXTended Release)",
          "Divalproex Sod. Sprinkles",
          "Docusate Sodium",
          "Docusate Sodium (Liquid)",
          "Dolasetron Mesylate",
          "Donepezil",
          "Donepezil 5 mg or Placebo",
          "Dorzolamide 2%/Timolol 0.5% Ophth.",
          "Doxazosin",
          "Doxycycline Hyclate",
          "Dronabinol",
          "Duloxetine",
          "Enalapril Maleate",
          "Enalaprilat",
          "Enoxaparin Sodium",
          "Epinephrine HCl",
          "Epoetin Alfa",
          "Erythromycin 0.5% Ophth Oint",
          "Escitalopram Oxalate",
          "Esmolol",
          "Estrogens Conjugated",
          "Ethambutol HCl",
          "Etomidate",
          "Exelon",
          "Famotidine",
          "Felodipine",
          "Fentanyl Citrate",
          "Fentanyl Patch",
          "Ferrous Gluconate",
          "Ferrous Sulfate",
          "Ferrous Sulfate (Liquid)",
          "Finasteride",
          "Fleet Enema",
          "Fleet Phospho-Soda",
          "Fluconazole",
          "Fludrocortisone Acetate",
          "Flumazenil",
          "Fluocinonide 0.05% Ointment",
          "Fluticasone Propionate 110mcg",
          "Fluticasone Propionate NASAL",
          "Fluticasone-Salmeterol (100/50)",
          "Fluticasone-Salmeterol (250/50) ",
          "Fluticasone-Salmeterol Diskus (100/50)",
          "Fluticasone-Salmeterol Diskus (250/50) ",
          "FoLIC Acid",
          "Folic Acid",
          "Fondaparinux Sodium",
          "Fosinopril",
          "Furosemide",
          "Gabapentin",
          "Gelclair",
          "GlipiZIDE",
          "GlipiZIDE XL",
          "Glipizide",
          "Glucagon",
          "Glyburide",
          "Glycopyrrolate",
          "Golytely",
          "Guaifenesin",
          "Guaifenesin-Codeine Phosphate",
          "Guaifenesin-Dextromethorphan",
          "HYDROmorphone (Dilaudid)",
          "Haloperidol",
          "Heparin",
          "Heparin CRRT",
          "Heparin Flush ",
          "Heparin Flush (10 units/ml)",
          "Heparin Flush (100 units/ml)",
          "Heparin Flush (5000 Units/mL)",
          "Heparin Flush CRRT (5000 Units/mL)",
          "Heparin Flush CVL  (100 units/ml)",
          "Heparin Flush Hickman (100 units/ml)",
          "Heparin Flush PICC (100 units/ml)",
          "Heparin Lock Flush",
          "HydrALAZINE HCl",
          "HydrALAzine",
          "Hydralazine HCl",
          "Hydrochlorothiazide",
          "Hydrocodone-Acetaminophen",
          "Hydrocortisone",
          "Hydrocortisone Na Succ.",
          "Hydromorphone",
          "Hydroxyurea",
          "Hyoscyamine",
          "Ibuprofen Suspension",
          "Imipramine",
          "Indomethacin",
          "Influenza Virus Vaccine",
          "Insulin",
          "Ipratropium Bromide MDI",
          "Ipratropium Bromide Neb",
          "Isoniazid",
          "Isosorbide Dinitrate",
          "Isosorbide Mononitrate (Extended Release)",
          "Ketorolac",
          "Labetalol",
          "Labetalol HCl",
          "Lacri-Lube Oint",
          "Lactulose",
          "Lactulose Enema",
          "Lansoprazole",
          "Lansoprazole Oral Disintegrating Tab",
          "Lansoprazole Oral Solution",
          "Lansoprazole Oral Suspension",
          "Latanoprost 0.005% Ophth. Soln.",
          "LeVETiracetam",
          "LeVETiracetam Solution",
          "Leucovorin Calcium",
          "Levalbuterol HCl",
          "Levetiracetam",
          "Levofloxacin",
          "Levothyroxine Sodium",
          "Lidocaine",
          "Lidocaine 1%",
          "Lidocaine 1%/Epinephrine 1:100000",
          "Lidocaine 2%",
          "Lidocaine 5% Patch",
          "Lidocaine Jelly 2%",
          "Lidocaine Jelly 2% (Urojet)",
          "Lidocaine Viscous 2%",
          "Linezolid",
          "Lisinopril",
          "Loperamide",
          "Loperamide HCl",
          "Lorazepam",
          "Losartan Potassium",
          "Lumigan",
          "Maalox/Diphenhydramine/Lidocaine",
          "Magnesium Citrate",
          "Magnesium Oxide",
          "Magnesium Sulfate",
          "Meclizine",
          "Megestrol Acetate",
          "Meperidine",
          "MetRONIDAZOLE (FLagyl)",
          "Metformin",
          "Methadone",
          "Methadone HCl",
          "Methimazole",
          "MethylPREDNISolone Sodium Succ",
          "Methylene Blue 1%",
          "Methylnaltrexone",
          "Methylprednisolone",
          "Metoclopramide",
          "Metolazone",
          "Metoprolol",
          "Metoprolol Succinate XL",
          "Metoprolol Tartrate",
          "Metoprolol XL",
          "Metronidazole",
          "Miconazole Powder 2%",
          "Midazolam",
          "Midazolam HCl",
          "Midodrine",
          "Milk of Magnesia",
          "Mineral Oil",
          "Mirtazapine",
          "Moexipril HCl",
          "Montelukast Sodium",
          "Morphine SR (MS Contin)",
          "Morphine Sulfate",
          "Morphine Sulfate (Concentrated Oral Soln)",
          "Morphine Sulfate (Oral Soln.)",
          "Morphine Sulfate IR",
          "Multiple Vitamins Liq.",
          "Multivitamins",
          "Multivitamins W/minerals",
          "NIFEdipine CR",
          "Nadolol",
          "Naloxone",
          "Naphazoline-Pheniramine Ophth. Solution",
          "Naproxen",
          "Neomycin-Polymyxin-Dexameth Ophth. Oint",
          "Neostigmine",
          "Nephrocaps",
          "Neutra-Phos",
          "Nicotine Patch",
          "Nitrofurantoin (Macrodantin)",
          "Nitroglycerin Oint. 2%",
          "Nitroglycerin Ointment  2%",
          "Nitroglycerin SL",
          "Nortriptyline",
          "Ny",
          "Nystatin",
          "Nystatin Cream",
          "Nystatin Ointment",
          "Nystatin Oral Susp.",
          "Nystatin Oral Suspension",
          "Nystatin-Triamcinolone Cream",
          "Nystatin-Triamcinolone Ointment",
          "Olanzapine",
          "Olanzapine (Disintegrating Tablet)",
          "Omeprazole",
          "Ondansetron",
          "Ondansetron ODT",
          "Oxybutynin",
          "OxycoDONE (Immediate Release) ",
          "OxycoDONE Liquid",
          "OxycoDONE-Acetaminophen Elixir",
          "Oxycodone",
          "Oxycodone-Acetaminophen",
          "Oxycodone-Acetaminophen Elixir",
          "PHENObarbital",
          "Pancrelipase 5000",
          "Pantoprazole",
          "Papain 2.5 % Solution",
          "Paroxetine",
          "Paroxetine HCl",
          "Penicillin V Potassium",
          "Pentamidine-Inhalation",
          "Phenazopyridine",
          "Phenazopyridine HCl",
          "Phenytoin",
          "Phosphorus",
          "Phytonadione",
          "Pletal",
          "Pneumococcal Vac Polyvalent",
          "Polyethylene Glycol",
          "Potassium Chloride",
          "Potassium Chloride (Powder)",
          "Potassium Chloride Replacement (Oncology)",
          "Pravastatin",
          "PredniSONE",
          "PrednisoLONE Acetate 1% Ophth. Susp.",
          "Prednisone",
          "Pregabalin",
          "Prochlorperazine",
          "Promethazine",
          "Promethazine HCl",
          "Propofol",
          "Propofol (Generic)",
          "Propoxyphene Nap.-Apap (N-100)",
          "Propra",
          "Propranolol",
          "Pseudoephedrine HCl",
          "Pyrazinamide",
          "Pyridoxine HCl",
          "Quetiapine Fumarate",
          "Quinapril",
          "Quinidine Gluconate",
          "Ranitidine",
          "Rifampin",
          "Rifaximin",
          "Risperidone",
          "Rosuvastatin Calcium",
          "Salmeterol Xinafoate Diskus (50 mcg)",
          "Sarna Lotion",
          "Scopolamine Patch",
          "Senna",
          "Sertraline",
          "Sevelamer",
          "Simethicone",
          "Simvastatin",
          "Sirolimus",
          "Sodium Bicarbo",
          "Sodium Bicarbonate",
          "Sodium CITRATE 4%",
          "Sodium Chloride",
          "Sodium Chloride 0.9%  Flush",
          "Sodium Chloride Nasal",
          "Sodium Polystyrene Sulfonate",
          "Spironolactone",
          "Succinylcholine",
          "Sucralfate",
          "Sulfameth/Trimethoprim DS",
          "Sulfameth/Trimethoprim SS",
          "Sulfameth/Trimethoprim Suspension",
          "Sumatriptan Succinate",
          "Tacrolimus",
          "Tamsulosin",
          "Tarceva",
          "Theophylline (Oral Solution)",
          "Thiamine",
          "Thiamine HCl",
          "Thioridazine HCl",
          "Timolol Maleate 0.25%",
          "Timolol Maleate 0.5%",
          "Tiotropium Bromide",
          "Tizanidine",
          "Tizanidine HCl",
          "Tocopheryl",
          "Tolterodine",
          "Torsemide",
          "TraMADOL (Ultram)",
          "Tuberculin Protein",
          "Ursodiol",
          "Valsartan",
          "Vancomycin",
          "Vancomycin Oral Liquid",
          "Vecuronium Bromide",
          "Verapamil SR",
          "Vigamox",
          "Viokase-8",
          "Vitamin D",
          "Warfarin",
          "Xopenex",
          "Xopenex Neb",
          "Zinc Sulfate",
          "Ziprasidone",
          "Zolpidem Tartrate",
          "Zonisamide",
          "donepezil 5 mg or placebo",
          "sevelamer HYDROCHLORIDE",
          "sodium bic",
          "sodium bicar",
          "sodium bicarb",
          "traMADOL",
          "traZODONE",
          "traZODONE HCl",
          "tucks"
         ],
         "labels": [
          "AcetaZOLamide",
          "Acetaminophen",
          "Acetaminophen (Liquid)",
          "Acetaminophen IV",
          "Acetaminophen w/Codeine",
          "Acetylcysteine 20%",
          "Acular",
          "Acyclovir",
          "Adenosine",
          "Albumin 25% (12.5 g)",
          "Albumin 25% (12.5g / 50mL)",
          "Albumin 25% (12.5gm)",
          "Albumin 5% (12.5g / 250mL)",
          "Albumin 5% (25 g)",
          "Albumin 5% (25g / 500mL)",
          "Albuterol",
          "Albuterol 0.083% Neb Soln",
          "Albuterol Inhaler",
          "Albuterol MDI",
          "Albuterol Neb Soln",
          "Albuterol-Ipratropium",
          "Alendronate Sodium",
          "Allopurinol",
          "Alprazolam",
          "Alteplase (Catheter Clearance)",
          "Aluminum Hydroxide Suspension",
          "Aluminum-Magnesium Hydrox.-Simethicone",
          "Amiodarone",
          "Amiodarone HCl",
          "Amlodipine",
          "Amoxicillin-Clavulanic Acid",
          "Ampicillin",
          "Artificial Tear Ointment",
          "Artificial Tears",
          "Artificial Tears Preserv. Free",
          "Ascorbic Acid",
          "Ascorbic Acid (Liquid)",
          "Aspirin",
          "Aspirin EC",
          "Atenolol",
          "Atorvastatin",
          "Atovaquone Suspension",
          "Atropine Sulfate",
          "Azithromycin",
          "Bacitracin Ointment",
          "Bacitracin/Polymyxin B Sulfate Opht. Oint",
          "Baclofen",
          "Benzocaine 20% Spray",
          "Benzonatate",
          "Bisacodyl",
          "Bismuth Subsalicylate",
          "Brimonidine Tartrate 0.15% Ophth.",
          "Bupivacaine 0.75%",
          "Butalbital-Acet-Caffeine",
          "Calcitriol",
          "Calcium Carbonate",
          "Calcium Chloride",
          "Calcium Gluconate",
          "Calcium Replacement (Oncology)",
          "Candesartan",
          "Caphosol",
          "Capsaicin 0.025%",
          "Captopril",
          "Carbidopa-Levodopa (10-100)",
          "Carbidopa-Levodopa (25-250)",
          "Carbidopa-Levodopa CR (25-100)",
          "Carvedilol",
          "Cefpodoxime Proxetil",
          "Cepacol (Menthol)",
          "Cephalexin",
          "Cetylpyridinium Chl (Cepacol)",
          "Chlorhexidine Gluconate",
          "Chlorhexidine Gluconate 0.12% Oral Rinse",
          "ChlorproMAZINE",
          "Cilostazol",
          "Cimetidine",
          "Cinacalcet",
          "Ciprofloxacin 0.3% Ophth Soln",
          "Ciprofloxacin HCl",
          "Cisatracurium Besylate",
          "Citalopram",
          "Citalopram Hydrobromide",
          "Clarithromycin",
          "Clindamycin Suspension",
          "Clonazepam",
          "CloniDINE",
          "Clonidine Patch 0.1 mg/24 hr",
          "Clonidine Patch 0.3 mg/24 hr",
          "Clopidogrel",
          "Clopidogrel Bisulfate",
          "Clotrimazole",
          "Clotrimazole Cream",
          "Codeine Sulfate",
          "Collagenase Ointment",
          "Cosyntropin",
          "Creon 10",
          "Creon 12",
          "Cromolyn",
          "Cyanocobalamin",
          "Cyproheptadine",
          "Danazol",
          "Dapsone",
          "Desitin",
          "Dexamethasone",
          "Dextromethorphan-Guaifenesin (Sugar Free)",
          "Dextrose 50%",
          "Diazepam",
          "Dicloxacillin",
          "Digoxin",
          "Diltiazem",
          "Diltiazem Extended-Release",
          "DiphenhydrAMINE",
          "DiphenhydrAMINE HCl",
          "Diphenhydramine HCl",
          "Divalproex (EXTended Release)",
          "Divalproex Sod. Sprinkles",
          "Docusate Sodium",
          "Docusate Sodium (Liquid)",
          "Dolasetron Mesylate",
          "Donepezil",
          "Donepezil 5 mg or Placebo",
          "Dorzolamide 2%/Timolol 0.5% Ophth.",
          "Doxazosin",
          "Doxycycline Hyclate",
          "Dronabinol",
          "Duloxetine",
          "Enalapril Maleate",
          "Enalaprilat",
          "Enoxaparin Sodium",
          "Epinephrine HCl",
          "Epoetin Alfa",
          "Erythromycin 0.5% Ophth Oint",
          "Escitalopram Oxalate",
          "Esmolol",
          "Estrogens Conjugated",
          "Ethambutol HCl",
          "Etomidate",
          "Exelon",
          "Famotidine",
          "Felodipine",
          "Fentanyl Citrate",
          "Fentanyl Patch",
          "Ferrous Gluconate",
          "Ferrous Sulfate",
          "Ferrous Sulfate (Liquid)",
          "Finasteride",
          "Fleet Enema",
          "Fleet Phospho-Soda",
          "Fluconazole",
          "Fludrocortisone Acetate",
          "Flumazenil",
          "Fluocinonide 0.05% Ointment",
          "Fluticasone Propionate 110mcg",
          "Fluticasone Propionate NASAL",
          "Fluticasone-Salmeterol (100/50)",
          "Fluticasone-Salmeterol (250/50) ",
          "Fluticasone-Salmeterol Diskus (100/50)",
          "Fluticasone-Salmeterol Diskus (250/50) ",
          "FoLIC Acid",
          "Folic Acid",
          "Fondaparinux Sodium",
          "Fosinopril",
          "Furosemide",
          "Gabapentin",
          "Gelclair",
          "GlipiZIDE",
          "GlipiZIDE XL",
          "Glipizide",
          "Glucagon",
          "Glyburide",
          "Glycopyrrolate",
          "Golytely",
          "Guaifenesin",
          "Guaifenesin-Codeine Phosphate",
          "Guaifenesin-Dextromethorphan",
          "HYDROmorphone (Dilaudid)",
          "Haloperidol",
          "Heparin",
          "Heparin CRRT",
          "Heparin Flush ",
          "Heparin Flush (10 units/ml)",
          "Heparin Flush (100 units/ml)",
          "Heparin Flush (5000 Units/mL)",
          "Heparin Flush CRRT (5000 Units/mL)",
          "Heparin Flush CVL  (100 units/ml)",
          "Heparin Flush Hickman (100 units/ml)",
          "Heparin Flush PICC (100 units/ml)",
          "Heparin Lock Flush",
          "HydrALAZINE HCl",
          "HydrALAzine",
          "Hydralazine HCl",
          "Hydrochlorothiazide",
          "Hydrocodone-Acetaminophen",
          "Hydrocortisone",
          "Hydrocortisone Na Succ.",
          "Hydromorphone",
          "Hydroxyurea",
          "Hyoscyamine",
          "Ibuprofen Suspension",
          "Imipramine",
          "Indomethacin",
          "Influenza Virus Vaccine",
          "Insulin",
          "Ipratropium Bromide MDI",
          "Ipratropium Bromide Neb",
          "Isoniazid",
          "Isosorbide Dinitrate",
          "Isosorbide Mononitrate (Extended Release)",
          "Ketorolac",
          "Labetalol",
          "Labetalol HCl",
          "Lacri-Lube Oint",
          "Lactulose",
          "Lactulose Enema",
          "Lansoprazole",
          "Lansoprazole Oral Disintegrating Tab",
          "Lansoprazole Oral Solution",
          "Lansoprazole Oral Suspension",
          "Latanoprost 0.005% Ophth. Soln.",
          "LeVETiracetam",
          "LeVETiracetam Solution",
          "Leucovorin Calcium",
          "Levalbuterol HCl",
          "Levetiracetam",
          "Levofloxacin",
          "Levothyroxine Sodium",
          "Lidocaine",
          "Lidocaine 1%",
          "Lidocaine 1%/Epinephrine 1:100000",
          "Lidocaine 2%",
          "Lidocaine 5% Patch",
          "Lidocaine Jelly 2%",
          "Lidocaine Jelly 2% (Urojet)",
          "Lidocaine Viscous 2%",
          "Linezolid",
          "Lisinopril",
          "Loperamide",
          "Loperamide HCl",
          "Lorazepam",
          "Losartan Potassium",
          "Lumigan",
          "Maalox/Diphenhydramine/Lidocaine",
          "Magnesium Citrate",
          "Magnesium Oxide",
          "Magnesium Sulfate",
          "Meclizine",
          "Megestrol Acetate",
          "Meperidine",
          "MetRONIDAZOLE (FLagyl)",
          "Metformin",
          "Methadone",
          "Methadone HCl",
          "Methimazole",
          "MethylPREDNISolone Sodium Succ",
          "Methylene Blue 1%",
          "Methylnaltrexone",
          "Methylprednisolone",
          "Metoclopramide",
          "Metolazone",
          "Metoprolol",
          "Metoprolol Succinate XL",
          "Metoprolol Tartrate",
          "Metoprolol XL",
          "Metronidazole",
          "Miconazole Powder 2%",
          "Midazolam",
          "Midazolam HCl",
          "Midodrine",
          "Milk of Magnesia",
          "Mineral Oil",
          "Mirtazapine",
          "Moexipril HCl",
          "Montelukast Sodium",
          "Morphine SR (MS Contin)",
          "Morphine Sulfate",
          "Morphine Sulfate (Concentrated Oral Soln)",
          "Morphine Sulfate (Oral Soln.)",
          "Morphine Sulfate IR",
          "Multiple Vitamins Liq.",
          "Multivitamins",
          "Multivitamins W/minerals",
          "NIFEdipine CR",
          "Nadolol",
          "Naloxone",
          "Naphazoline-Pheniramine Ophth. Solution",
          "Naproxen",
          "Neomycin-Polymyxin-Dexameth Ophth. Oint",
          "Neostigmine",
          "Nephrocaps",
          "Neutra-Phos",
          "Nicotine Patch",
          "Nitrofurantoin (Macrodantin)",
          "Nitroglycerin Oint. 2%",
          "Nitroglycerin Ointment  2%",
          "Nitroglycerin SL",
          "Nortriptyline",
          "Ny",
          "Nystatin",
          "Nystatin Cream",
          "Nystatin Ointment",
          "Nystatin Oral Susp.",
          "Nystatin Oral Suspension",
          "Nystatin-Triamcinolone Cream",
          "Nystatin-Triamcinolone Ointment",
          "Olanzapine",
          "Olanzapine (Disintegrating Tablet)",
          "Omeprazole",
          "Ondansetron",
          "Ondansetron ODT",
          "Oxybutynin",
          "OxycoDONE (Immediate Release) ",
          "OxycoDONE Liquid",
          "OxycoDONE-Acetaminophen Elixir",
          "Oxycodone",
          "Oxycodone-Acetaminophen",
          "Oxycodone-Acetaminophen Elixir",
          "PHENObarbital",
          "Pancrelipase 5000",
          "Pantoprazole",
          "Papain 2.5 % Solution",
          "Paroxetine",
          "Paroxetine HCl",
          "Penicillin V Potassium",
          "Pentamidine-Inhalation",
          "Phenazopyridine",
          "Phenazopyridine HCl",
          "Phenytoin",
          "Phosphorus",
          "Phytonadione",
          "Pletal",
          "Pneumococcal Vac Polyvalent",
          "Polyethylene Glycol",
          "Potassium Chloride",
          "Potassium Chloride (Powder)",
          "Potassium Chloride Replacement (Oncology)",
          "Pravastatin",
          "PredniSONE",
          "PrednisoLONE Acetate 1% Ophth. Susp.",
          "Prednisone",
          "Pregabalin",
          "Prochlorperazine",
          "Promethazine",
          "Promethazine HCl",
          "Propofol",
          "Propofol (Generic)",
          "Propoxyphene Nap.-Apap (N-100)",
          "Propra",
          "Propranolol",
          "Pseudoephedrine HCl",
          "Pyrazinamide",
          "Pyridoxine HCl",
          "Quetiapine Fumarate",
          "Quinapril",
          "Quinidine Gluconate",
          "Ranitidine",
          "Rifampin",
          "Rifaximin",
          "Risperidone",
          "Rosuvastatin Calcium",
          "Salmeterol Xinafoate Diskus (50 mcg)",
          "Sarna Lotion",
          "Scopolamine Patch",
          "Senna",
          "Sertraline",
          "Sevelamer",
          "Simethicone",
          "Simvastatin",
          "Sirolimus",
          "Sodium Bicarbo",
          "Sodium Bicarbonate",
          "Sodium CITRATE 4%",
          "Sodium Chloride",
          "Sodium Chloride 0.9%  Flush",
          "Sodium Chloride Nasal",
          "Sodium Polystyrene Sulfonate",
          "Spironolactone",
          "Succinylcholine",
          "Sucralfate",
          "Sulfameth/Trimethoprim DS",
          "Sulfameth/Trimethoprim SS",
          "Sulfameth/Trimethoprim Suspension",
          "Sumatriptan Succinate",
          "Tacrolimus",
          "Tamsulosin",
          "Tarceva",
          "Theophylline (Oral Solution)",
          "Thiamine",
          "Thiamine HCl",
          "Thioridazine HCl",
          "Timolol Maleate 0.25%",
          "Timolol Maleate 0.5%",
          "Tiotropium Bromide",
          "Tizanidine",
          "Tizanidine HCl",
          "Tocopheryl",
          "Tolterodine",
          "Torsemide",
          "TraMADOL (Ultram)",
          "Tuberculin Protein",
          "Ursodiol",
          "Valsartan",
          "Vancomycin",
          "Vancomycin Oral Liquid",
          "Vecuronium Bromide",
          "Verapamil SR",
          "Vigamox",
          "Viokase-8",
          "Vitamin D",
          "Warfarin",
          "Xopenex",
          "Xopenex Neb",
          "Zinc Sulfate",
          "Ziprasidone",
          "Zolpidem Tartrate",
          "Zonisamide",
          "donepezil 5 mg or placebo",
          "sevelamer HYDROCHLORIDE",
          "sodium bic",
          "sodium bicar",
          "sodium bicarb",
          "traMADOL",
          "traZODONE",
          "traZODONE HCl",
          "tucks"
         ],
         "name": "",
         "parents": [
          "",
          "",
          "",
          "",
          "",
          "",
          "",
          "",
          "",
          "",
          "",
          "",
          "",
          "",
          "",
          "",
          "",
          "",
          "",
          "",
          "",
          "",
          "",
          "",
          "",
          "",
          "",
          "",
          "",
          "",
          "",
          "",
          "",
          "",
          "",
          "",
          "",
          "",
          "",
          "",
          "",
          "",
          "",
          "",
          "",
          "",
          "",
          "",
          "",
          "",
          "",
          "",
          "",
          "",
          "",
          "",
          "",
          "",
          "",
          "",
          "",
          "",
          "",
          "",
          "",
          "",
          "",
          "",
          "",
          "",
          "",
          "",
          "",
          "",
          "",
          "",
          "",
          "",
          "",
          "",
          "",
          "",
          "",
          "",
          "",
          "",
          "",
          "",
          "",
          "",
          "",
          "",
          "",
          "",
          "",
          "",
          "",
          "",
          "",
          "",
          "",
          "",
          "",
          "",
          "",
          "",
          "",
          "",
          "",
          "",
          "",
          "",
          "",
          "",
          "",
          "",
          "",
          "",
          "",
          "",
          "",
          "",
          "",
          "",
          "",
          "",
          "",
          "",
          "",
          "",
          "",
          "",
          "",
          "",
          "",
          "",
          "",
          "",
          "",
          "",
          "",
          "",
          "",
          "",
          "",
          "",
          "",
          "",
          "",
          "",
          "",
          "",
          "",
          "",
          "",
          "",
          "",
          "",
          "",
          "",
          "",
          "",
          "",
          "",
          "",
          "",
          "",
          "",
          "",
          "",
          "",
          "",
          "",
          "",
          "",
          "",
          "",
          "",
          "",
          "",
          "",
          "",
          "",
          "",
          "",
          "",
          "",
          "",
          "",
          "",
          "",
          "",
          "",
          "",
          "",
          "",
          "",
          "",
          "",
          "",
          "",
          "",
          "",
          "",
          "",
          "",
          "",
          "",
          "",
          "",
          "",
          "",
          "",
          "",
          "",
          "",
          "",
          "",
          "",
          "",
          "",
          "",
          "",
          "",
          "",
          "",
          "",
          "",
          "",
          "",
          "",
          "",
          "",
          "",
          "",
          "",
          "",
          "",
          "",
          "",
          "",
          "",
          "",
          "",
          "",
          "",
          "",
          "",
          "",
          "",
          "",
          "",
          "",
          "",
          "",
          "",
          "",
          "",
          "",
          "",
          "",
          "",
          "",
          "",
          "",
          "",
          "",
          "",
          "",
          "",
          "",
          "",
          "",
          "",
          "",
          "",
          "",
          "",
          "",
          "",
          "",
          "",
          "",
          "",
          "",
          "",
          "",
          "",
          "",
          "",
          "",
          "",
          "",
          "",
          "",
          "",
          "",
          "",
          "",
          "",
          "",
          "",
          "",
          "",
          "",
          "",
          "",
          "",
          "",
          "",
          "",
          "",
          "",
          "",
          "",
          "",
          "",
          "",
          "",
          "",
          "",
          "",
          "",
          "",
          "",
          "",
          "",
          "",
          "",
          "",
          "",
          "",
          "",
          "",
          "",
          "",
          "",
          "",
          "",
          "",
          "",
          "",
          "",
          "",
          "",
          "",
          "",
          "",
          "",
          "",
          "",
          "",
          "",
          "",
          "",
          "",
          "",
          "",
          "",
          "",
          "",
          "",
          "",
          "",
          "",
          "",
          "",
          "",
          "",
          "",
          "",
          "",
          "",
          "",
          "",
          "",
          "",
          "",
          "",
          "",
          "",
          "",
          "",
          "",
          "",
          "",
          "",
          "",
          "",
          "",
          "",
          "",
          "",
          "",
          "",
          "",
          "",
          "",
          "",
          "",
          "",
          "",
          "",
          "",
          "",
          "",
          "",
          "",
          "",
          "",
          "",
          "",
          "",
          "",
          "",
          "",
          "",
          "",
          "",
          "",
          "",
          "",
          "",
          ""
         ],
         "type": "treemap",
         "values": {
          "bdata": "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",
          "dtype": "f8"
         }
        }
       ],
       "layout": {
        "height": 800,
        "legend": {
         "tracegroupgap": 0
        },
        "template": {
         "data": {
          "bar": [
           {
            "error_x": {
             "color": "#2a3f5f"
            },
            "error_y": {
             "color": "#2a3f5f"
            },
            "marker": {
             "line": {
              "color": "#E5ECF6",
              "width": 0.5
             },
             "pattern": {
              "fillmode": "overlay",
              "size": 10,
              "solidity": 0.2
             }
            },
            "type": "bar"
           }
          ],
          "barpolar": [
           {
            "marker": {
             "line": {
              "color": "#E5ECF6",
              "width": 0.5
             },
             "pattern": {
              "fillmode": "overlay",
              "size": 10,
              "solidity": 0.2
             }
            },
            "type": "barpolar"
           }
          ],
          "carpet": [
           {
            "aaxis": {
             "endlinecolor": "#2a3f5f",
             "gridcolor": "white",
             "linecolor": "white",
             "minorgridcolor": "white",
             "startlinecolor": "#2a3f5f"
            },
            "baxis": {
             "endlinecolor": "#2a3f5f",
             "gridcolor": "white",
             "linecolor": "white",
             "minorgridcolor": "white",
             "startlinecolor": "#2a3f5f"
            },
            "type": "carpet"
           }
          ],
          "choropleth": [
           {
            "colorbar": {
             "outlinewidth": 0,
             "ticks": ""
            },
            "type": "choropleth"
           }
          ],
          "contour": [
           {
            "colorbar": {
             "outlinewidth": 0,
             "ticks": ""
            },
            "colorscale": [
             [
              0,
              "#0d0887"
             ],
             [
              0.1111111111111111,
              "#46039f"
             ],
             [
              0.2222222222222222,
              "#7201a8"
             ],
             [
              0.3333333333333333,
              "#9c179e"
             ],
             [
              0.4444444444444444,
              "#bd3786"
             ],
             [
              0.5555555555555556,
              "#d8576b"
             ],
             [
              0.6666666666666666,
              "#ed7953"
             ],
             [
              0.7777777777777778,
              "#fb9f3a"
             ],
             [
              0.8888888888888888,
              "#fdca26"
             ],
             [
              1,
              "#f0f921"
             ]
            ],
            "type": "contour"
           }
          ],
          "contourcarpet": [
           {
            "colorbar": {
             "outlinewidth": 0,
             "ticks": ""
            },
            "type": "contourcarpet"
           }
          ],
          "heatmap": [
           {
            "colorbar": {
             "outlinewidth": 0,
             "ticks": ""
            },
            "colorscale": [
             [
              0,
              "#0d0887"
             ],
             [
              0.1111111111111111,
              "#46039f"
             ],
             [
              0.2222222222222222,
              "#7201a8"
             ],
             [
              0.3333333333333333,
              "#9c179e"
             ],
             [
              0.4444444444444444,
              "#bd3786"
             ],
             [
              0.5555555555555556,
              "#d8576b"
             ],
             [
              0.6666666666666666,
              "#ed7953"
             ],
             [
              0.7777777777777778,
              "#fb9f3a"
             ],
             [
              0.8888888888888888,
              "#fdca26"
             ],
             [
              1,
              "#f0f921"
             ]
            ],
            "type": "heatmap"
           }
          ],
          "histogram": [
           {
            "marker": {
             "pattern": {
              "fillmode": "overlay",
              "size": 10,
              "solidity": 0.2
             }
            },
            "type": "histogram"
           }
          ],
          "histogram2d": [
           {
            "colorbar": {
             "outlinewidth": 0,
             "ticks": ""
            },
            "colorscale": [
             [
              0,
              "#0d0887"
             ],
             [
              0.1111111111111111,
              "#46039f"
             ],
             [
              0.2222222222222222,
              "#7201a8"
             ],
             [
              0.3333333333333333,
              "#9c179e"
             ],
             [
              0.4444444444444444,
              "#bd3786"
             ],
             [
              0.5555555555555556,
              "#d8576b"
             ],
             [
              0.6666666666666666,
              "#ed7953"
             ],
             [
              0.7777777777777778,
              "#fb9f3a"
             ],
             [
              0.8888888888888888,
              "#fdca26"
             ],
             [
              1,
              "#f0f921"
             ]
            ],
            "type": "histogram2d"
           }
          ],
          "histogram2dcontour": [
           {
            "colorbar": {
             "outlinewidth": 0,
             "ticks": ""
            },
            "colorscale": [
             [
              0,
              "#0d0887"
             ],
             [
              0.1111111111111111,
              "#46039f"
             ],
             [
              0.2222222222222222,
              "#7201a8"
             ],
             [
              0.3333333333333333,
              "#9c179e"
             ],
             [
              0.4444444444444444,
              "#bd3786"
             ],
             [
              0.5555555555555556,
              "#d8576b"
             ],
             [
              0.6666666666666666,
              "#ed7953"
             ],
             [
              0.7777777777777778,
              "#fb9f3a"
             ],
             [
              0.8888888888888888,
              "#fdca26"
             ],
             [
              1,
              "#f0f921"
             ]
            ],
            "type": "histogram2dcontour"
           }
          ],
          "mesh3d": [
           {
            "colorbar": {
             "outlinewidth": 0,
             "ticks": ""
            },
            "type": "mesh3d"
           }
          ],
          "parcoords": [
           {
            "line": {
             "colorbar": {
              "outlinewidth": 0,
              "ticks": ""
             }
            },
            "type": "parcoords"
           }
          ],
          "pie": [
           {
            "automargin": true,
            "type": "pie"
           }
          ],
          "scatter": [
           {
            "fillpattern": {
             "fillmode": "overlay",
             "size": 10,
             "solidity": 0.2
            },
            "type": "scatter"
           }
          ],
          "scatter3d": [
           {
            "line": {
             "colorbar": {
              "outlinewidth": 0,
              "ticks": ""
             }
            },
            "marker": {
             "colorbar": {
              "outlinewidth": 0,
              "ticks": ""
             }
            },
            "type": "scatter3d"
           }
          ],
          "scattercarpet": [
           {
            "marker": {
             "colorbar": {
              "outlinewidth": 0,
              "ticks": ""
             }
            },
            "type": "scattercarpet"
           }
          ],
          "scattergeo": [
           {
            "marker": {
             "colorbar": {
              "outlinewidth": 0,
              "ticks": ""
             }
            },
            "type": "scattergeo"
           }
          ],
          "scattergl": [
           {
            "marker": {
             "colorbar": {
              "outlinewidth": 0,
              "ticks": ""
             }
            },
            "type": "scattergl"
           }
          ],
          "scattermap": [
           {
            "marker": {
             "colorbar": {
              "outlinewidth": 0,
              "ticks": ""
             }
            },
            "type": "scattermap"
           }
          ],
          "scattermapbox": [
           {
            "marker": {
             "colorbar": {
              "outlinewidth": 0,
              "ticks": ""
             }
            },
            "type": "scattermapbox"
           }
          ],
          "scatterpolar": [
           {
            "marker": {
             "colorbar": {
              "outlinewidth": 0,
              "ticks": ""
             }
            },
            "type": "scatterpolar"
           }
          ],
          "scatterpolargl": [
           {
            "marker": {
             "colorbar": {
              "outlinewidth": 0,
              "ticks": ""
             }
            },
            "type": "scatterpolargl"
           }
          ],
          "scatterternary": [
           {
            "marker": {
             "colorbar": {
              "outlinewidth": 0,
              "ticks": ""
             }
            },
            "type": "scatterternary"
           }
          ],
          "surface": [
           {
            "colorbar": {
             "outlinewidth": 0,
             "ticks": ""
            },
            "colorscale": [
             [
              0,
              "#0d0887"
             ],
             [
              0.1111111111111111,
              "#46039f"
             ],
             [
              0.2222222222222222,
              "#7201a8"
             ],
             [
              0.3333333333333333,
              "#9c179e"
             ],
             [
              0.4444444444444444,
              "#bd3786"
             ],
             [
              0.5555555555555556,
              "#d8576b"
             ],
             [
              0.6666666666666666,
              "#ed7953"
             ],
             [
              0.7777777777777778,
              "#fb9f3a"
             ],
             [
              0.8888888888888888,
              "#fdca26"
             ],
             [
              1,
              "#f0f921"
             ]
            ],
            "type": "surface"
           }
          ],
          "table": [
           {
            "cells": {
             "fill": {
              "color": "#EBF0F8"
             },
             "line": {
              "color": "white"
             }
            },
            "header": {
             "fill": {
              "color": "#C8D4E3"
             },
             "line": {
              "color": "white"
             }
            },
            "type": "table"
           }
          ]
         },
         "layout": {
          "annotationdefaults": {
           "arrowcolor": "#2a3f5f",
           "arrowhead": 0,
           "arrowwidth": 1
          },
          "autotypenumbers": "strict",
          "coloraxis": {
           "colorbar": {
            "outlinewidth": 0,
            "ticks": ""
           }
          },
          "colorscale": {
           "diverging": [
            [
             0,
             "#8e0152"
            ],
            [
             0.1,
             "#c51b7d"
            ],
            [
             0.2,
             "#de77ae"
            ],
            [
             0.3,
             "#f1b6da"
            ],
            [
             0.4,
             "#fde0ef"
            ],
            [
             0.5,
             "#f7f7f7"
            ],
            [
             0.6,
             "#e6f5d0"
            ],
            [
             0.7,
             "#b8e186"
            ],
            [
             0.8,
             "#7fbc41"
            ],
            [
             0.9,
             "#4d9221"
            ],
            [
             1,
             "#276419"
            ]
           ],
           "sequential": [
            [
             0,
             "#0d0887"
            ],
            [
             0.1111111111111111,
             "#46039f"
            ],
            [
             0.2222222222222222,
             "#7201a8"
            ],
            [
             0.3333333333333333,
             "#9c179e"
            ],
            [
             0.4444444444444444,
             "#bd3786"
            ],
            [
             0.5555555555555556,
             "#d8576b"
            ],
            [
             0.6666666666666666,
             "#ed7953"
            ],
            [
             0.7777777777777778,
             "#fb9f3a"
            ],
            [
             0.8888888888888888,
             "#fdca26"
            ],
            [
             1,
             "#f0f921"
            ]
           ],
           "sequentialminus": [
            [
             0,
             "#0d0887"
            ],
            [
             0.1111111111111111,
             "#46039f"
            ],
            [
             0.2222222222222222,
             "#7201a8"
            ],
            [
             0.3333333333333333,
             "#9c179e"
            ],
            [
             0.4444444444444444,
             "#bd3786"
            ],
            [
             0.5555555555555556,
             "#d8576b"
            ],
            [
             0.6666666666666666,
             "#ed7953"
            ],
            [
             0.7777777777777778,
             "#fb9f3a"
            ],
            [
             0.8888888888888888,
             "#fdca26"
            ],
            [
             1,
             "#f0f921"
            ]
           ]
          },
          "colorway": [
           "#636efa",
           "#EF553B",
           "#00cc96",
           "#ab63fa",
           "#FFA15A",
           "#19d3f3",
           "#FF6692",
           "#B6E880",
           "#FF97FF",
           "#FECB52"
          ],
          "font": {
           "color": "#2a3f5f"
          },
          "geo": {
           "bgcolor": "white",
           "lakecolor": "white",
           "landcolor": "#E5ECF6",
           "showlakes": true,
           "showland": true,
           "subunitcolor": "white"
          },
          "hoverlabel": {
           "align": "left"
          },
          "hovermode": "closest",
          "mapbox": {
           "style": "light"
          },
          "paper_bgcolor": "white",
          "plot_bgcolor": "#E5ECF6",
          "polar": {
           "angularaxis": {
            "gridcolor": "white",
            "linecolor": "white",
            "ticks": ""
           },
           "bgcolor": "#E5ECF6",
           "radialaxis": {
            "gridcolor": "white",
            "linecolor": "white",
            "ticks": ""
           }
          },
          "scene": {
           "xaxis": {
            "backgroundcolor": "#E5ECF6",
            "gridcolor": "white",
            "gridwidth": 2,
            "linecolor": "white",
            "showbackground": true,
            "ticks": "",
            "zerolinecolor": "white"
           },
           "yaxis": {
            "backgroundcolor": "#E5ECF6",
            "gridcolor": "white",
            "gridwidth": 2,
            "linecolor": "white",
            "showbackground": true,
            "ticks": "",
            "zerolinecolor": "white"
           },
           "zaxis": {
            "backgroundcolor": "#E5ECF6",
            "gridcolor": "white",
            "gridwidth": 2,
            "linecolor": "white",
            "showbackground": true,
            "ticks": "",
            "zerolinecolor": "white"
           }
          },
          "shapedefaults": {
           "line": {
            "color": "#2a3f5f"
           }
          },
          "ternary": {
           "aaxis": {
            "gridcolor": "white",
            "linecolor": "white",
            "ticks": ""
           },
           "baxis": {
            "gridcolor": "white",
            "linecolor": "white",
            "ticks": ""
           },
           "bgcolor": "#E5ECF6",
           "caxis": {
            "gridcolor": "white",
            "linecolor": "white",
            "ticks": ""
           }
          },
          "title": {
           "x": 0.05
          },
          "xaxis": {
           "automargin": true,
           "gridcolor": "white",
           "linecolor": "white",
           "ticks": "",
           "title": {
            "standoff": 15
           },
           "zerolinecolor": "white",
           "zerolinewidth": 2
          },
          "yaxis": {
           "automargin": true,
           "gridcolor": "white",
           "linecolor": "white",
           "ticks": "",
           "title": {
            "standoff": 15
           },
           "zerolinecolor": "white",
           "zerolinewidth": 2
          }
         }
        },
        "title": {
         "text": "Drug Prescriptions for Patients with >90% Abnormal Blood Tests"
        },
        "width": 1000
       }
      }
     },
     "metadata": {},
     "output_type": "display_data"
    }
   ],
   "source": [
    "filtered_patients_over_90 = patients[\n",
    "    (patients['hematocrit_abnormal_percentage'] > 90) |\n",
    "    (patients['hemoglobin_abnormal_percentage'] > 90) |\n",
    "    (patients['red_blood_cells_abnormal_percentage'] > 90)\n",
    "]\n",
    "\n",
    "# Get subject IDs of patients with >90% abnormal results\n",
    "high_abnormal_subjects = filtered_patients_over_90['subject_id'].unique()\n",
    "\n",
    "# Filter prescriptions for these patients\n",
    "relevant_prescriptions = prescriptions[prescriptions['subject_id'].isin(high_abnormal_subjects)]\n",
    "\n",
    "# Count prescriptions, grouping by all three drug name columns\n",
    "drug_counts = relevant_prescriptions.groupby(['drug', 'drug_name_poe', 'drug_name_generic']).size().reset_index(name='count')\n",
    "\n",
    "# Create treemap using plotly\n",
    "fig = px.treemap(\n",
    "    drug_counts,\n",
    "    path=['drug'],  # Main grouping\n",
    "    values='count',\n",
    "    custom_data=['drug_name_poe', 'drug_name_generic'],  # Additional data for hover\n",
    "    title='Drug Prescriptions for Patients with >90% Abnormal Blood Tests'\n",
    ")\n",
    "\n",
    "# Customize hover template\n",
    "fig.update_traces(\n",
    "    hovertemplate=\"\"\"\n",
    "    Drug: %{label}<br>\n",
    "    Count: %{value}<br>\n",
    "    POE Name: %{customdata[0]}<br>\n",
    "    Generic Name: %{customdata[1]}<br>\n",
    "    <extra></extra>\n",
    "    \"\"\"\n",
    ")\n",
    "\n",
    "# Update layout\n",
    "fig.update_layout(\n",
    "    width=1000,\n",
    "    height=800,\n",
    ")\n",
    "\n",
    "fig.show()"
   ]
  },
  {
   "cell_type": "code",
   "execution_count": 35,
   "metadata": {},
   "outputs": [
    {
     "data": {
      "application/vnd.plotly.v1+json": {
       "config": {
        "plotlyServerURL": "https://plot.ly"
       },
       "data": [
        {
         "branchvalues": "total",
         "customdata": [
          [
           "AcetaZOLamide",
           "AcetaZOLamide"
          ],
          [
           "Acetaminophen",
           "(?)"
          ],
          [
           "Acetaminophen (Liquid)",
           "Acetaminophen (Liquid)"
          ],
          [
           "Acetaminophen IV",
           "Acetaminophen IV"
          ],
          [
           "Acetaminophen w/Codeine",
           "Acetaminophen w/Codeine"
          ],
          [
           "Acetylcysteine 20%",
           "Acetylcysteine 20%"
          ],
          [
           "Acular",
           "*NF* Ketorolac 0.5% Ophth Soln"
          ],
          [
           "Adenosine",
           "Adenosine"
          ],
          [
           "Albumin",
           "Albumin 5% (12.5 g)"
          ],
          [
           "Albumin 25% (12.5 g)",
           "Albumin 25% (12.5 g)"
          ],
          [
           "Albumin 25% (12.5g / 50mL)",
           "Albumin 25% (12.5g / 50mL)"
          ],
          [
           "Albumin 5%",
           "Albumin 5% (12.5 g)"
          ],
          [
           "Albumin 5% (12.5 g)",
           "Albumin 5% (12.5 g)"
          ],
          [
           "Albumin 5% (25 g)",
           "Albumin 5% (25 g)"
          ],
          [
           "Albuterol",
           "Albuterol Inhaler"
          ],
          [
           "Albuterol 0.083% Neb Soln",
           "Albuterol 0.083% Neb Soln"
          ],
          [
           "Albuterol Inhaler",
           "(?)"
          ],
          [
           "Albuterol Neb Soln",
           "Albuterol Neb Soln"
          ],
          [
           "Albuterol-Ipratropium",
           "Albuterol Sulfate-Ipratropium"
          ],
          [
           "Allopurinol",
           "Allopurinol"
          ],
          [
           "Alteplase (Catheter Clearance)",
           "Alteplase (Catheter Clearance)"
          ],
          [
           "Aluminum-Magnesium Hydrox.-Simethicone",
           "Aluminum-Magnesium Hydrox.-Simethicone"
          ],
          [
           "Amiodarone HCl",
           "Amiodarone HCl"
          ],
          [
           "Amlodipine",
           "Amlodipine"
          ],
          [
           "Artificial Tear Ointment",
           "Artificial Tear Ointment"
          ],
          [
           "Artificial Tears",
           "Artificial Tears Preserv. Free"
          ],
          [
           "Artificial Tears Preserv. Free",
           "Artificial Tears Preserv. Free"
          ],
          [
           "Ascorbic Acid",
           "(?)"
          ],
          [
           "Ascorbic Acid (Liquid)",
           "Ascorbic Acid (Liquid)"
          ],
          [
           "Aspirin",
           "(?)"
          ],
          [
           "Aspirin EC",
           "Aspirin EC"
          ],
          [
           "Atenolol",
           "Atenolol"
          ],
          [
           "Atorvastatin",
           "Atorvastatin"
          ],
          [
           "Atropine Sulfate",
           "Atropine Sulfate"
          ],
          [
           "Azithromycin",
           "Azithromycin"
          ],
          [
           "Baclofen",
           "Baclofen"
          ],
          [
           "Benzocaine 20% Spray",
           "Benzocaine 20% Spray"
          ],
          [
           "Bisacodyl",
           "(?)"
          ],
          [
           "Brimonidine Tartrate 0.15% Ophth.",
           "Brimonidine Tartrate 0.15% Ophth."
          ],
          [
           "Calcium Acetate",
           "Calcium Acetate"
          ],
          [
           "Calcium Carbonate",
           "Calcium Carbonate (Tums)"
          ],
          [
           "Calcium Chloride",
           "Calcium Chloride"
          ],
          [
           "Calcium Gluconate",
           "Calcium Gluconate"
          ],
          [
           "Capsaicin 0.025%",
           "Capsaicin 0.025%"
          ],
          [
           "Captopril",
           "Captopril"
          ],
          [
           "Carbamazepine XR",
           "Carbamazepine XR"
          ],
          [
           "Carbidopa-Levodopa CR (25-100)",
           "Carbidopa-Levodopa CR (25-100)"
          ],
          [
           "Cepacol (Menthol)",
           "Cepacol (Menthol)"
          ],
          [
           "Cephalexin",
           "Cephalexin"
          ],
          [
           "Chlorhexidine Gluconate 0.12% Oral Rinse",
           "Chlorhexidine Gluconate"
          ],
          [
           "Ciprofloxacin 0.3% Ophth Soln",
           "Ciprofloxacin 0.3% Ophth Soln"
          ],
          [
           "Ciprofloxacin HCl",
           "Ciprofloxacin HCl"
          ],
          [
           "Citalopram",
           "Citalopram"
          ],
          [
           "Citalopram Hydrobromide",
           "Citalopram Hydrobromide"
          ],
          [
           "Clonidine HCl",
           "Clonidine HCl"
          ],
          [
           "Clopidogrel",
           "Clopidogrel"
          ],
          [
           "Clopidogrel Bisulfate",
           "Clopidogrel Bisulfate"
          ],
          [
           "Cosyntropin",
           "Cosyntropin"
          ],
          [
           "Creon 12",
           "Creon 12"
          ],
          [
           "Cyanocobalamin",
           "Cyanocobalamin"
          ],
          [
           "Dexamethasone",
           "(?)"
          ],
          [
           "Dextrose 50%",
           "Dextrose 50%"
          ],
          [
           "Diazepam",
           "Diazepam"
          ],
          [
           "Digoxin",
           "Digoxin"
          ],
          [
           "Diltiazem",
           "Diltiazem"
          ],
          [
           "DiphenhydrAMINE HCl",
           "DiphenhydrAMINE HCl"
          ],
          [
           "Diphenhydramine HCl",
           "Diphenhydramine HCl"
          ],
          [
           "Docusate Sodium",
           "(?)"
          ],
          [
           "Docusate Sodium (Liquid)",
           "Docusate Sodium (Liquid)"
          ],
          [
           "Dolasetron Mesylate",
           "Dolasetron Mesylate"
          ],
          [
           "Donepezil",
           "Donepezil"
          ],
          [
           "Duloxetine",
           "Duloxetine"
          ],
          [
           "Enoxaparin Sodium",
           "Enoxaparin Sodium"
          ],
          [
           "Erythromycin 0.5% Ophth Oint",
           "Erythromycin 0.5% Ophth Oint"
          ],
          [
           "Escitalopram Oxalate",
           "Escitalopram Oxalate"
          ],
          [
           "Exelon",
           "*NF* Rivastigmine Tartrate"
          ],
          [
           "Famotidine",
           "Famotidine (PO)"
          ],
          [
           "Fentanyl Citrate",
           "Fentanyl Citrate"
          ],
          [
           "Fentanyl Patch",
           "Fentanyl Patch"
          ],
          [
           "Ferrous Sulfate",
           "(?)"
          ],
          [
           "Ferrous Sulfate (Liquid)",
           "Ferrous Sulfate (Liquid)"
          ],
          [
           "Finasteride",
           "Finasteride"
          ],
          [
           "Fleet Enema",
           "Fleet Enema"
          ],
          [
           "Fluconazole",
           "Fluconazole"
          ],
          [
           "Fludrocortisone Acetate",
           "Fludrocortisone Acetate"
          ],
          [
           "Flumazenil",
           "Flumazenil"
          ],
          [
           "Fluticasone Propionate 110mcg",
           "Fluticasone Propionate 110mcg"
          ],
          [
           "Fluticasone-Salmeterol (250/50) ",
           "Fluticasone-Salmeterol (250/50) "
          ],
          [
           "Fluticasone-Salmeterol Diskus (100/50)",
           "Fluticasone-Salmeterol Diskus (100/50)"
          ],
          [
           "Fluticasone-Salmeterol Diskus (250/50) ",
           "Fluticasone-Salmeterol Diskus (250/50) "
          ],
          [
           "Folic Acid",
           "Folic Acid"
          ],
          [
           "Fondaparinux Sodium",
           "Fondaparinux Sodium"
          ],
          [
           "Furosemide",
           "Furosemide"
          ],
          [
           "Gabapentin",
           "(?)"
          ],
          [
           "GlipiZIDE",
           "GlipiZIDE"
          ],
          [
           "GlipiZIDE XL",
           "GlipiZIDE XL"
          ],
          [
           "Glipizide",
           "Glipizide"
          ],
          [
           "Glucagon",
           "Glucagon"
          ],
          [
           "Glycopyrrolate",
           "Glycopyrrolate"
          ],
          [
           "Golytely",
           "Golytely"
          ],
          [
           "Guaifenesin",
           "Guaifenesin"
          ],
          [
           "HYDROmorphone (Dilaudid)",
           "(?)"
          ],
          [
           "Haloperidol",
           "Haloperidol"
          ],
          [
           "Heparin",
           "Heparin Sodium"
          ],
          [
           "Heparin Flush (10 units/ml)",
           "Heparin Flush (10 Units/mL)"
          ],
          [
           "Heparin Flush CVL  (100 units/ml)",
           "Heparin Flush"
          ],
          [
           "Heparin Flush PICC (100 units/ml)",
           "Heparin Flush"
          ],
          [
           "Hepatitis B Immune Globulin (Nabi-HB)",
           "Hepatitis B Immune Globulin (Nabi-HB)"
          ],
          [
           "HydrALAZINE HCl",
           "HydrALAZINE HCl"
          ],
          [
           "HydrALAzine",
           "HydrALAzine"
          ],
          [
           "Hydralazine HCl",
           "Hydralazine HCl"
          ],
          [
           "Hydrochlorothiazide",
           "Hydrochlorothiazide"
          ],
          [
           "Hydrocodone-Acetaminophen",
           "Hydrocodone-Acetaminophen"
          ],
          [
           "Hydrocortisone Na Succ.",
           "(?)"
          ],
          [
           "Hydromorphone",
           "(?)"
          ],
          [
           "Indomethacin",
           "Indomethacin"
          ],
          [
           "Influenza Virus Vaccine",
           "(?)"
          ],
          [
           "Insulin",
           "(?)"
          ],
          [
           "Ipratropium Bromide MDI",
           "(?)"
          ],
          [
           "Ipratropium Bromide Neb",
           "Ipratropium Bromide Neb"
          ],
          [
           "Isosorbide Dinitrate",
           "Isosorbide Dinitrate"
          ],
          [
           "Ketorolac",
           "Ketorolac"
          ],
          [
           "Labetalol",
           "Labetalol"
          ],
          [
           "Labetalol HCl",
           "Labetalol HCl"
          ],
          [
           "Lacri-Lube Oint",
           "Lacri-Lube Oint"
          ],
          [
           "Lactulose",
           "Lactulose"
          ],
          [
           "Lamivudine",
           "Lamivudine"
          ],
          [
           "Lansoprazole Oral Disintegrating Tab",
           "Lansoprazole Oral Disintegrating Tab"
          ],
          [
           "Lansoprazole Oral Solution",
           "Lansoprazole Oral Solution"
          ],
          [
           "Lansoprazole Oral Suspension",
           "Lansoprazole Oral Suspension"
          ],
          [
           "Latanoprost 0.005% Ophth. Soln.",
           "Latanoprost 0.005% Ophth. Soln."
          ],
          [
           "Levofloxacin",
           "Levofloxacin"
          ],
          [
           "Levothyroxine Sodium",
           "(?)"
          ],
          [
           "Lidocaine",
           "Lidocaine"
          ],
          [
           "Lidocaine 5% Patch",
           "Lidocaine 5% Patch"
          ],
          [
           "Lidocaine Jelly 2%",
           "Lidocaine Jelly 2%"
          ],
          [
           "Lidocaine Jelly 2% (Urojet)",
           "Lidocaine Jelly 2% (Urojet)"
          ],
          [
           "Lidocaine Viscous 2%",
           "Lidocaine Viscous 2%"
          ],
          [
           "Linezolid",
           "Linezolid"
          ],
          [
           "Lisinopril",
           "Lisinopril"
          ],
          [
           "Lorazepam",
           "Lorazepam"
          ],
          [
           "Losartan Potassium",
           "Losartan Potassium"
          ],
          [
           "Magnesium Oxide",
           "Magnesium Oxide"
          ],
          [
           "Magnesium Sulfate",
           "Magnesium Sulfate"
          ],
          [
           "MetFORMIN XR (Glucophage XR)",
           "MetFORMIN XR (Glucophage XR)"
          ],
          [
           "MetRONIDAZOLE (FLagyl)",
           "MetRONIDAZOLE (FLagyl)"
          ],
          [
           "Methimazole",
           "Methimazole"
          ],
          [
           "Metoclopramide",
           "(?)"
          ],
          [
           "Metoprolol",
           "Metoprolol"
          ],
          [
           "Metoprolol Succinate XL",
           "Metoprolol Succinate XL"
          ],
          [
           "Metoprolol Tartrate",
           "Metoprolol Tartrate"
          ],
          [
           "Metronidazole",
           "Metronidazole"
          ],
          [
           "Miconazole Powder 2%",
           "Miconazole Powder 2%"
          ],
          [
           "Midazolam",
           "Midazolam"
          ],
          [
           "Midazolam HCl",
           "Midazolam HCl"
          ],
          [
           "Milk of Magnesia",
           "Milk Of Magnesia"
          ],
          [
           "Minoxidil",
           "Minoxidil"
          ],
          [
           "Mirtazapine",
           "(?)"
          ],
          [
           "Moexipril HCl",
           "Moexipril HCl"
          ],
          [
           "Montelukast Sodium",
           "Montelukast"
          ],
          [
           "Morphine SR (MS Contin)",
           "Morphine SR (MS Contin)"
          ],
          [
           "Morphine Sulfate",
           "(?)"
          ],
          [
           "Morphine Sulfate (Concentrated Oral Soln)",
           "Morphine Sulfate (Concentrated Oral Soln)"
          ],
          [
           "Morphine Sulfate (Oral Soln.)",
           "Morphine Sulfate (Oral Soln.)"
          ],
          [
           "Morphine Sulfate IR",
           "(?)"
          ],
          [
           "Multiple Vitamins Liq.",
           "Multiple Vitamins Liq."
          ],
          [
           "Multivitamins",
           "(?)"
          ],
          [
           "Multivitamins W/minerals",
           "(?)"
          ],
          [
           "Mycophenolate Mofetil",
           "Mycophenolate Mofetil Suspension"
          ],
          [
           "NIFEdipine CR",
           "NIFEdipine CR"
          ],
          [
           "Naloxone",
           "Naloxone"
          ],
          [
           "Naproxen",
           "Naproxen"
          ],
          [
           "Neostigmine",
           "Neostigmine"
          ],
          [
           "Neutra-Phos",
           "Neutra-Phos"
          ],
          [
           "Nicotine Patch",
           "Nicotine Patch"
          ],
          [
           "Nitroglycerin Ointment  2%",
           "Nitroglycerin Ointment  2%"
          ],
          [
           "Nitroglycerin SL",
           "Nitroglycerin SL"
          ],
          [
           "Nystatin",
           "Nystatin Oral Suspension"
          ],
          [
           "Nystatin Oral Suspension",
           "Nystatin Oral Suspension"
          ],
          [
           "Olanzapine (Disintegrating Tablet)",
           "Olanzapine (Disintegrating Tablet)"
          ],
          [
           "Omeprazole",
           "Omeprazole"
          ],
          [
           "Ondansetron",
           "Ondansetron"
          ],
          [
           "Oxybutynin",
           "Oxybutynin"
          ],
          [
           "OxycoDONE (Immediate Release) ",
           "OxycoDONE (Immediate Release) "
          ],
          [
           "OxycoDONE Liquid",
           "OxycoDONE Liquid"
          ],
          [
           "Oxycodone",
           "Oxycodone"
          ],
          [
           "Oxycodone (Sustained Release)",
           "Oxycodone (Sustained Release)"
          ],
          [
           "Oxycodone-Acetaminophen",
           "(?)"
          ],
          [
           "Pancrelipase 5000",
           "Pancrelipase 5000"
          ],
          [
           "Pantoprazole",
           "Pantoprazole"
          ],
          [
           "Paroxetine",
           "(?)"
          ],
          [
           "Phenytoin",
           "(?)"
          ],
          [
           "Phosphorus",
           "Phosphorus"
          ],
          [
           "Phytonadione",
           "Phytonadione"
          ],
          [
           "Pioglitazone HCl",
           "Pioglitazone HCl"
          ],
          [
           "Pletal",
           "*NF* Cilostazol"
          ],
          [
           "Pneumococcal Vac Polyvalent",
           "(?)"
          ],
          [
           "Polyethylene Glycol",
           "Polyethylene Glycol"
          ],
          [
           "Potassium Chloride",
           "(?)"
          ],
          [
           "Potassium Chloride (Powder)",
           "Potassium Chloride (Powder)"
          ],
          [
           "Potassium Chloride Replacement (Oncology)",
           "(?)"
          ],
          [
           "Pravastatin",
           "Pravastatin"
          ],
          [
           "PredniSONE",
           "PredniSONE"
          ],
          [
           "PrednisoLONE Acetate 1% Ophth. Susp.",
           "PrednisoLONE Acetate 1% Ophth. Susp."
          ],
          [
           "Prednisone",
           "Prednisone"
          ],
          [
           "Prochlorperazine",
           "Prochlorperazine"
          ],
          [
           "Propofol",
           "Propofol"
          ],
          [
           "Propofol (Generic)",
           "Propofol (Generic)"
          ],
          [
           "Quetiapine Fumarate",
           "Quetiapine Fumarate"
          ],
          [
           "Quinidine Gluconate",
           "Quinidine Gluconate"
          ],
          [
           "Ranitidine",
           "(?)"
          ],
          [
           "Salmeterol Xinafoate Diskus (50 mcg)",
           "Salmeterol Xinafoate Diskus (50 mcg)"
          ],
          [
           "Sarna Lotion",
           "Sarna Lotion"
          ],
          [
           "Scopolamine Patch",
           "Scopolamine Patch"
          ],
          [
           "Senna",
           "Senna"
          ],
          [
           "Sevelamer",
           "Sevelamer HCl"
          ],
          [
           "Simethicone",
           "Simethicone"
          ],
          [
           "Simvastatin",
           "Simvastatin"
          ],
          [
           "Sodium Bicarbo",
           "Sodium Bicarbonate"
          ],
          [
           "Sodium Bicarbonate",
           "Sodium Bicarbonate"
          ],
          [
           "Sodium Chloride 0.9%  Flush",
           "Sodium Chloride 0.9%  Flush"
          ],
          [
           "Sodium Chloride Nasal",
           "Sodium Chloride Nasal"
          ],
          [
           "Sodium Polystyrene Sulfonate",
           "Sodium Polystyrene Sulfonate"
          ],
          [
           "Spironolactone",
           "Spironolactone"
          ],
          [
           "Sucralfate",
           "Sucralfate"
          ],
          [
           "Sulfameth/Trimethoprim",
           "Sulfameth/Trimethoprim SS"
          ],
          [
           "Sulfameth/Trimethoprim DS",
           "Sulfameth/Trimethoprim DS"
          ],
          [
           "Sulfameth/Trimethoprim SS",
           "Sulfameth/Trimethoprim SS"
          ],
          [
           "Sumatriptan Succinate",
           "Sumatriptan Succinate"
          ],
          [
           "Tacrolimus",
           "(?)"
          ],
          [
           "Tamsulosin",
           "Tamsulosin"
          ],
          [
           "Thiamine HCl",
           "Thiamine HCl"
          ],
          [
           "Thioridazine HCl",
           "Thioridazine HCl"
          ],
          [
           "Timolol Maleate 0.25%",
           "Timolol Maleate 0.25%"
          ],
          [
           "Tiotropium Bromide",
           "Tiotropium Bromide"
          ],
          [
           "TraMADOL (Ultram)",
           "TraMADOL (Ultram)"
          ],
          [
           "Valganciclovir HCl",
           "Valganciclovir HCl"
          ],
          [
           "Vancomycin Oral Liquid",
           "Vancomycin Oral Liquid"
          ],
          [
           "Venlafaxine XR",
           "Venlafaxine XR"
          ],
          [
           "Vitamin D",
           "Vitamin D"
          ],
          [
           "Warfarin",
           "Warfarin"
          ],
          [
           "Zinc Sulfate",
           "Zinc Sulfate"
          ],
          [
           "Zolpidem Tartrate",
           "Zolpidem Tartrate"
          ],
          [
           "sodium bicarb",
           "Sodium Bicarbonate"
          ],
          [
           "traZODONE",
           "traZODONE"
          ],
          [
           "traZODONE HCl",
           "traZODONE HCl"
          ]
         ],
         "domain": {
          "x": [
           0,
           1
          ],
          "y": [
           0,
           1
          ]
         },
         "hovertemplate": "\n    Drug: %{label}<br>\n    Count: %{value}<br>\n    POE Name: %{customdata[0]}<br>\n    Generic Name: %{customdata[1]}<br>\n    <extra></extra>\n    ",
         "ids": [
          "AcetaZOLamide",
          "Acetaminophen",
          "Acetaminophen (Liquid)",
          "Acetaminophen IV",
          "Acetaminophen w/Codeine",
          "Acetylcysteine 20%",
          "Acular",
          "Adenosine",
          "Albumin",
          "Albumin 25% (12.5 g)",
          "Albumin 25% (12.5g / 50mL)",
          "Albumin 5%",
          "Albumin 5% (12.5 g)",
          "Albumin 5% (25 g)",
          "Albuterol",
          "Albuterol 0.083% Neb Soln",
          "Albuterol Inhaler",
          "Albuterol Neb Soln",
          "Albuterol-Ipratropium",
          "Allopurinol",
          "Alteplase (Catheter Clearance)",
          "Aluminum-Magnesium Hydrox.-Simethicone",
          "Amiodarone HCl",
          "Amlodipine",
          "Artificial Tear Ointment",
          "Artificial Tears",
          "Artificial Tears Preserv. Free",
          "Ascorbic Acid",
          "Ascorbic Acid (Liquid)",
          "Aspirin",
          "Aspirin EC",
          "Atenolol",
          "Atorvastatin",
          "Atropine Sulfate",
          "Azithromycin",
          "Baclofen",
          "Benzocaine 20% Spray",
          "Bisacodyl",
          "Brimonidine Tartrate 0.15% Ophth.",
          "Calcium Acetate",
          "Calcium Carbonate",
          "Calcium Chloride",
          "Calcium Gluconate",
          "Capsaicin 0.025%",
          "Captopril",
          "Carbamazepine XR",
          "Carbidopa-Levodopa CR (25-100)",
          "Cepacol (Menthol)",
          "Cephalexin",
          "Chlorhexidine Gluconate 0.12% Oral Rinse",
          "Ciprofloxacin 0.3% Ophth Soln",
          "Ciprofloxacin HCl",
          "Citalopram",
          "Citalopram Hydrobromide",
          "Clonidine HCl",
          "Clopidogrel",
          "Clopidogrel Bisulfate",
          "Cosyntropin",
          "Creon 12",
          "Cyanocobalamin",
          "Dexamethasone",
          "Dextrose 50%",
          "Diazepam",
          "Digoxin",
          "Diltiazem",
          "DiphenhydrAMINE HCl",
          "Diphenhydramine HCl",
          "Docusate Sodium",
          "Docusate Sodium (Liquid)",
          "Dolasetron Mesylate",
          "Donepezil",
          "Duloxetine",
          "Enoxaparin Sodium",
          "Erythromycin 0.5% Ophth Oint",
          "Escitalopram Oxalate",
          "Exelon",
          "Famotidine",
          "Fentanyl Citrate",
          "Fentanyl Patch",
          "Ferrous Sulfate",
          "Ferrous Sulfate (Liquid)",
          "Finasteride",
          "Fleet Enema",
          "Fluconazole",
          "Fludrocortisone Acetate",
          "Flumazenil",
          "Fluticasone Propionate 110mcg",
          "Fluticasone-Salmeterol (250/50) ",
          "Fluticasone-Salmeterol Diskus (100/50)",
          "Fluticasone-Salmeterol Diskus (250/50) ",
          "Folic Acid",
          "Fondaparinux Sodium",
          "Furosemide",
          "Gabapentin",
          "GlipiZIDE",
          "GlipiZIDE XL",
          "Glipizide",
          "Glucagon",
          "Glycopyrrolate",
          "Golytely",
          "Guaifenesin",
          "HYDROmorphone (Dilaudid)",
          "Haloperidol",
          "Heparin",
          "Heparin Flush (10 units/ml)",
          "Heparin Flush CVL  (100 units/ml)",
          "Heparin Flush PICC (100 units/ml)",
          "Hepatitis B Immune Globulin (Nabi-HB)",
          "HydrALAZINE HCl",
          "HydrALAzine",
          "Hydralazine HCl",
          "Hydrochlorothiazide",
          "Hydrocodone-Acetaminophen",
          "Hydrocortisone Na Succ.",
          "Hydromorphone",
          "Indomethacin",
          "Influenza Virus Vaccine",
          "Insulin",
          "Ipratropium Bromide MDI",
          "Ipratropium Bromide Neb",
          "Isosorbide Dinitrate",
          "Ketorolac",
          "Labetalol",
          "Labetalol HCl",
          "Lacri-Lube Oint",
          "Lactulose",
          "Lamivudine",
          "Lansoprazole Oral Disintegrating Tab",
          "Lansoprazole Oral Solution",
          "Lansoprazole Oral Suspension",
          "Latanoprost 0.005% Ophth. Soln.",
          "Levofloxacin",
          "Levothyroxine Sodium",
          "Lidocaine",
          "Lidocaine 5% Patch",
          "Lidocaine Jelly 2%",
          "Lidocaine Jelly 2% (Urojet)",
          "Lidocaine Viscous 2%",
          "Linezolid",
          "Lisinopril",
          "Lorazepam",
          "Losartan Potassium",
          "Magnesium Oxide",
          "Magnesium Sulfate",
          "MetFORMIN XR (Glucophage XR)",
          "MetRONIDAZOLE (FLagyl)",
          "Methimazole",
          "Metoclopramide",
          "Metoprolol",
          "Metoprolol Succinate XL",
          "Metoprolol Tartrate",
          "Metronidazole",
          "Miconazole Powder 2%",
          "Midazolam",
          "Midazolam HCl",
          "Milk of Magnesia",
          "Minoxidil",
          "Mirtazapine",
          "Moexipril HCl",
          "Montelukast Sodium",
          "Morphine SR (MS Contin)",
          "Morphine Sulfate",
          "Morphine Sulfate (Concentrated Oral Soln)",
          "Morphine Sulfate (Oral Soln.)",
          "Morphine Sulfate IR",
          "Multiple Vitamins Liq.",
          "Multivitamins",
          "Multivitamins W/minerals",
          "Mycophenolate Mofetil",
          "NIFEdipine CR",
          "Naloxone",
          "Naproxen",
          "Neostigmine",
          "Neutra-Phos",
          "Nicotine Patch",
          "Nitroglycerin Ointment  2%",
          "Nitroglycerin SL",
          "Nystatin",
          "Nystatin Oral Suspension",
          "Olanzapine (Disintegrating Tablet)",
          "Omeprazole",
          "Ondansetron",
          "Oxybutynin",
          "OxycoDONE (Immediate Release) ",
          "OxycoDONE Liquid",
          "Oxycodone",
          "Oxycodone (Sustained Release)",
          "Oxycodone-Acetaminophen",
          "Pancrelipase 5000",
          "Pantoprazole",
          "Paroxetine",
          "Phenytoin",
          "Phosphorus",
          "Phytonadione",
          "Pioglitazone HCl",
          "Pletal",
          "Pneumococcal Vac Polyvalent",
          "Polyethylene Glycol",
          "Potassium Chloride",
          "Potassium Chloride (Powder)",
          "Potassium Chloride Replacement (Oncology)",
          "Pravastatin",
          "PredniSONE",
          "PrednisoLONE Acetate 1% Ophth. Susp.",
          "Prednisone",
          "Prochlorperazine",
          "Propofol",
          "Propofol (Generic)",
          "Quetiapine Fumarate",
          "Quinidine Gluconate",
          "Ranitidine",
          "Salmeterol Xinafoate Diskus (50 mcg)",
          "Sarna Lotion",
          "Scopolamine Patch",
          "Senna",
          "Sevelamer",
          "Simethicone",
          "Simvastatin",
          "Sodium Bicarbo",
          "Sodium Bicarbonate",
          "Sodium Chloride 0.9%  Flush",
          "Sodium Chloride Nasal",
          "Sodium Polystyrene Sulfonate",
          "Spironolactone",
          "Sucralfate",
          "Sulfameth/Trimethoprim",
          "Sulfameth/Trimethoprim DS",
          "Sulfameth/Trimethoprim SS",
          "Sumatriptan Succinate",
          "Tacrolimus",
          "Tamsulosin",
          "Thiamine HCl",
          "Thioridazine HCl",
          "Timolol Maleate 0.25%",
          "Tiotropium Bromide",
          "TraMADOL (Ultram)",
          "Valganciclovir HCl",
          "Vancomycin Oral Liquid",
          "Venlafaxine XR",
          "Vitamin D",
          "Warfarin",
          "Zinc Sulfate",
          "Zolpidem Tartrate",
          "sodium bicarb",
          "traZODONE",
          "traZODONE HCl"
         ],
         "labels": [
          "AcetaZOLamide",
          "Acetaminophen",
          "Acetaminophen (Liquid)",
          "Acetaminophen IV",
          "Acetaminophen w/Codeine",
          "Acetylcysteine 20%",
          "Acular",
          "Adenosine",
          "Albumin",
          "Albumin 25% (12.5 g)",
          "Albumin 25% (12.5g / 50mL)",
          "Albumin 5%",
          "Albumin 5% (12.5 g)",
          "Albumin 5% (25 g)",
          "Albuterol",
          "Albuterol 0.083% Neb Soln",
          "Albuterol Inhaler",
          "Albuterol Neb Soln",
          "Albuterol-Ipratropium",
          "Allopurinol",
          "Alteplase (Catheter Clearance)",
          "Aluminum-Magnesium Hydrox.-Simethicone",
          "Amiodarone HCl",
          "Amlodipine",
          "Artificial Tear Ointment",
          "Artificial Tears",
          "Artificial Tears Preserv. Free",
          "Ascorbic Acid",
          "Ascorbic Acid (Liquid)",
          "Aspirin",
          "Aspirin EC",
          "Atenolol",
          "Atorvastatin",
          "Atropine Sulfate",
          "Azithromycin",
          "Baclofen",
          "Benzocaine 20% Spray",
          "Bisacodyl",
          "Brimonidine Tartrate 0.15% Ophth.",
          "Calcium Acetate",
          "Calcium Carbonate",
          "Calcium Chloride",
          "Calcium Gluconate",
          "Capsaicin 0.025%",
          "Captopril",
          "Carbamazepine XR",
          "Carbidopa-Levodopa CR (25-100)",
          "Cepacol (Menthol)",
          "Cephalexin",
          "Chlorhexidine Gluconate 0.12% Oral Rinse",
          "Ciprofloxacin 0.3% Ophth Soln",
          "Ciprofloxacin HCl",
          "Citalopram",
          "Citalopram Hydrobromide",
          "Clonidine HCl",
          "Clopidogrel",
          "Clopidogrel Bisulfate",
          "Cosyntropin",
          "Creon 12",
          "Cyanocobalamin",
          "Dexamethasone",
          "Dextrose 50%",
          "Diazepam",
          "Digoxin",
          "Diltiazem",
          "DiphenhydrAMINE HCl",
          "Diphenhydramine HCl",
          "Docusate Sodium",
          "Docusate Sodium (Liquid)",
          "Dolasetron Mesylate",
          "Donepezil",
          "Duloxetine",
          "Enoxaparin Sodium",
          "Erythromycin 0.5% Ophth Oint",
          "Escitalopram Oxalate",
          "Exelon",
          "Famotidine",
          "Fentanyl Citrate",
          "Fentanyl Patch",
          "Ferrous Sulfate",
          "Ferrous Sulfate (Liquid)",
          "Finasteride",
          "Fleet Enema",
          "Fluconazole",
          "Fludrocortisone Acetate",
          "Flumazenil",
          "Fluticasone Propionate 110mcg",
          "Fluticasone-Salmeterol (250/50) ",
          "Fluticasone-Salmeterol Diskus (100/50)",
          "Fluticasone-Salmeterol Diskus (250/50) ",
          "Folic Acid",
          "Fondaparinux Sodium",
          "Furosemide",
          "Gabapentin",
          "GlipiZIDE",
          "GlipiZIDE XL",
          "Glipizide",
          "Glucagon",
          "Glycopyrrolate",
          "Golytely",
          "Guaifenesin",
          "HYDROmorphone (Dilaudid)",
          "Haloperidol",
          "Heparin",
          "Heparin Flush (10 units/ml)",
          "Heparin Flush CVL  (100 units/ml)",
          "Heparin Flush PICC (100 units/ml)",
          "Hepatitis B Immune Globulin (Nabi-HB)",
          "HydrALAZINE HCl",
          "HydrALAzine",
          "Hydralazine HCl",
          "Hydrochlorothiazide",
          "Hydrocodone-Acetaminophen",
          "Hydrocortisone Na Succ.",
          "Hydromorphone",
          "Indomethacin",
          "Influenza Virus Vaccine",
          "Insulin",
          "Ipratropium Bromide MDI",
          "Ipratropium Bromide Neb",
          "Isosorbide Dinitrate",
          "Ketorolac",
          "Labetalol",
          "Labetalol HCl",
          "Lacri-Lube Oint",
          "Lactulose",
          "Lamivudine",
          "Lansoprazole Oral Disintegrating Tab",
          "Lansoprazole Oral Solution",
          "Lansoprazole Oral Suspension",
          "Latanoprost 0.005% Ophth. Soln.",
          "Levofloxacin",
          "Levothyroxine Sodium",
          "Lidocaine",
          "Lidocaine 5% Patch",
          "Lidocaine Jelly 2%",
          "Lidocaine Jelly 2% (Urojet)",
          "Lidocaine Viscous 2%",
          "Linezolid",
          "Lisinopril",
          "Lorazepam",
          "Losartan Potassium",
          "Magnesium Oxide",
          "Magnesium Sulfate",
          "MetFORMIN XR (Glucophage XR)",
          "MetRONIDAZOLE (FLagyl)",
          "Methimazole",
          "Metoclopramide",
          "Metoprolol",
          "Metoprolol Succinate XL",
          "Metoprolol Tartrate",
          "Metronidazole",
          "Miconazole Powder 2%",
          "Midazolam",
          "Midazolam HCl",
          "Milk of Magnesia",
          "Minoxidil",
          "Mirtazapine",
          "Moexipril HCl",
          "Montelukast Sodium",
          "Morphine SR (MS Contin)",
          "Morphine Sulfate",
          "Morphine Sulfate (Concentrated Oral Soln)",
          "Morphine Sulfate (Oral Soln.)",
          "Morphine Sulfate IR",
          "Multiple Vitamins Liq.",
          "Multivitamins",
          "Multivitamins W/minerals",
          "Mycophenolate Mofetil",
          "NIFEdipine CR",
          "Naloxone",
          "Naproxen",
          "Neostigmine",
          "Neutra-Phos",
          "Nicotine Patch",
          "Nitroglycerin Ointment  2%",
          "Nitroglycerin SL",
          "Nystatin",
          "Nystatin Oral Suspension",
          "Olanzapine (Disintegrating Tablet)",
          "Omeprazole",
          "Ondansetron",
          "Oxybutynin",
          "OxycoDONE (Immediate Release) ",
          "OxycoDONE Liquid",
          "Oxycodone",
          "Oxycodone (Sustained Release)",
          "Oxycodone-Acetaminophen",
          "Pancrelipase 5000",
          "Pantoprazole",
          "Paroxetine",
          "Phenytoin",
          "Phosphorus",
          "Phytonadione",
          "Pioglitazone HCl",
          "Pletal",
          "Pneumococcal Vac Polyvalent",
          "Polyethylene Glycol",
          "Potassium Chloride",
          "Potassium Chloride (Powder)",
          "Potassium Chloride Replacement (Oncology)",
          "Pravastatin",
          "PredniSONE",
          "PrednisoLONE Acetate 1% Ophth. Susp.",
          "Prednisone",
          "Prochlorperazine",
          "Propofol",
          "Propofol (Generic)",
          "Quetiapine Fumarate",
          "Quinidine Gluconate",
          "Ranitidine",
          "Salmeterol Xinafoate Diskus (50 mcg)",
          "Sarna Lotion",
          "Scopolamine Patch",
          "Senna",
          "Sevelamer",
          "Simethicone",
          "Simvastatin",
          "Sodium Bicarbo",
          "Sodium Bicarbonate",
          "Sodium Chloride 0.9%  Flush",
          "Sodium Chloride Nasal",
          "Sodium Polystyrene Sulfonate",
          "Spironolactone",
          "Sucralfate",
          "Sulfameth/Trimethoprim",
          "Sulfameth/Trimethoprim DS",
          "Sulfameth/Trimethoprim SS",
          "Sumatriptan Succinate",
          "Tacrolimus",
          "Tamsulosin",
          "Thiamine HCl",
          "Thioridazine HCl",
          "Timolol Maleate 0.25%",
          "Tiotropium Bromide",
          "TraMADOL (Ultram)",
          "Valganciclovir HCl",
          "Vancomycin Oral Liquid",
          "Venlafaxine XR",
          "Vitamin D",
          "Warfarin",
          "Zinc Sulfate",
          "Zolpidem Tartrate",
          "sodium bicarb",
          "traZODONE",
          "traZODONE HCl"
         ],
         "name": "",
         "parents": [
          "",
          "",
          "",
          "",
          "",
          "",
          "",
          "",
          "",
          "",
          "",
          "",
          "",
          "",
          "",
          "",
          "",
          "",
          "",
          "",
          "",
          "",
          "",
          "",
          "",
          "",
          "",
          "",
          "",
          "",
          "",
          "",
          "",
          "",
          "",
          "",
          "",
          "",
          "",
          "",
          "",
          "",
          "",
          "",
          "",
          "",
          "",
          "",
          "",
          "",
          "",
          "",
          "",
          "",
          "",
          "",
          "",
          "",
          "",
          "",
          "",
          "",
          "",
          "",
          "",
          "",
          "",
          "",
          "",
          "",
          "",
          "",
          "",
          "",
          "",
          "",
          "",
          "",
          "",
          "",
          "",
          "",
          "",
          "",
          "",
          "",
          "",
          "",
          "",
          "",
          "",
          "",
          "",
          "",
          "",
          "",
          "",
          "",
          "",
          "",
          "",
          "",
          "",
          "",
          "",
          "",
          "",
          "",
          "",
          "",
          "",
          "",
          "",
          "",
          "",
          "",
          "",
          "",
          "",
          "",
          "",
          "",
          "",
          "",
          "",
          "",
          "",
          "",
          "",
          "",
          "",
          "",
          "",
          "",
          "",
          "",
          "",
          "",
          "",
          "",
          "",
          "",
          "",
          "",
          "",
          "",
          "",
          "",
          "",
          "",
          "",
          "",
          "",
          "",
          "",
          "",
          "",
          "",
          "",
          "",
          "",
          "",
          "",
          "",
          "",
          "",
          "",
          "",
          "",
          "",
          "",
          "",
          "",
          "",
          "",
          "",
          "",
          "",
          "",
          "",
          "",
          "",
          "",
          "",
          "",
          "",
          "",
          "",
          "",
          "",
          "",
          "",
          "",
          "",
          "",
          "",
          "",
          "",
          "",
          "",
          "",
          "",
          "",
          "",
          "",
          "",
          "",
          "",
          "",
          "",
          "",
          "",
          "",
          "",
          "",
          "",
          "",
          "",
          "",
          "",
          "",
          "",
          "",
          "",
          "",
          "",
          "",
          "",
          "",
          "",
          "",
          "",
          "",
          "",
          "",
          "",
          "",
          "",
          "",
          "",
          "",
          "",
          "",
          "",
          "",
          ""
         ],
         "type": "treemap",
         "values": {
          "bdata": "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",
          "dtype": "f8"
         }
        }
       ],
       "layout": {
        "height": 800,
        "legend": {
         "tracegroupgap": 0
        },
        "template": {
         "data": {
          "bar": [
           {
            "error_x": {
             "color": "#2a3f5f"
            },
            "error_y": {
             "color": "#2a3f5f"
            },
            "marker": {
             "line": {
              "color": "#E5ECF6",
              "width": 0.5
             },
             "pattern": {
              "fillmode": "overlay",
              "size": 10,
              "solidity": 0.2
             }
            },
            "type": "bar"
           }
          ],
          "barpolar": [
           {
            "marker": {
             "line": {
              "color": "#E5ECF6",
              "width": 0.5
             },
             "pattern": {
              "fillmode": "overlay",
              "size": 10,
              "solidity": 0.2
             }
            },
            "type": "barpolar"
           }
          ],
          "carpet": [
           {
            "aaxis": {
             "endlinecolor": "#2a3f5f",
             "gridcolor": "white",
             "linecolor": "white",
             "minorgridcolor": "white",
             "startlinecolor": "#2a3f5f"
            },
            "baxis": {
             "endlinecolor": "#2a3f5f",
             "gridcolor": "white",
             "linecolor": "white",
             "minorgridcolor": "white",
             "startlinecolor": "#2a3f5f"
            },
            "type": "carpet"
           }
          ],
          "choropleth": [
           {
            "colorbar": {
             "outlinewidth": 0,
             "ticks": ""
            },
            "type": "choropleth"
           }
          ],
          "contour": [
           {
            "colorbar": {
             "outlinewidth": 0,
             "ticks": ""
            },
            "colorscale": [
             [
              0,
              "#0d0887"
             ],
             [
              0.1111111111111111,
              "#46039f"
             ],
             [
              0.2222222222222222,
              "#7201a8"
             ],
             [
              0.3333333333333333,
              "#9c179e"
             ],
             [
              0.4444444444444444,
              "#bd3786"
             ],
             [
              0.5555555555555556,
              "#d8576b"
             ],
             [
              0.6666666666666666,
              "#ed7953"
             ],
             [
              0.7777777777777778,
              "#fb9f3a"
             ],
             [
              0.8888888888888888,
              "#fdca26"
             ],
             [
              1,
              "#f0f921"
             ]
            ],
            "type": "contour"
           }
          ],
          "contourcarpet": [
           {
            "colorbar": {
             "outlinewidth": 0,
             "ticks": ""
            },
            "type": "contourcarpet"
           }
          ],
          "heatmap": [
           {
            "colorbar": {
             "outlinewidth": 0,
             "ticks": ""
            },
            "colorscale": [
             [
              0,
              "#0d0887"
             ],
             [
              0.1111111111111111,
              "#46039f"
             ],
             [
              0.2222222222222222,
              "#7201a8"
             ],
             [
              0.3333333333333333,
              "#9c179e"
             ],
             [
              0.4444444444444444,
              "#bd3786"
             ],
             [
              0.5555555555555556,
              "#d8576b"
             ],
             [
              0.6666666666666666,
              "#ed7953"
             ],
             [
              0.7777777777777778,
              "#fb9f3a"
             ],
             [
              0.8888888888888888,
              "#fdca26"
             ],
             [
              1,
              "#f0f921"
             ]
            ],
            "type": "heatmap"
           }
          ],
          "histogram": [
           {
            "marker": {
             "pattern": {
              "fillmode": "overlay",
              "size": 10,
              "solidity": 0.2
             }
            },
            "type": "histogram"
           }
          ],
          "histogram2d": [
           {
            "colorbar": {
             "outlinewidth": 0,
             "ticks": ""
            },
            "colorscale": [
             [
              0,
              "#0d0887"
             ],
             [
              0.1111111111111111,
              "#46039f"
             ],
             [
              0.2222222222222222,
              "#7201a8"
             ],
             [
              0.3333333333333333,
              "#9c179e"
             ],
             [
              0.4444444444444444,
              "#bd3786"
             ],
             [
              0.5555555555555556,
              "#d8576b"
             ],
             [
              0.6666666666666666,
              "#ed7953"
             ],
             [
              0.7777777777777778,
              "#fb9f3a"
             ],
             [
              0.8888888888888888,
              "#fdca26"
             ],
             [
              1,
              "#f0f921"
             ]
            ],
            "type": "histogram2d"
           }
          ],
          "histogram2dcontour": [
           {
            "colorbar": {
             "outlinewidth": 0,
             "ticks": ""
            },
            "colorscale": [
             [
              0,
              "#0d0887"
             ],
             [
              0.1111111111111111,
              "#46039f"
             ],
             [
              0.2222222222222222,
              "#7201a8"
             ],
             [
              0.3333333333333333,
              "#9c179e"
             ],
             [
              0.4444444444444444,
              "#bd3786"
             ],
             [
              0.5555555555555556,
              "#d8576b"
             ],
             [
              0.6666666666666666,
              "#ed7953"
             ],
             [
              0.7777777777777778,
              "#fb9f3a"
             ],
             [
              0.8888888888888888,
              "#fdca26"
             ],
             [
              1,
              "#f0f921"
             ]
            ],
            "type": "histogram2dcontour"
           }
          ],
          "mesh3d": [
           {
            "colorbar": {
             "outlinewidth": 0,
             "ticks": ""
            },
            "type": "mesh3d"
           }
          ],
          "parcoords": [
           {
            "line": {
             "colorbar": {
              "outlinewidth": 0,
              "ticks": ""
             }
            },
            "type": "parcoords"
           }
          ],
          "pie": [
           {
            "automargin": true,
            "type": "pie"
           }
          ],
          "scatter": [
           {
            "fillpattern": {
             "fillmode": "overlay",
             "size": 10,
             "solidity": 0.2
            },
            "type": "scatter"
           }
          ],
          "scatter3d": [
           {
            "line": {
             "colorbar": {
              "outlinewidth": 0,
              "ticks": ""
             }
            },
            "marker": {
             "colorbar": {
              "outlinewidth": 0,
              "ticks": ""
             }
            },
            "type": "scatter3d"
           }
          ],
          "scattercarpet": [
           {
            "marker": {
             "colorbar": {
              "outlinewidth": 0,
              "ticks": ""
             }
            },
            "type": "scattercarpet"
           }
          ],
          "scattergeo": [
           {
            "marker": {
             "colorbar": {
              "outlinewidth": 0,
              "ticks": ""
             }
            },
            "type": "scattergeo"
           }
          ],
          "scattergl": [
           {
            "marker": {
             "colorbar": {
              "outlinewidth": 0,
              "ticks": ""
             }
            },
            "type": "scattergl"
           }
          ],
          "scattermap": [
           {
            "marker": {
             "colorbar": {
              "outlinewidth": 0,
              "ticks": ""
             }
            },
            "type": "scattermap"
           }
          ],
          "scattermapbox": [
           {
            "marker": {
             "colorbar": {
              "outlinewidth": 0,
              "ticks": ""
             }
            },
            "type": "scattermapbox"
           }
          ],
          "scatterpolar": [
           {
            "marker": {
             "colorbar": {
              "outlinewidth": 0,
              "ticks": ""
             }
            },
            "type": "scatterpolar"
           }
          ],
          "scatterpolargl": [
           {
            "marker": {
             "colorbar": {
              "outlinewidth": 0,
              "ticks": ""
             }
            },
            "type": "scatterpolargl"
           }
          ],
          "scatterternary": [
           {
            "marker": {
             "colorbar": {
              "outlinewidth": 0,
              "ticks": ""
             }
            },
            "type": "scatterternary"
           }
          ],
          "surface": [
           {
            "colorbar": {
             "outlinewidth": 0,
             "ticks": ""
            },
            "colorscale": [
             [
              0,
              "#0d0887"
             ],
             [
              0.1111111111111111,
              "#46039f"
             ],
             [
              0.2222222222222222,
              "#7201a8"
             ],
             [
              0.3333333333333333,
              "#9c179e"
             ],
             [
              0.4444444444444444,
              "#bd3786"
             ],
             [
              0.5555555555555556,
              "#d8576b"
             ],
             [
              0.6666666666666666,
              "#ed7953"
             ],
             [
              0.7777777777777778,
              "#fb9f3a"
             ],
             [
              0.8888888888888888,
              "#fdca26"
             ],
             [
              1,
              "#f0f921"
             ]
            ],
            "type": "surface"
           }
          ],
          "table": [
           {
            "cells": {
             "fill": {
              "color": "#EBF0F8"
             },
             "line": {
              "color": "white"
             }
            },
            "header": {
             "fill": {
              "color": "#C8D4E3"
             },
             "line": {
              "color": "white"
             }
            },
            "type": "table"
           }
          ]
         },
         "layout": {
          "annotationdefaults": {
           "arrowcolor": "#2a3f5f",
           "arrowhead": 0,
           "arrowwidth": 1
          },
          "autotypenumbers": "strict",
          "coloraxis": {
           "colorbar": {
            "outlinewidth": 0,
            "ticks": ""
           }
          },
          "colorscale": {
           "diverging": [
            [
             0,
             "#8e0152"
            ],
            [
             0.1,
             "#c51b7d"
            ],
            [
             0.2,
             "#de77ae"
            ],
            [
             0.3,
             "#f1b6da"
            ],
            [
             0.4,
             "#fde0ef"
            ],
            [
             0.5,
             "#f7f7f7"
            ],
            [
             0.6,
             "#e6f5d0"
            ],
            [
             0.7,
             "#b8e186"
            ],
            [
             0.8,
             "#7fbc41"
            ],
            [
             0.9,
             "#4d9221"
            ],
            [
             1,
             "#276419"
            ]
           ],
           "sequential": [
            [
             0,
             "#0d0887"
            ],
            [
             0.1111111111111111,
             "#46039f"
            ],
            [
             0.2222222222222222,
             "#7201a8"
            ],
            [
             0.3333333333333333,
             "#9c179e"
            ],
            [
             0.4444444444444444,
             "#bd3786"
            ],
            [
             0.5555555555555556,
             "#d8576b"
            ],
            [
             0.6666666666666666,
             "#ed7953"
            ],
            [
             0.7777777777777778,
             "#fb9f3a"
            ],
            [
             0.8888888888888888,
             "#fdca26"
            ],
            [
             1,
             "#f0f921"
            ]
           ],
           "sequentialminus": [
            [
             0,
             "#0d0887"
            ],
            [
             0.1111111111111111,
             "#46039f"
            ],
            [
             0.2222222222222222,
             "#7201a8"
            ],
            [
             0.3333333333333333,
             "#9c179e"
            ],
            [
             0.4444444444444444,
             "#bd3786"
            ],
            [
             0.5555555555555556,
             "#d8576b"
            ],
            [
             0.6666666666666666,
             "#ed7953"
            ],
            [
             0.7777777777777778,
             "#fb9f3a"
            ],
            [
             0.8888888888888888,
             "#fdca26"
            ],
            [
             1,
             "#f0f921"
            ]
           ]
          },
          "colorway": [
           "#636efa",
           "#EF553B",
           "#00cc96",
           "#ab63fa",
           "#FFA15A",
           "#19d3f3",
           "#FF6692",
           "#B6E880",
           "#FF97FF",
           "#FECB52"
          ],
          "font": {
           "color": "#2a3f5f"
          },
          "geo": {
           "bgcolor": "white",
           "lakecolor": "white",
           "landcolor": "#E5ECF6",
           "showlakes": true,
           "showland": true,
           "subunitcolor": "white"
          },
          "hoverlabel": {
           "align": "left"
          },
          "hovermode": "closest",
          "mapbox": {
           "style": "light"
          },
          "paper_bgcolor": "white",
          "plot_bgcolor": "#E5ECF6",
          "polar": {
           "angularaxis": {
            "gridcolor": "white",
            "linecolor": "white",
            "ticks": ""
           },
           "bgcolor": "#E5ECF6",
           "radialaxis": {
            "gridcolor": "white",
            "linecolor": "white",
            "ticks": ""
           }
          },
          "scene": {
           "xaxis": {
            "backgroundcolor": "#E5ECF6",
            "gridcolor": "white",
            "gridwidth": 2,
            "linecolor": "white",
            "showbackground": true,
            "ticks": "",
            "zerolinecolor": "white"
           },
           "yaxis": {
            "backgroundcolor": "#E5ECF6",
            "gridcolor": "white",
            "gridwidth": 2,
            "linecolor": "white",
            "showbackground": true,
            "ticks": "",
            "zerolinecolor": "white"
           },
           "zaxis": {
            "backgroundcolor": "#E5ECF6",
            "gridcolor": "white",
            "gridwidth": 2,
            "linecolor": "white",
            "showbackground": true,
            "ticks": "",
            "zerolinecolor": "white"
           }
          },
          "shapedefaults": {
           "line": {
            "color": "#2a3f5f"
           }
          },
          "ternary": {
           "aaxis": {
            "gridcolor": "white",
            "linecolor": "white",
            "ticks": ""
           },
           "baxis": {
            "gridcolor": "white",
            "linecolor": "white",
            "ticks": ""
           },
           "bgcolor": "#E5ECF6",
           "caxis": {
            "gridcolor": "white",
            "linecolor": "white",
            "ticks": ""
           }
          },
          "title": {
           "x": 0.05
          },
          "xaxis": {
           "automargin": true,
           "gridcolor": "white",
           "linecolor": "white",
           "ticks": "",
           "title": {
            "standoff": 15
           },
           "zerolinecolor": "white",
           "zerolinewidth": 2
          },
          "yaxis": {
           "automargin": true,
           "gridcolor": "white",
           "linecolor": "white",
           "ticks": "",
           "title": {
            "standoff": 15
           },
           "zerolinecolor": "white",
           "zerolinewidth": 2
          }
         }
        },
        "title": {
         "text": "Drug Prescriptions for Patients with <90% Abnormal Blood Tests"
        },
        "width": 1000
       }
      }
     },
     "metadata": {},
     "output_type": "display_data"
    }
   ],
   "source": [
    "filtered_patients_under_90 = patients[\n",
    "    (patients['hematocrit_abnormal_percentage'] < 90) |\n",
    "    (patients['hemoglobin_abnormal_percentage'] < 90) |\n",
    "    (patients['red_blood_cells_abnormal_percentage'] < 90)\n",
    "]\n",
    "\n",
    "# Get subject IDs of patients with <90% abnormal results\n",
    "low_abnormal_subjects = filtered_patients_under_90['subject_id'].unique()\n",
    "\n",
    "# Filter prescriptions for these patients\n",
    "relevant_prescriptions = prescriptions[prescriptions['subject_id'].isin(low_abnormal_subjects)]\n",
    "\n",
    "# Count prescriptions, grouping by all three drug name columns\n",
    "drug_counts = relevant_prescriptions.groupby(['drug', 'drug_name_poe', 'drug_name_generic']).size().reset_index(name='count')\n",
    "\n",
    "# Create treemap using plotly\n",
    "fig = px.treemap(\n",
    "    drug_counts,\n",
    "    path=['drug'],  # Main grouping\n",
    "    values='count',\n",
    "    custom_data=['drug_name_poe', 'drug_name_generic'],  # Additional data for hover\n",
    "    title='Drug Prescriptions for Patients with <90% Abnormal Blood Tests'\n",
    ")\n",
    "\n",
    "# Customize hover template\n",
    "fig.update_traces(\n",
    "    hovertemplate=\"\"\"\n",
    "    Drug: %{label}<br>\n",
    "    Count: %{value}<br>\n",
    "    POE Name: %{customdata[0]}<br>\n",
    "    Generic Name: %{customdata[1]}<br>\n",
    "    <extra></extra>\n",
    "    \"\"\"\n",
    ")\n",
    "\n",
    "# Update layout\n",
    "fig.update_layout(\n",
    "    width=1000,\n",
    "    height=800,\n",
    ")\n",
    "\n",
    "fig.show()"
   ]
  }
 ],
 "metadata": {
  "kernelspec": {
   "display_name": "AI-IN-HEALTH",
   "language": "python",
   "name": "python3"
  },
  "language_info": {
   "codemirror_mode": {
    "name": "ipython",
    "version": 3
   },
   "file_extension": ".py",
   "mimetype": "text/x-python",
   "name": "python",
   "nbconvert_exporter": "python",
   "pygments_lexer": "ipython3",
   "version": "3.13.1"
  }
 },
 "nbformat": 4,
 "nbformat_minor": 2
}
