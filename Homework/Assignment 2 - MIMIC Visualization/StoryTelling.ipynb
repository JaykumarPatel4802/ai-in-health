{
 "cells": [
  {
   "cell_type": "markdown",
   "metadata": {},
   "source": [
    "# Import Libraries"
   ]
  },
  {
   "cell_type": "code",
   "execution_count": 119,
   "metadata": {},
   "outputs": [],
   "source": [
    "import pandas as pd\n",
    "import matplotlib.pyplot as plt\n",
    "import seaborn as sns\n",
    "import numpy as np\n",
    "import plotly.express as px"
   ]
  },
  {
   "cell_type": "markdown",
   "metadata": {},
   "source": [
    "# Idea\n",
    "- Look at which which abnormal tests are correlated\n",
    "- Look at the patients for those tests, and see what diagnosis\n",
    "- Look at if there are common prescriptions for those drugs"
   ]
  },
  {
   "cell_type": "markdown",
   "metadata": {},
   "source": [
    "# Import Data"
   ]
  },
  {
   "cell_type": "code",
   "execution_count": 120,
   "metadata": {},
   "outputs": [],
   "source": [
    "# Patient Data\n",
    "patients = pd.read_csv('mimic-iii-clinical-database-demo-1.4/PATIENTS.csv')\n",
    "\n",
    "# Prescription Data\n",
    "prescriptions = pd.read_csv('mimic-iii-clinical-database-demo-1.4/PRESCRIPTIONS.csv')\n",
    "\n",
    "# Lab Events Data\n",
    "lab_items = pd.read_csv('mimic-iii-clinical-database-demo-1.4/D_LABITEMS.csv')\n",
    "lab_events = pd.read_csv('mimic-iii-clinical-database-demo-1.4/LABEVENTS.csv', parse_dates=['charttime'])\n",
    "\n",
    "# Procedures Data\n",
    "procedures = pd.read_csv('mimic-iii-clinical-database-demo-1.4/PROCEDURES_ICD.csv')\n",
    "procedures_labels = pd.read_csv('mimic-iii-clinical-database-demo-1.4/D_ICD_PROCEDURES.csv')\n",
    "\n",
    "# Admissions Data\n",
    "admissions = pd.read_csv('mimic-iii-clinical-database-demo-1.4/ADMISSIONS.csv')"
   ]
  },
  {
   "cell_type": "code",
   "execution_count": 121,
   "metadata": {},
   "outputs": [
    {
     "name": "stdout",
     "output_type": "stream",
     "text": [
      "   row_id  subject_id gender                  dob                  dod  \\\n",
      "0    9467       10006      F  2094-03-05 00:00:00  2165-08-12 00:00:00   \n",
      "1    9472       10011      F  2090-06-05 00:00:00  2126-08-28 00:00:00   \n",
      "2    9474       10013      F  2038-09-03 00:00:00  2125-10-07 00:00:00   \n",
      "3    9478       10017      F  2075-09-21 00:00:00  2152-09-12 00:00:00   \n",
      "4    9479       10019      M  2114-06-20 00:00:00  2163-05-15 00:00:00   \n",
      "\n",
      "              dod_hosp              dod_ssn  expire_flag  age  \n",
      "0  2165-08-12 00:00:00  2165-08-12 00:00:00            1   71  \n",
      "1  2126-08-28 00:00:00                  NaN            1   36  \n",
      "2  2125-10-07 00:00:00  2125-10-07 00:00:00            1   87  \n",
      "3                  NaN  2152-09-12 00:00:00            1   77  \n",
      "4  2163-05-15 00:00:00  2163-05-15 00:00:00            1   48  \n"
     ]
    }
   ],
   "source": [
    "from datetime import datetime\n",
    "# Calculate age function\n",
    "def calculate_age(dob, dod):\n",
    "    dob_date = datetime.strptime(dob, \"%Y-%m-%d %H:%M:%S\")\n",
    "    dod_date = datetime.strptime(dod, \"%Y-%m-%d %H:%M:%S\")\n",
    "    age = (dod_date - dob_date).days // 365\n",
    "    return age\n",
    "\n",
    "# Apply calculate_age function to create \"age\" column\n",
    "patients[\"age\"] = patients.apply(lambda row: calculate_age(row[\"dob\"], row[\"dod\"]), axis=1)\n",
    "\n",
    "# Display the updated DataFrame\n",
    "print(patients.head())"
   ]
  },
  {
   "cell_type": "markdown",
   "metadata": {},
   "source": [
    "## First, I identify the tests that have the highest percentage of abnormal results"
   ]
  },
  {
   "cell_type": "code",
   "execution_count": 122,
   "metadata": {},
   "outputs": [
    {
     "name": "stdout",
     "output_type": "stream",
     "text": [
      "Top 10 lab tests by abnormal count:\n",
      "     itemid              label  total_count  abnormal_count  \\\n",
      "265   51221         Hematocrit         2317          2185.0   \n",
      "266   51222         Hemoglobin         2024          1914.0   \n",
      "307   51279    Red Blood Cells         2007          1881.0   \n",
      "93    50931            Glucose         2121          1489.0   \n",
      "305   51277                RDW         2005          1363.0   \n",
      "147   51006      Urea Nitrogen         2158          1262.0   \n",
      "302   51274                 PT         1378          1117.0   \n",
      "81    50912         Creatinine         2175          1023.0   \n",
      "297   51265     Platelet Count         2088           944.0   \n",
      "321   51301  White Blood Cells         2021           871.0   \n",
      "\n",
      "     abnormal_percentage  \n",
      "265                94.30  \n",
      "266                94.57  \n",
      "307                93.72  \n",
      "93                 70.20  \n",
      "305                67.98  \n",
      "147                58.48  \n",
      "302                81.06  \n",
      "81                 47.03  \n",
      "297                45.21  \n",
      "321                43.10  \n"
     ]
    }
   ],
   "source": [
    "# Step 1: Get unique lab tests with their counts\n",
    "test_counts = lab_events.groupby('itemid').agg(\n",
    "    total_count=('itemid', 'count')\n",
    ").reset_index()\n",
    "\n",
    "# Step 2: Add count of abnormal results\n",
    "abnormal_counts = lab_events[lab_events['flag'] == 'abnormal'].groupby('itemid').agg(\n",
    "    abnormal_count=('itemid', 'count')\n",
    ").reset_index()\n",
    "\n",
    "# Step 3: Merge the counts\n",
    "test_stats = test_counts.merge(abnormal_counts, on='itemid', how='left')\n",
    "test_stats['abnormal_count'] = test_stats['abnormal_count'].fillna(0)\n",
    "\n",
    "# Step 4: Add lab test labels\n",
    "test_stats = test_stats.merge(lab_items[['itemid', 'label']], on='itemid', how='left')\n",
    "\n",
    "# Step 5: Calculate percentage and sort\n",
    "test_stats['abnormal_percentage'] = (test_stats['abnormal_count'] / test_stats['total_count'] * 100).round(2)\n",
    "test_stats = test_stats.sort_values('abnormal_count', ascending=False)\n",
    "\n",
    "# Print top 10 for verification\n",
    "print(\"Top 10 lab tests by abnormal count:\")\n",
    "print(test_stats.head(10)[['itemid', 'label', 'total_count', 'abnormal_count', 'abnormal_percentage']])"
   ]
  },
  {
   "cell_type": "code",
   "execution_count": 123,
   "metadata": {},
   "outputs": [
    {
     "data": {
      "application/vnd.plotly.v1+json": {
       "config": {
        "plotlyServerURL": "https://plot.ly"
       },
       "data": [
        {
         "customdata": {
          "bdata": "AAAAAAAaokAzMzMzM5NXQAAAAACgAulAAAAAAACgn0AUrkfheqRXQAAAAADAAulAAAAAAABcn0CuR+F6FG5XQAAAAADgCelAAAAAAACSoEDNzMzMzIxRQAAAAABg3uhAAAAAAABUn0AfhetRuP5QQAAAAACgCelAAAAAAADcoEA9CtejcD1NQAAAAADA5+hAAAAAAACIlUCkcD0K10NUQAAAAABACelAAAAAAAD+oECkcD0K14NHQAAAAAAA3OhAAAAAAABQoEB7FK5H4ZpGQAAAAAAgCOlAAAAAAACUn0DNzMzMzIxFQAAAAACgDOlA",
          "dtype": "f8",
          "shape": "10, 3"
         },
         "hovertemplate": "Lab Test=%{x}<br>Number of Abnormal Results=%{y}<br>total_count=%{customdata[0]}<br>abnormal_percentage=%{customdata[1]:.2f}<br>itemid=%{customdata[2]}<extra></extra>",
         "legendgroup": "",
         "marker": {
          "color": "#636efa",
          "pattern": {
           "shape": ""
          }
         },
         "name": "",
         "orientation": "v",
         "showlegend": false,
         "textposition": "auto",
         "type": "bar",
         "x": [
          "Hematocrit",
          "Hemoglobin",
          "Red Blood Cells",
          "Glucose",
          "RDW",
          "Urea Nitrogen",
          "PT",
          "Creatinine",
          "Platelet Count",
          "White Blood Cells"
         ],
         "xaxis": "x",
         "y": {
          "bdata": "AAAAAAASoUAAAAAAAOidQAAAAAAAZJ1AAAAAAABEl0AAAAAAAEyVQAAAAAAAuJNAAAAAAAB0kUAAAAAAAPiPQAAAAAAAgI1AAAAAAAA4i0A=",
          "dtype": "f8"
         },
         "yaxis": "y"
        }
       ],
       "layout": {
        "barmode": "relative",
        "height": 600,
        "legend": {
         "tracegroupgap": 0
        },
        "template": {
         "data": {
          "bar": [
           {
            "error_x": {
             "color": "#2a3f5f"
            },
            "error_y": {
             "color": "#2a3f5f"
            },
            "marker": {
             "line": {
              "color": "#E5ECF6",
              "width": 0.5
             },
             "pattern": {
              "fillmode": "overlay",
              "size": 10,
              "solidity": 0.2
             }
            },
            "type": "bar"
           }
          ],
          "barpolar": [
           {
            "marker": {
             "line": {
              "color": "#E5ECF6",
              "width": 0.5
             },
             "pattern": {
              "fillmode": "overlay",
              "size": 10,
              "solidity": 0.2
             }
            },
            "type": "barpolar"
           }
          ],
          "carpet": [
           {
            "aaxis": {
             "endlinecolor": "#2a3f5f",
             "gridcolor": "white",
             "linecolor": "white",
             "minorgridcolor": "white",
             "startlinecolor": "#2a3f5f"
            },
            "baxis": {
             "endlinecolor": "#2a3f5f",
             "gridcolor": "white",
             "linecolor": "white",
             "minorgridcolor": "white",
             "startlinecolor": "#2a3f5f"
            },
            "type": "carpet"
           }
          ],
          "choropleth": [
           {
            "colorbar": {
             "outlinewidth": 0,
             "ticks": ""
            },
            "type": "choropleth"
           }
          ],
          "contour": [
           {
            "colorbar": {
             "outlinewidth": 0,
             "ticks": ""
            },
            "colorscale": [
             [
              0,
              "#0d0887"
             ],
             [
              0.1111111111111111,
              "#46039f"
             ],
             [
              0.2222222222222222,
              "#7201a8"
             ],
             [
              0.3333333333333333,
              "#9c179e"
             ],
             [
              0.4444444444444444,
              "#bd3786"
             ],
             [
              0.5555555555555556,
              "#d8576b"
             ],
             [
              0.6666666666666666,
              "#ed7953"
             ],
             [
              0.7777777777777778,
              "#fb9f3a"
             ],
             [
              0.8888888888888888,
              "#fdca26"
             ],
             [
              1,
              "#f0f921"
             ]
            ],
            "type": "contour"
           }
          ],
          "contourcarpet": [
           {
            "colorbar": {
             "outlinewidth": 0,
             "ticks": ""
            },
            "type": "contourcarpet"
           }
          ],
          "heatmap": [
           {
            "colorbar": {
             "outlinewidth": 0,
             "ticks": ""
            },
            "colorscale": [
             [
              0,
              "#0d0887"
             ],
             [
              0.1111111111111111,
              "#46039f"
             ],
             [
              0.2222222222222222,
              "#7201a8"
             ],
             [
              0.3333333333333333,
              "#9c179e"
             ],
             [
              0.4444444444444444,
              "#bd3786"
             ],
             [
              0.5555555555555556,
              "#d8576b"
             ],
             [
              0.6666666666666666,
              "#ed7953"
             ],
             [
              0.7777777777777778,
              "#fb9f3a"
             ],
             [
              0.8888888888888888,
              "#fdca26"
             ],
             [
              1,
              "#f0f921"
             ]
            ],
            "type": "heatmap"
           }
          ],
          "histogram": [
           {
            "marker": {
             "pattern": {
              "fillmode": "overlay",
              "size": 10,
              "solidity": 0.2
             }
            },
            "type": "histogram"
           }
          ],
          "histogram2d": [
           {
            "colorbar": {
             "outlinewidth": 0,
             "ticks": ""
            },
            "colorscale": [
             [
              0,
              "#0d0887"
             ],
             [
              0.1111111111111111,
              "#46039f"
             ],
             [
              0.2222222222222222,
              "#7201a8"
             ],
             [
              0.3333333333333333,
              "#9c179e"
             ],
             [
              0.4444444444444444,
              "#bd3786"
             ],
             [
              0.5555555555555556,
              "#d8576b"
             ],
             [
              0.6666666666666666,
              "#ed7953"
             ],
             [
              0.7777777777777778,
              "#fb9f3a"
             ],
             [
              0.8888888888888888,
              "#fdca26"
             ],
             [
              1,
              "#f0f921"
             ]
            ],
            "type": "histogram2d"
           }
          ],
          "histogram2dcontour": [
           {
            "colorbar": {
             "outlinewidth": 0,
             "ticks": ""
            },
            "colorscale": [
             [
              0,
              "#0d0887"
             ],
             [
              0.1111111111111111,
              "#46039f"
             ],
             [
              0.2222222222222222,
              "#7201a8"
             ],
             [
              0.3333333333333333,
              "#9c179e"
             ],
             [
              0.4444444444444444,
              "#bd3786"
             ],
             [
              0.5555555555555556,
              "#d8576b"
             ],
             [
              0.6666666666666666,
              "#ed7953"
             ],
             [
              0.7777777777777778,
              "#fb9f3a"
             ],
             [
              0.8888888888888888,
              "#fdca26"
             ],
             [
              1,
              "#f0f921"
             ]
            ],
            "type": "histogram2dcontour"
           }
          ],
          "mesh3d": [
           {
            "colorbar": {
             "outlinewidth": 0,
             "ticks": ""
            },
            "type": "mesh3d"
           }
          ],
          "parcoords": [
           {
            "line": {
             "colorbar": {
              "outlinewidth": 0,
              "ticks": ""
             }
            },
            "type": "parcoords"
           }
          ],
          "pie": [
           {
            "automargin": true,
            "type": "pie"
           }
          ],
          "scatter": [
           {
            "fillpattern": {
             "fillmode": "overlay",
             "size": 10,
             "solidity": 0.2
            },
            "type": "scatter"
           }
          ],
          "scatter3d": [
           {
            "line": {
             "colorbar": {
              "outlinewidth": 0,
              "ticks": ""
             }
            },
            "marker": {
             "colorbar": {
              "outlinewidth": 0,
              "ticks": ""
             }
            },
            "type": "scatter3d"
           }
          ],
          "scattercarpet": [
           {
            "marker": {
             "colorbar": {
              "outlinewidth": 0,
              "ticks": ""
             }
            },
            "type": "scattercarpet"
           }
          ],
          "scattergeo": [
           {
            "marker": {
             "colorbar": {
              "outlinewidth": 0,
              "ticks": ""
             }
            },
            "type": "scattergeo"
           }
          ],
          "scattergl": [
           {
            "marker": {
             "colorbar": {
              "outlinewidth": 0,
              "ticks": ""
             }
            },
            "type": "scattergl"
           }
          ],
          "scattermap": [
           {
            "marker": {
             "colorbar": {
              "outlinewidth": 0,
              "ticks": ""
             }
            },
            "type": "scattermap"
           }
          ],
          "scattermapbox": [
           {
            "marker": {
             "colorbar": {
              "outlinewidth": 0,
              "ticks": ""
             }
            },
            "type": "scattermapbox"
           }
          ],
          "scatterpolar": [
           {
            "marker": {
             "colorbar": {
              "outlinewidth": 0,
              "ticks": ""
             }
            },
            "type": "scatterpolar"
           }
          ],
          "scatterpolargl": [
           {
            "marker": {
             "colorbar": {
              "outlinewidth": 0,
              "ticks": ""
             }
            },
            "type": "scatterpolargl"
           }
          ],
          "scatterternary": [
           {
            "marker": {
             "colorbar": {
              "outlinewidth": 0,
              "ticks": ""
             }
            },
            "type": "scatterternary"
           }
          ],
          "surface": [
           {
            "colorbar": {
             "outlinewidth": 0,
             "ticks": ""
            },
            "colorscale": [
             [
              0,
              "#0d0887"
             ],
             [
              0.1111111111111111,
              "#46039f"
             ],
             [
              0.2222222222222222,
              "#7201a8"
             ],
             [
              0.3333333333333333,
              "#9c179e"
             ],
             [
              0.4444444444444444,
              "#bd3786"
             ],
             [
              0.5555555555555556,
              "#d8576b"
             ],
             [
              0.6666666666666666,
              "#ed7953"
             ],
             [
              0.7777777777777778,
              "#fb9f3a"
             ],
             [
              0.8888888888888888,
              "#fdca26"
             ],
             [
              1,
              "#f0f921"
             ]
            ],
            "type": "surface"
           }
          ],
          "table": [
           {
            "cells": {
             "fill": {
              "color": "#EBF0F8"
             },
             "line": {
              "color": "white"
             }
            },
            "header": {
             "fill": {
              "color": "#C8D4E3"
             },
             "line": {
              "color": "white"
             }
            },
            "type": "table"
           }
          ]
         },
         "layout": {
          "annotationdefaults": {
           "arrowcolor": "#2a3f5f",
           "arrowhead": 0,
           "arrowwidth": 1
          },
          "autotypenumbers": "strict",
          "coloraxis": {
           "colorbar": {
            "outlinewidth": 0,
            "ticks": ""
           }
          },
          "colorscale": {
           "diverging": [
            [
             0,
             "#8e0152"
            ],
            [
             0.1,
             "#c51b7d"
            ],
            [
             0.2,
             "#de77ae"
            ],
            [
             0.3,
             "#f1b6da"
            ],
            [
             0.4,
             "#fde0ef"
            ],
            [
             0.5,
             "#f7f7f7"
            ],
            [
             0.6,
             "#e6f5d0"
            ],
            [
             0.7,
             "#b8e186"
            ],
            [
             0.8,
             "#7fbc41"
            ],
            [
             0.9,
             "#4d9221"
            ],
            [
             1,
             "#276419"
            ]
           ],
           "sequential": [
            [
             0,
             "#0d0887"
            ],
            [
             0.1111111111111111,
             "#46039f"
            ],
            [
             0.2222222222222222,
             "#7201a8"
            ],
            [
             0.3333333333333333,
             "#9c179e"
            ],
            [
             0.4444444444444444,
             "#bd3786"
            ],
            [
             0.5555555555555556,
             "#d8576b"
            ],
            [
             0.6666666666666666,
             "#ed7953"
            ],
            [
             0.7777777777777778,
             "#fb9f3a"
            ],
            [
             0.8888888888888888,
             "#fdca26"
            ],
            [
             1,
             "#f0f921"
            ]
           ],
           "sequentialminus": [
            [
             0,
             "#0d0887"
            ],
            [
             0.1111111111111111,
             "#46039f"
            ],
            [
             0.2222222222222222,
             "#7201a8"
            ],
            [
             0.3333333333333333,
             "#9c179e"
            ],
            [
             0.4444444444444444,
             "#bd3786"
            ],
            [
             0.5555555555555556,
             "#d8576b"
            ],
            [
             0.6666666666666666,
             "#ed7953"
            ],
            [
             0.7777777777777778,
             "#fb9f3a"
            ],
            [
             0.8888888888888888,
             "#fdca26"
            ],
            [
             1,
             "#f0f921"
            ]
           ]
          },
          "colorway": [
           "#636efa",
           "#EF553B",
           "#00cc96",
           "#ab63fa",
           "#FFA15A",
           "#19d3f3",
           "#FF6692",
           "#B6E880",
           "#FF97FF",
           "#FECB52"
          ],
          "font": {
           "color": "#2a3f5f"
          },
          "geo": {
           "bgcolor": "white",
           "lakecolor": "white",
           "landcolor": "#E5ECF6",
           "showlakes": true,
           "showland": true,
           "subunitcolor": "white"
          },
          "hoverlabel": {
           "align": "left"
          },
          "hovermode": "closest",
          "mapbox": {
           "style": "light"
          },
          "paper_bgcolor": "white",
          "plot_bgcolor": "#E5ECF6",
          "polar": {
           "angularaxis": {
            "gridcolor": "white",
            "linecolor": "white",
            "ticks": ""
           },
           "bgcolor": "#E5ECF6",
           "radialaxis": {
            "gridcolor": "white",
            "linecolor": "white",
            "ticks": ""
           }
          },
          "scene": {
           "xaxis": {
            "backgroundcolor": "#E5ECF6",
            "gridcolor": "white",
            "gridwidth": 2,
            "linecolor": "white",
            "showbackground": true,
            "ticks": "",
            "zerolinecolor": "white"
           },
           "yaxis": {
            "backgroundcolor": "#E5ECF6",
            "gridcolor": "white",
            "gridwidth": 2,
            "linecolor": "white",
            "showbackground": true,
            "ticks": "",
            "zerolinecolor": "white"
           },
           "zaxis": {
            "backgroundcolor": "#E5ECF6",
            "gridcolor": "white",
            "gridwidth": 2,
            "linecolor": "white",
            "showbackground": true,
            "ticks": "",
            "zerolinecolor": "white"
           }
          },
          "shapedefaults": {
           "line": {
            "color": "#2a3f5f"
           }
          },
          "ternary": {
           "aaxis": {
            "gridcolor": "white",
            "linecolor": "white",
            "ticks": ""
           },
           "baxis": {
            "gridcolor": "white",
            "linecolor": "white",
            "ticks": ""
           },
           "bgcolor": "#E5ECF6",
           "caxis": {
            "gridcolor": "white",
            "linecolor": "white",
            "ticks": ""
           }
          },
          "title": {
           "x": 0.05
          },
          "xaxis": {
           "automargin": true,
           "gridcolor": "white",
           "linecolor": "white",
           "ticks": "",
           "title": {
            "standoff": 15
           },
           "zerolinecolor": "white",
           "zerolinewidth": 2
          },
          "yaxis": {
           "automargin": true,
           "gridcolor": "white",
           "linecolor": "white",
           "ticks": "",
           "title": {
            "standoff": 15
           },
           "zerolinecolor": "white",
           "zerolinewidth": 2
          }
         }
        },
        "title": {
         "text": "Top 10 Lab Tests by Abnormal Results Count"
        },
        "xaxis": {
         "anchor": "y",
         "domain": [
          0,
          1
         ],
         "tickangle": 45,
         "title": {
          "text": "Lab Test"
         }
        },
        "yaxis": {
         "anchor": "x",
         "domain": [
          0,
          1
         ],
         "title": {
          "text": "Number of Abnormal Results"
         }
        }
       }
      }
     },
     "metadata": {},
     "output_type": "display_data"
    }
   ],
   "source": [
    "# Get top 10 tests by abnormal count\n",
    "top_10_tests = test_stats.nlargest(10, 'abnormal_count')\n",
    "\n",
    "# Create bar chart\n",
    "fig = px.bar(\n",
    "    top_10_tests,\n",
    "    x='label',\n",
    "    y='abnormal_count',\n",
    "    title='Top 10 Lab Tests by Abnormal Results Count',\n",
    "    labels={\n",
    "        'label': 'Lab Test',\n",
    "        'abnormal_count': 'Number of Abnormal Results'\n",
    "    },\n",
    "    hover_data={\n",
    "        'total_count': True,\n",
    "        'abnormal_count': True,\n",
    "        'abnormal_percentage': ':.2f',\n",
    "        'itemid': True\n",
    "    }\n",
    ")\n",
    "\n",
    "# Update layout for better readability\n",
    "fig.update_layout(\n",
    "    xaxis_tickangle=45,\n",
    "    height=600\n",
    ")\n",
    "\n",
    "fig.show()"
   ]
  },
  {
   "cell_type": "markdown",
   "metadata": {},
   "source": [
    "Notes:\n",
    "\n",
    "Looking at the data, we see that Hematocrit, Hemoglobin, and Red Blood Cells are the Lab tests that have the highest number of abnormal tests. Additionally, each of them have high percentage of abnormal tests. Meaning of they were abnormal over 90% of the time they were conducted."
   ]
  },
  {
   "cell_type": "markdown",
   "metadata": {},
   "source": [
    "## I will explore patients who tested abnormal for Hematocrit (itemid = 51221), Hemoglobin (itemid = 51222), and Red Blood Cells (itemid = 51279), in more detail."
   ]
  },
  {
   "cell_type": "markdown",
   "metadata": {},
   "source": [
    "#### Getting insurance, religion, and ethnicity, for each patient"
   ]
  },
  {
   "cell_type": "code",
   "execution_count": 124,
   "metadata": {},
   "outputs": [],
   "source": [
    "# Get the first occurrence of insurance, religion, and ethnicity for each subject_id\n",
    "first_admission_info = admissions.groupby('subject_id').agg({\n",
    "    'insurance': 'first',\n",
    "    'religion': 'first',\n",
    "    'ethnicity': 'first'\n",
    "}).reset_index()\n",
    "\n",
    "# Merge with patients dataframe\n",
    "patients = patients.merge(first_admission_info, on='subject_id', how='left')"
   ]
  },
  {
   "cell_type": "markdown",
   "metadata": {},
   "source": [
    "#### Analyzing the Patients that Tested Positive for Hematocrit, Hemoglobin, and Red Blood Cells"
   ]
  },
  {
   "cell_type": "code",
   "execution_count": 125,
   "metadata": {},
   "outputs": [
    {
     "name": "stdout",
     "output_type": "stream",
     "text": [
      "   row_id  subject_id gender                  dob                  dod  \\\n",
      "0    9467       10006      F  2094-03-05 00:00:00  2165-08-12 00:00:00   \n",
      "1    9472       10011      F  2090-06-05 00:00:00  2126-08-28 00:00:00   \n",
      "2    9474       10013      F  2038-09-03 00:00:00  2125-10-07 00:00:00   \n",
      "3    9478       10017      F  2075-09-21 00:00:00  2152-09-12 00:00:00   \n",
      "4    9479       10019      M  2114-06-20 00:00:00  2163-05-15 00:00:00   \n",
      "\n",
      "              dod_hosp              dod_ssn  expire_flag  age insurance  ...  \\\n",
      "0  2165-08-12 00:00:00  2165-08-12 00:00:00            1   71  Medicare  ...   \n",
      "1  2126-08-28 00:00:00                  NaN            1   36   Private  ...   \n",
      "2  2125-10-07 00:00:00  2125-10-07 00:00:00            1   87  Medicare  ...   \n",
      "3                  NaN  2152-09-12 00:00:00            1   77  Medicare  ...   \n",
      "4  2163-05-15 00:00:00  2163-05-15 00:00:00            1   48  Medicare  ...   \n",
      "\n",
      "                ethnicity total_hematocrit_tests  abnormal_hematocrit_tests  \\\n",
      "0  BLACK/AFRICAN AMERICAN                     69                       62.0   \n",
      "1   UNKNOWN/NOT SPECIFIED                     25                       24.0   \n",
      "2   UNKNOWN/NOT SPECIFIED                      2                        2.0   \n",
      "3                   WHITE                     15                       10.0   \n",
      "4                   WHITE                      5                        5.0   \n",
      "\n",
      "   hematocrit_abnormal_percentage  total_hemoglobin_tests  \\\n",
      "0                       89.855072                      64   \n",
      "1                       96.000000                      19   \n",
      "2                      100.000000                       2   \n",
      "3                       66.666667                      14   \n",
      "4                      100.000000                       3   \n",
      "\n",
      "   abnormal_hemoglobin_tests  hemoglobin_abnormal_percentage  \\\n",
      "0                         58                       90.625000   \n",
      "1                         14                       73.684211   \n",
      "2                          2                      100.000000   \n",
      "3                          9                       64.285714   \n",
      "4                          3                      100.000000   \n",
      "\n",
      "   total_red_blood_cells_tests  abnormal_red_blood_cells_tests  \\\n",
      "0                           64                              62   \n",
      "1                           19                              18   \n",
      "2                            2                               2   \n",
      "3                           14                              10   \n",
      "4                            3                               3   \n",
      "\n",
      "   red_blood_cells_abnormal_percentage  \n",
      "0                            96.875000  \n",
      "1                            94.736842  \n",
      "2                           100.000000  \n",
      "3                            71.428571  \n",
      "4                           100.000000  \n",
      "\n",
      "[5 rows x 21 columns]\n"
     ]
    }
   ],
   "source": [
    "# Get itemids for each test\n",
    "test_ids = {\n",
    "    'Hematocrit': 51221,\n",
    "    'Hemoglobin': 51222,\n",
    "    'Red Blood Cells': 51279\n",
    "}\n",
    "\n",
    "# Create counts for each test type\n",
    "for test_name, test_id in test_ids.items():\n",
    "    # Get total test counts\n",
    "    total_counts = lab_events[lab_events['itemid'] == test_id]\\\n",
    "        .groupby('subject_id').size()\\\n",
    "        .reset_index(name=f'total_{test_name.lower().replace(\" \", \"_\")}_tests')\n",
    "    \n",
    "    # Get abnormal test counts\n",
    "    abnormal_counts = lab_events[\n",
    "        (lab_events['itemid'] == test_id) & \n",
    "        (lab_events['flag'] == 'abnormal')\n",
    "    ].groupby('subject_id').size()\\\n",
    "        .reset_index(name=f'abnormal_{test_name.lower().replace(\" \", \"_\")}_tests')\n",
    "    \n",
    "    # Merge with patients dataframe\n",
    "    patients = patients.merge(total_counts, on='subject_id', how='left')\n",
    "    patients = patients.merge(abnormal_counts, on='subject_id', how='left')\n",
    "    \n",
    "    # Fill NaN values with 0\n",
    "    patients[f'total_{test_name.lower().replace(\" \", \"_\")}_tests'] = \\\n",
    "        patients[f'total_{test_name.lower().replace(\" \", \"_\")}_tests'].fillna(0)\n",
    "    patients[f'abnormal_{test_name.lower().replace(\" \", \"_\")}_tests'] = \\\n",
    "        patients[f'abnormal_{test_name.lower().replace(\" \", \"_\")}_tests'].fillna(0)\n",
    "    \n",
    "    # Add percentage column\n",
    "    test_name_lower = test_name.lower().replace(\" \", \"_\")\n",
    "    patients[f'{test_name_lower}_abnormal_percentage'] = (\n",
    "        patients[f'abnormal_{test_name_lower}_tests'] / \n",
    "        patients[f'total_{test_name_lower}_tests'] * 100\n",
    "    ).fillna(0)\n",
    "\n",
    "# Display the first few rows to verify\n",
    "print(patients.head())"
   ]
  },
  {
   "cell_type": "markdown",
   "metadata": {},
   "source": [
    "#### Analyzing Percentage of Abnormal tests as a Function of Age"
   ]
  },
  {
   "cell_type": "code",
   "execution_count": 129,
   "metadata": {},
   "outputs": [
    {
     "data": {
      "image/png": "[encoded data removed]",
      "text/plain": [
       "<Figure size 2000x600 with 3 Axes>"
      ]
     },
     "metadata": {},
     "output_type": "display_data"
    }
   ],
   "source": [
    "# Filter by age, only keep rows with <120 age\n",
    "patients = patients[patients['age'] < 120]\n",
    "\n",
    "# Create a figure with 3 subplots\n",
    "fig, (ax1, ax2, ax3) = plt.subplots(1, 3, figsize=(20, 6))\n",
    "\n",
    "# Plot for Hematocrit\n",
    "sns.scatterplot(\n",
    "    data=patients[patients['total_hematocrit_tests'] > 0],\n",
    "    x='age',\n",
    "    y='hematocrit_abnormal_percentage',\n",
    "    hue='gender',\n",
    "    alpha=0.5,\n",
    "    ax=ax1\n",
    ")\n",
    "ax1.set_title('Percentage of Abnormal Hematocrit Tests vs Age')\n",
    "ax1.set_xlabel('Age')\n",
    "ax1.set_ylabel('Percentage of Abnormal Hematocrit Tests')\n",
    "\n",
    "# Plot for Hemoglobin\n",
    "sns.scatterplot(\n",
    "    data=patients[patients['total_hemoglobin_tests'] > 0],\n",
    "    x='age',\n",
    "    y='hemoglobin_abnormal_percentage',\n",
    "    hue='gender',\n",
    "    alpha=0.5,\n",
    "    ax=ax2\n",
    ")\n",
    "ax2.set_title('Percentage of Abnormal Hemoglobin Tests vs Age')\n",
    "ax2.set_xlabel('Age')\n",
    "ax2.set_ylabel('Percentage of Abnormal Hemoglobin Tests')\n",
    "\n",
    "# Plot for Red Blood Cells\n",
    "sns.scatterplot(\n",
    "    data=patients[patients['total_red_blood_cells_tests'] > 0],\n",
    "    x='age',\n",
    "    y='red_blood_cells_abnormal_percentage',\n",
    "    hue='gender',\n",
    "    alpha=0.5,\n",
    "    ax=ax3\n",
    ")\n",
    "ax3.set_title('Percentage of Abnormal Red Blood Cells Tests vs Age')\n",
    "ax3.set_xlabel('Age')\n",
    "ax3.set_ylabel('Percentage of Abnormal Red Blood Cells Tests')\n",
    "\n",
    "# Adjust layout and display\n",
    "plt.tight_layout()\n",
    "plt.show()"
   ]
  },
  {
   "cell_type": "markdown",
   "metadata": {},
   "source": [
    "Note:\n",
    "\n",
    "It is interesting to note that for all 3 tests, and for ages 70 and above, Males tend to have a higher percentage of abnormal Hematocrit, Hemoglobin, and Red Blood Cells tests compared to Females."
   ]
  },
  {
   "cell_type": "code",
   "execution_count": null,
   "metadata": {},
   "outputs": [],
   "source": [
    "patients_over_70 = patients[patients[\"age\"] > 70]\n"
   ]
  },
  {
   "cell_type": "markdown",
   "metadata": {},
   "source": [
    "#### Analyzing Percentage of Abnormal tests as a Function of Insurance"
   ]
  },
  {
   "cell_type": "code",
   "execution_count": null,
   "metadata": {},
   "outputs": [
    {
     "data": {
      "image/png": "[encoded data removed]",
      "text/plain": [
       "<Figure size 1000x600 with 2 Axes>"
      ]
     },
     "metadata": {},
     "output_type": "display_data"
    }
   ],
   "source": [
    "# look at the patients with >90%. Then compare the drugs they were administered. See if there are commonalities in drugs, diagnosis, etc.\n",
    "# Filter rows where any of the specified columns have values > 90%\n",
    "filtered_patients_over_90 = patients[\n",
    "    (patients['hematocrit_abnormal_percentage'] > 90) |\n",
    "    (patients['hemoglobin_abnormal_percentage'] > 90) |\n",
    "    (patients['red_blood_cells_abnormal_percentage'] > 90)\n",
    "]\n",
    "\n",
    "# Create a pivot table for the heatmap\n",
    "heatmap_data = pd.DataFrame()\n",
    "\n",
    "# Create separate rows for each test type\n",
    "for test_type, column in {\n",
    "    'Hematocrit': 'hematocrit_abnormal_percentage',\n",
    "    'Hemoglobin': 'hemoglobin_abnormal_percentage', \n",
    "    'Red Blood Cells': 'red_blood_cells_abnormal_percentage'\n",
    "}.items():\n",
    "    # Count patients by insurance type for each test\n",
    "    test_counts = filtered_patients_over_90[filtered_patients_over_90[column] > 90]['insurance'].value_counts()\n",
    "    heatmap_data[test_type] = test_counts\n",
    "\n",
    "# Fill NaN values with 0 since these represent no patients meeting criteria\n",
    "heatmap_data = heatmap_data.fillna(0)\n",
    "\n",
    "# Create the heatmap\n",
    "plt.figure(figsize=(10, 6))\n",
    "sns.heatmap(heatmap_data.T, annot=True, fmt='.0f', cmap='YlOrRd')\n",
    "plt.title('Number of Patients with >90% Abnormal Tests by Insurance Type')\n",
    "plt.xlabel('Insurance Type')\n",
    "plt.ylabel('Test Type')\n",
    "plt.tight_layout()\n",
    "plt.show()\n",
    "\n"
   ]
  },
  {
   "cell_type": "code",
   "execution_count": 133,
   "metadata": {},
   "outputs": [
    {
     "data": {
      "image/png": "[encoded data removed]",
      "text/plain": [
       "<Figure size 1000x600 with 2 Axes>"
      ]
     },
     "metadata": {},
     "output_type": "display_data"
    }
   ],
   "source": [
    "# look at the patients with <90%. Then compare the drugs they were administered. See if there are commonalities in drugs, diagnosis, etc.\n",
    "# Filter rows where any of the specified columns have values > 90%\n",
    "filtered_patients_under_90 = patients[\n",
    "    (patients['hematocrit_abnormal_percentage'] < 90) |\n",
    "    (patients['hemoglobin_abnormal_percentage'] < 90) |\n",
    "    (patients['red_blood_cells_abnormal_percentage'] < 90)\n",
    "]\n",
    "\n",
    "# Create a pivot table for the heatmap\n",
    "heatmap_data = pd.DataFrame()\n",
    "\n",
    "# Create separate rows for each test type\n",
    "for test_type, column in {\n",
    "    'Hematocrit': 'hematocrit_abnormal_percentage',\n",
    "    'Hemoglobin': 'hemoglobin_abnormal_percentage', \n",
    "    'Red Blood Cells': 'red_blood_cells_abnormal_percentage'\n",
    "}.items():\n",
    "    # Count patients by insurance type for each test\n",
    "    test_counts = filtered_patients_under_90[filtered_patients_under_90[column] > 90]['insurance'].value_counts()\n",
    "    heatmap_data[test_type] = test_counts\n",
    "\n",
    "# Fill NaN values with 0 since these represent no patients meeting criteria\n",
    "heatmap_data = heatmap_data.fillna(0)\n",
    "\n",
    "# Create the heatmap\n",
    "plt.figure(figsize=(10, 6))\n",
    "sns.heatmap(heatmap_data.T, annot=True, fmt='.0f', cmap='YlOrRd')\n",
    "plt.title('Number of Patients with <90% Abnormal Tests by Insurance Type')\n",
    "plt.xlabel('Insurance Type')\n",
    "plt.ylabel('Test Type')\n",
    "plt.tight_layout()\n",
    "plt.show()\n",
    "\n"
   ]
  },
  {
   "cell_type": "markdown",
   "metadata": {},
   "source": [
    "Note:\n",
    "\n",
    "This data shows that most of the patients with a greater than 90% of abnormal tests have Medicare, followed by Private insurance, and then Medicaid.\n",
    "\n",
    "Note that a patient can have abnormal tests for multiple Tests, but cannot have multiple types of insurance. A patient can belong to multiple rows, within the same column, but not multiple columns within the same row."
   ]
  },
  {
   "cell_type": "markdown",
   "metadata": {},
   "source": [
    "#### Analyzing Percentage of Abnormal tests as a Function of Religion"
   ]
  },
  {
   "cell_type": "code",
   "execution_count": 134,
   "metadata": {},
   "outputs": [
    {
     "data": {
      "image/png": "[encoded data removed]",
      "text/plain": [
       "<Figure size 1000x600 with 2 Axes>"
      ]
     },
     "metadata": {},
     "output_type": "display_data"
    }
   ],
   "source": [
    "# look at the patients with >90%. Then compare the drugs they were administered. See if there are commonalities in drugs, diagnosis, etc.\n",
    "# Filter rows where any of the specified columns have values > 90%\n",
    "filtered_patients_over_90 = patients[\n",
    "    (patients['hematocrit_abnormal_percentage'] > 90) |\n",
    "    (patients['hemoglobin_abnormal_percentage'] > 90) |\n",
    "    (patients['red_blood_cells_abnormal_percentage'] > 90)\n",
    "]\n",
    "\n",
    "# Create a pivot table for the heatmap\n",
    "heatmap_data = pd.DataFrame()\n",
    "\n",
    "# Create separate rows for each test type\n",
    "for test_type, column in {\n",
    "    'Hematocrit': 'hematocrit_abnormal_percentage',\n",
    "    'Hemoglobin': 'hemoglobin_abnormal_percentage', \n",
    "    'Red Blood Cells': 'red_blood_cells_abnormal_percentage'\n",
    "}.items():\n",
    "    # Count patients by insurance type for each test\n",
    "    test_counts = filtered_patients_over_90[filtered_patients_over_90[column] > 90]['religion'].value_counts()\n",
    "    heatmap_data[test_type] = test_counts\n",
    "\n",
    "# Fill NaN values with 0 since these represent no patients meeting criteria\n",
    "heatmap_data = heatmap_data.fillna(0)\n",
    "\n",
    "# Create the heatmap\n",
    "plt.figure(figsize=(10, 6))\n",
    "sns.heatmap(heatmap_data.T, annot=True, fmt='.0f', cmap='YlOrRd')\n",
    "plt.title('Number of Patients with >90% Abnormal Tests by Religion')\n",
    "plt.xlabel('Religion')\n",
    "plt.ylabel('Test Type')\n",
    "plt.tight_layout()\n",
    "plt.show()\n",
    "\n"
   ]
  },
  {
   "cell_type": "code",
   "execution_count": 136,
   "metadata": {},
   "outputs": [
    {
     "data": {
      "image/png": "[encoded data removed]",
      "text/plain": [
       "<Figure size 1000x600 with 2 Axes>"
      ]
     },
     "metadata": {},
     "output_type": "display_data"
    }
   ],
   "source": [
    "# look at the patients with <90%. Then compare the drugs they were administered. See if there are commonalities in drugs, diagnosis, etc.\n",
    "# Filter rows where any of the specified columns have values > 90%\n",
    "filtered_patients_under_90 = patients[\n",
    "    (patients['hematocrit_abnormal_percentage'] < 90) |\n",
    "    (patients['hemoglobin_abnormal_percentage'] < 90) |\n",
    "    (patients['red_blood_cells_abnormal_percentage'] < 90)\n",
    "]\n",
    "\n",
    "# Create a pivot table for the heatmap\n",
    "heatmap_data = pd.DataFrame()\n",
    "\n",
    "# Create separate rows for each test type\n",
    "for test_type, column in {\n",
    "    'Hematocrit': 'hematocrit_abnormal_percentage',\n",
    "    'Hemoglobin': 'hemoglobin_abnormal_percentage', \n",
    "    'Red Blood Cells': 'red_blood_cells_abnormal_percentage'\n",
    "}.items():\n",
    "    # Count patients by insurance type for each test\n",
    "    test_counts = filtered_patients_under_90[filtered_patients_under_90[column] > 90]['religion'].value_counts()\n",
    "    heatmap_data[test_type] = test_counts\n",
    "\n",
    "# Fill NaN values with 0 since these represent no patients meeting criteria\n",
    "heatmap_data = heatmap_data.fillna(0)\n",
    "\n",
    "# Create the heatmap\n",
    "plt.figure(figsize=(10, 6))\n",
    "sns.heatmap(heatmap_data.T, annot=True, fmt='.0f', cmap='YlOrRd')\n",
    "plt.title('Number of Patients with <90% Abnormal Tests by Religion')\n",
    "plt.xlabel('Religion')\n",
    "plt.ylabel('Test Type')\n",
    "plt.tight_layout()\n",
    "plt.show()\n",
    "\n"
   ]
  },
  {
   "cell_type": "markdown",
   "metadata": {},
   "source": [
    "Note:\n",
    "\n",
    "This data shows that most of the patients with a greater than 90% of abnormal tests are Catholic."
   ]
  },
  {
   "cell_type": "markdown",
   "metadata": {},
   "source": [
    "## Analyzing Diagnosis Data"
   ]
  }
 ],
 "metadata": {
  "kernelspec": {
   "display_name": "ai-in-health",
   "language": "python",
   "name": "python3"
  },
  "language_info": {
   "codemirror_mode": {
    "name": "ipython",
    "version": 3
   },
   "file_extension": ".py",
   "mimetype": "text/x-python",
   "name": "python",
   "nbconvert_exporter": "python",
   "pygments_lexer": "ipython3",
   "version": "3.13.2"
  }
 },
 "nbformat": 4,
 "nbformat_minor": 2
}
