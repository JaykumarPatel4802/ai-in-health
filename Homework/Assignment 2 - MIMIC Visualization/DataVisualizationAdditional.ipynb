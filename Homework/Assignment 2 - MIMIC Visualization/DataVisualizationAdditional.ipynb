{
 "cells": [
  {
   "cell_type": "markdown",
   "metadata": {},
   "source": [
    "# Import Libraries"
   ]
  },
  {
   "cell_type": "code",
   "execution_count": 7,
   "metadata": {},
   "outputs": [],
   "source": [
    "import pandas as pd\n",
    "import seaborn as sns\n",
    "import matplotlib.pyplot as plt"
   ]
  },
  {
   "cell_type": "markdown",
   "metadata": {},
   "source": [
    "## Load Data"
   ]
  },
  {
   "cell_type": "code",
   "execution_count": 8,
   "metadata": {},
   "outputs": [
    {
     "name": "stderr",
     "output_type": "stream",
     "text": [
      "C:\\Users\\patel\\AppData\\Local\\Temp\\ipykernel_21852\\2605732906.py:15: DtypeWarning: Columns (8,10,13,14) have mixed types. Specify dtype option on import or set low_memory=False.\n",
      "  chart_events = pd.read_csv('mimic-iii-clinical-database-demo-1.4/CHARTEVENTS.csv')\n"
     ]
    }
   ],
   "source": [
    "# Patient Data\n",
    "patients = pd.read_csv('mimic-iii-clinical-database-demo-1.4/PATIENTS.csv')\n",
    "\n",
    "# Transfer Data\n",
    "transfers = pd.read_csv('mimic-iii-clinical-database-demo-1.4/TRANSFERS.csv')\n",
    "\n",
    "# Prescription Data\n",
    "prescriptions = pd.read_csv('mimic-iii-clinical-database-demo-1.4/PRESCRIPTIONS.csv')\n",
    "\n",
    "# Lab Events Data\n",
    "lab_items = pd.read_csv('mimic-iii-clinical-database-demo-1.4/D_LABITEMS.csv')\n",
    "lab_events = pd.read_csv('mimic-iii-clinical-database-demo-1.4/LABEVENTS.csv')\n",
    "\n",
    "# Chart Events Data\n",
    "chart_events = pd.read_csv('mimic-iii-clinical-database-demo-1.4/CHARTEVENTS.csv')\n",
    "d_items = pd.read_csv('mimic-iii-clinical-database-demo-1.4/D_ITEMS.csv')\n",
    "\n",
    "# Procedures Data\n",
    "procedures = pd.read_csv('mimic-iii-clinical-database-demo-1.4/PROCEDURES_ICD.csv')\n",
    "procedures_labels = pd.read_csv('mimic-iii-clinical-database-demo-1.4/D_ICD_PROCEDURES.csv')"
   ]
  },
  {
   "cell_type": "markdown",
   "metadata": {},
   "source": [
    "## Patients Table (From Tutorial)"
   ]
  },
  {
   "cell_type": "code",
   "execution_count": 9,
   "metadata": {},
   "outputs": [
    {
     "name": "stdout",
     "output_type": "stream",
     "text": [
      "   row_id  subject_id gender                  dob                  dod  \\\n",
      "0    9467       10006      F  2094-03-05 00:00:00  2165-08-12 00:00:00   \n",
      "1    9472       10011      F  2090-06-05 00:00:00  2126-08-28 00:00:00   \n",
      "2    9474       10013      F  2038-09-03 00:00:00  2125-10-07 00:00:00   \n",
      "3    9478       10017      F  2075-09-21 00:00:00  2152-09-12 00:00:00   \n",
      "4    9479       10019      M  2114-06-20 00:00:00  2163-05-15 00:00:00   \n",
      "\n",
      "              dod_hosp              dod_ssn  expire_flag  age  \n",
      "0  2165-08-12 00:00:00  2165-08-12 00:00:00            1   71  \n",
      "1  2126-08-28 00:00:00                  NaN            1   36  \n",
      "2  2125-10-07 00:00:00  2125-10-07 00:00:00            1   87  \n",
      "3                  NaN  2152-09-12 00:00:00            1   77  \n",
      "4  2163-05-15 00:00:00  2163-05-15 00:00:00            1   48  \n"
     ]
    }
   ],
   "source": [
    "from datetime import datetime\n",
    "filtered_patients = patients\n",
    "# Calculate age function\n",
    "def calculate_age(dob, dod):\n",
    "    dob_date = datetime.strptime(dob, \"%Y-%m-%d %H:%M:%S\")\n",
    "    dod_date = datetime.strptime(dod, \"%Y-%m-%d %H:%M:%S\")\n",
    "    age = (dod_date - dob_date).days // 365\n",
    "    return age\n",
    "\n",
    "# Apply calculate_age function to create \"age\" column\n",
    "filtered_patients[\"age\"] = filtered_patients.apply(lambda row: calculate_age(row[\"dob\"], row[\"dod\"]), axis=1)\n",
    "\n",
    "# Filter out rows with age greater than or equal to 120\n",
    "filtered_patients = filtered_patients[filtered_patients[\"age\"] < 120]\n",
    "\n",
    "# Display the updated DataFrame\n",
    "print(filtered_patients.head())"
   ]
  },
  {
   "cell_type": "markdown",
   "metadata": {},
   "source": [
    "## Analyze Transfer Data"
   ]
  },
  {
   "cell_type": "code",
   "execution_count": 10,
   "metadata": {},
   "outputs": [
    {
     "data": {
      "text/html": [
       "<div>\n",
       "<style scoped>\n",
       "    .dataframe tbody tr th:only-of-type {\n",
       "        vertical-align: middle;\n",
       "    }\n",
       "\n",
       "    .dataframe tbody tr th {\n",
       "        vertical-align: top;\n",
       "    }\n",
       "\n",
       "    .dataframe thead th {\n",
       "        text-align: right;\n",
       "    }\n",
       "</style>\n",
       "<table border=\"1\" class=\"dataframe\">\n",
       "  <thead>\n",
       "    <tr style=\"text-align: right;\">\n",
       "      <th></th>\n",
       "      <th>row_id_x</th>\n",
       "      <th>subject_id</th>\n",
       "      <th>hadm_id</th>\n",
       "      <th>icustay_id</th>\n",
       "      <th>dbsource</th>\n",
       "      <th>eventtype</th>\n",
       "      <th>prev_careunit</th>\n",
       "      <th>curr_careunit</th>\n",
       "      <th>prev_wardid</th>\n",
       "      <th>curr_wardid</th>\n",
       "      <th>...</th>\n",
       "      <th>outtime</th>\n",
       "      <th>los</th>\n",
       "      <th>row_id_y</th>\n",
       "      <th>gender</th>\n",
       "      <th>dob</th>\n",
       "      <th>dod</th>\n",
       "      <th>dod_hosp</th>\n",
       "      <th>dod_ssn</th>\n",
       "      <th>expire_flag</th>\n",
       "      <th>age</th>\n",
       "    </tr>\n",
       "  </thead>\n",
       "  <tbody>\n",
       "    <tr>\n",
       "      <th>0</th>\n",
       "      <td>54440</td>\n",
       "      <td>10006</td>\n",
       "      <td>142345</td>\n",
       "      <td>206504.0</td>\n",
       "      <td>carevue</td>\n",
       "      <td>admit</td>\n",
       "      <td>NaN</td>\n",
       "      <td>MICU</td>\n",
       "      <td>NaN</td>\n",
       "      <td>52.0</td>\n",
       "      <td>...</td>\n",
       "      <td>2164-10-25 12:21:07</td>\n",
       "      <td>39.18</td>\n",
       "      <td>9467</td>\n",
       "      <td>F</td>\n",
       "      <td>2094-03-05 00:00:00</td>\n",
       "      <td>2165-08-12 00:00:00</td>\n",
       "      <td>2165-08-12 00:00:00</td>\n",
       "      <td>2165-08-12 00:00:00</td>\n",
       "      <td>1</td>\n",
       "      <td>71</td>\n",
       "    </tr>\n",
       "    <tr>\n",
       "      <th>1</th>\n",
       "      <td>54441</td>\n",
       "      <td>10006</td>\n",
       "      <td>142345</td>\n",
       "      <td>NaN</td>\n",
       "      <td>carevue</td>\n",
       "      <td>transfer</td>\n",
       "      <td>MICU</td>\n",
       "      <td>NaN</td>\n",
       "      <td>52.0</td>\n",
       "      <td>45.0</td>\n",
       "      <td>...</td>\n",
       "      <td>2164-11-01 17:14:27</td>\n",
       "      <td>172.89</td>\n",
       "      <td>9467</td>\n",
       "      <td>F</td>\n",
       "      <td>2094-03-05 00:00:00</td>\n",
       "      <td>2165-08-12 00:00:00</td>\n",
       "      <td>2165-08-12 00:00:00</td>\n",
       "      <td>2165-08-12 00:00:00</td>\n",
       "      <td>1</td>\n",
       "      <td>71</td>\n",
       "    </tr>\n",
       "    <tr>\n",
       "      <th>2</th>\n",
       "      <td>54442</td>\n",
       "      <td>10006</td>\n",
       "      <td>142345</td>\n",
       "      <td>NaN</td>\n",
       "      <td>carevue</td>\n",
       "      <td>discharge</td>\n",
       "      <td>NaN</td>\n",
       "      <td>NaN</td>\n",
       "      <td>45.0</td>\n",
       "      <td>NaN</td>\n",
       "      <td>...</td>\n",
       "      <td>NaN</td>\n",
       "      <td>NaN</td>\n",
       "      <td>9467</td>\n",
       "      <td>F</td>\n",
       "      <td>2094-03-05 00:00:00</td>\n",
       "      <td>2165-08-12 00:00:00</td>\n",
       "      <td>2165-08-12 00:00:00</td>\n",
       "      <td>2165-08-12 00:00:00</td>\n",
       "      <td>1</td>\n",
       "      <td>71</td>\n",
       "    </tr>\n",
       "    <tr>\n",
       "      <th>3</th>\n",
       "      <td>54460</td>\n",
       "      <td>10011</td>\n",
       "      <td>105331</td>\n",
       "      <td>232110.0</td>\n",
       "      <td>carevue</td>\n",
       "      <td>admit</td>\n",
       "      <td>NaN</td>\n",
       "      <td>MICU</td>\n",
       "      <td>NaN</td>\n",
       "      <td>15.0</td>\n",
       "      <td>...</td>\n",
       "      <td>2126-08-28 18:59:00</td>\n",
       "      <td>332.42</td>\n",
       "      <td>9472</td>\n",
       "      <td>F</td>\n",
       "      <td>2090-06-05 00:00:00</td>\n",
       "      <td>2126-08-28 00:00:00</td>\n",
       "      <td>2126-08-28 00:00:00</td>\n",
       "      <td>NaN</td>\n",
       "      <td>1</td>\n",
       "      <td>36</td>\n",
       "    </tr>\n",
       "    <tr>\n",
       "      <th>4</th>\n",
       "      <td>54461</td>\n",
       "      <td>10011</td>\n",
       "      <td>105331</td>\n",
       "      <td>NaN</td>\n",
       "      <td>carevue</td>\n",
       "      <td>discharge</td>\n",
       "      <td>MICU</td>\n",
       "      <td>NaN</td>\n",
       "      <td>15.0</td>\n",
       "      <td>NaN</td>\n",
       "      <td>...</td>\n",
       "      <td>NaN</td>\n",
       "      <td>NaN</td>\n",
       "      <td>9472</td>\n",
       "      <td>F</td>\n",
       "      <td>2090-06-05 00:00:00</td>\n",
       "      <td>2126-08-28 00:00:00</td>\n",
       "      <td>2126-08-28 00:00:00</td>\n",
       "      <td>NaN</td>\n",
       "      <td>1</td>\n",
       "      <td>36</td>\n",
       "    </tr>\n",
       "  </tbody>\n",
       "</table>\n",
       "<p>5 rows × 21 columns</p>\n",
       "</div>"
      ],
      "text/plain": [
       "   row_id_x  subject_id  hadm_id  icustay_id dbsource  eventtype  \\\n",
       "0     54440       10006   142345    206504.0  carevue      admit   \n",
       "1     54441       10006   142345         NaN  carevue   transfer   \n",
       "2     54442       10006   142345         NaN  carevue  discharge   \n",
       "3     54460       10011   105331    232110.0  carevue      admit   \n",
       "4     54461       10011   105331         NaN  carevue  discharge   \n",
       "\n",
       "  prev_careunit curr_careunit  prev_wardid  curr_wardid  ...  \\\n",
       "0           NaN          MICU          NaN         52.0  ...   \n",
       "1          MICU           NaN         52.0         45.0  ...   \n",
       "2           NaN           NaN         45.0          NaN  ...   \n",
       "3           NaN          MICU          NaN         15.0  ...   \n",
       "4          MICU           NaN         15.0          NaN  ...   \n",
       "\n",
       "               outtime     los  row_id_y  gender                  dob  \\\n",
       "0  2164-10-25 12:21:07   39.18      9467       F  2094-03-05 00:00:00   \n",
       "1  2164-11-01 17:14:27  172.89      9467       F  2094-03-05 00:00:00   \n",
       "2                  NaN     NaN      9467       F  2094-03-05 00:00:00   \n",
       "3  2126-08-28 18:59:00  332.42      9472       F  2090-06-05 00:00:00   \n",
       "4                  NaN     NaN      9472       F  2090-06-05 00:00:00   \n",
       "\n",
       "                   dod             dod_hosp              dod_ssn expire_flag  \\\n",
       "0  2165-08-12 00:00:00  2165-08-12 00:00:00  2165-08-12 00:00:00           1   \n",
       "1  2165-08-12 00:00:00  2165-08-12 00:00:00  2165-08-12 00:00:00           1   \n",
       "2  2165-08-12 00:00:00  2165-08-12 00:00:00  2165-08-12 00:00:00           1   \n",
       "3  2126-08-28 00:00:00  2126-08-28 00:00:00                  NaN           1   \n",
       "4  2126-08-28 00:00:00  2126-08-28 00:00:00                  NaN           1   \n",
       "\n",
       "   age  \n",
       "0   71  \n",
       "1   71  \n",
       "2   71  \n",
       "3   36  \n",
       "4   36  \n",
       "\n",
       "[5 rows x 21 columns]"
      ]
     },
     "execution_count": 10,
     "metadata": {},
     "output_type": "execute_result"
    }
   ],
   "source": [
    "merged_transfers_patients = pd.merge(transfers, filtered_patients, on='subject_id')\n",
    "merged_transfers_patients.head()"
   ]
  },
  {
   "cell_type": "markdown",
   "metadata": {},
   "source": [
    "### Analyze Event Types"
   ]
  },
  {
   "cell_type": "code",
   "execution_count": 13,
   "metadata": {},
   "outputs": [
    {
     "data": {
      "text/plain": [
       "([0, 1, 2],\n",
       " [Text(0, 0, 'admit'), Text(1, 0, 'transfer'), Text(2, 0, 'discharge')])"
      ]
     },
     "execution_count": 13,
     "metadata": {},
     "output_type": "execute_result"
    },
    {
     "data": {
      "image/png": "[encoded data removed]",
      "text/plain": [
       "<Figure size 1800x1000 with 2 Axes>"
      ]
     },
     "metadata": {},
     "output_type": "display_data"
    }
   ],
   "source": [
    "# Create a complex visualization\n",
    "plt.figure(figsize=(18, 10))\n",
    "\n",
    "# Count plot of Admission Types by Gender\n",
    "plt.subplot(1, 2, 1)\n",
    "sns.countplot(data=merged_transfers_patients, x='eventtype', hue='gender')\n",
    "plt.title(\"Event Type by Gender\")\n",
    "plt.xlabel(\"Event Type\")\n",
    "plt.ylabel(\"Count\")\n",
    "\n",
    "# Box plot of Age by Event Type with Gender color hue\n",
    "plt.subplot(1, 2, 2)\n",
    "sns.boxplot(data=merged_transfers_patients, x='eventtype', y='age', hue='gender', palette='Set1')\n",
    "plt.title(\"Age by Admission Location with Gender\")\n",
    "plt.xlabel(\"Event Type\")\n",
    "plt.ylabel(\"Age\")\n",
    "plt.xticks(rotation=45, ha='right')\n",
    "\n",
    "\n"
   ]
  },
  {
   "cell_type": "markdown",
   "metadata": {},
   "source": [
    "## Analyze Prescription Data\n"
   ]
  },
  {
   "cell_type": "code",
   "execution_count": 14,
   "metadata": {},
   "outputs": [
    {
     "data": {
      "text/html": [
       "<div>\n",
       "<style scoped>\n",
       "    .dataframe tbody tr th:only-of-type {\n",
       "        vertical-align: middle;\n",
       "    }\n",
       "\n",
       "    .dataframe tbody tr th {\n",
       "        vertical-align: top;\n",
       "    }\n",
       "\n",
       "    .dataframe thead th {\n",
       "        text-align: right;\n",
       "    }\n",
       "</style>\n",
       "<table border=\"1\" class=\"dataframe\">\n",
       "  <thead>\n",
       "    <tr style=\"text-align: right;\">\n",
       "      <th></th>\n",
       "      <th>row_id_x</th>\n",
       "      <th>subject_id</th>\n",
       "      <th>hadm_id</th>\n",
       "      <th>icustay_id</th>\n",
       "      <th>startdate</th>\n",
       "      <th>enddate</th>\n",
       "      <th>drug_type</th>\n",
       "      <th>drug</th>\n",
       "      <th>drug_name_poe</th>\n",
       "      <th>drug_name_generic</th>\n",
       "      <th>...</th>\n",
       "      <th>form_unit_disp</th>\n",
       "      <th>route</th>\n",
       "      <th>row_id_y</th>\n",
       "      <th>gender</th>\n",
       "      <th>dob</th>\n",
       "      <th>dod</th>\n",
       "      <th>dod_hosp</th>\n",
       "      <th>dod_ssn</th>\n",
       "      <th>expire_flag</th>\n",
       "      <th>age</th>\n",
       "    </tr>\n",
       "  </thead>\n",
       "  <tbody>\n",
       "    <tr>\n",
       "      <th>0</th>\n",
       "      <td>59637</td>\n",
       "      <td>42275</td>\n",
       "      <td>128293</td>\n",
       "      <td>290478.0</td>\n",
       "      <td>2135-10-25 00:00:00</td>\n",
       "      <td>2135-10-27 00:00:00</td>\n",
       "      <td>MAIN</td>\n",
       "      <td>Sodium Chloride 0.9%  Flush</td>\n",
       "      <td>Sodium Chloride 0.9%  Flush</td>\n",
       "      <td>Sodium Chloride 0.9%  Flush</td>\n",
       "      <td>...</td>\n",
       "      <td>SYR</td>\n",
       "      <td>IV</td>\n",
       "      <td>31391</td>\n",
       "      <td>M</td>\n",
       "      <td>2058-08-04 00:00:00</td>\n",
       "      <td>2136-03-26 00:00:00</td>\n",
       "      <td>2136-03-26 00:00:00</td>\n",
       "      <td>NaN</td>\n",
       "      <td>1</td>\n",
       "      <td>77</td>\n",
       "    </tr>\n",
       "    <tr>\n",
       "      <th>1</th>\n",
       "      <td>59638</td>\n",
       "      <td>42275</td>\n",
       "      <td>128293</td>\n",
       "      <td>290478.0</td>\n",
       "      <td>2135-10-25 00:00:00</td>\n",
       "      <td>2135-10-27 00:00:00</td>\n",
       "      <td>MAIN</td>\n",
       "      <td>Heparin</td>\n",
       "      <td>Heparin</td>\n",
       "      <td>Heparin Sodium</td>\n",
       "      <td>...</td>\n",
       "      <td>mL</td>\n",
       "      <td>SC</td>\n",
       "      <td>31391</td>\n",
       "      <td>M</td>\n",
       "      <td>2058-08-04 00:00:00</td>\n",
       "      <td>2136-03-26 00:00:00</td>\n",
       "      <td>2136-03-26 00:00:00</td>\n",
       "      <td>NaN</td>\n",
       "      <td>1</td>\n",
       "      <td>77</td>\n",
       "    </tr>\n",
       "    <tr>\n",
       "      <th>2</th>\n",
       "      <td>59639</td>\n",
       "      <td>42275</td>\n",
       "      <td>128293</td>\n",
       "      <td>290478.0</td>\n",
       "      <td>2135-10-25 00:00:00</td>\n",
       "      <td>2135-10-27 00:00:00</td>\n",
       "      <td>MAIN</td>\n",
       "      <td>Guaifenesin</td>\n",
       "      <td>Guaifenesin</td>\n",
       "      <td>Guaifenesin</td>\n",
       "      <td>...</td>\n",
       "      <td>UDCUP</td>\n",
       "      <td>PO</td>\n",
       "      <td>31391</td>\n",
       "      <td>M</td>\n",
       "      <td>2058-08-04 00:00:00</td>\n",
       "      <td>2136-03-26 00:00:00</td>\n",
       "      <td>2136-03-26 00:00:00</td>\n",
       "      <td>NaN</td>\n",
       "      <td>1</td>\n",
       "      <td>77</td>\n",
       "    </tr>\n",
       "    <tr>\n",
       "      <th>3</th>\n",
       "      <td>59640</td>\n",
       "      <td>42275</td>\n",
       "      <td>128293</td>\n",
       "      <td>290478.0</td>\n",
       "      <td>2135-10-25 00:00:00</td>\n",
       "      <td>2135-10-27 00:00:00</td>\n",
       "      <td>MAIN</td>\n",
       "      <td>Albuterol Inhaler</td>\n",
       "      <td>Albuterol Inhaler</td>\n",
       "      <td>Albuterol Inhaler</td>\n",
       "      <td>...</td>\n",
       "      <td>INH</td>\n",
       "      <td>IH</td>\n",
       "      <td>31391</td>\n",
       "      <td>M</td>\n",
       "      <td>2058-08-04 00:00:00</td>\n",
       "      <td>2136-03-26 00:00:00</td>\n",
       "      <td>2136-03-26 00:00:00</td>\n",
       "      <td>NaN</td>\n",
       "      <td>1</td>\n",
       "      <td>77</td>\n",
       "    </tr>\n",
       "    <tr>\n",
       "      <th>4</th>\n",
       "      <td>59641</td>\n",
       "      <td>42275</td>\n",
       "      <td>128293</td>\n",
       "      <td>290478.0</td>\n",
       "      <td>2135-10-25 00:00:00</td>\n",
       "      <td>2135-10-27 00:00:00</td>\n",
       "      <td>MAIN</td>\n",
       "      <td>Amlodipine</td>\n",
       "      <td>Amlodipine</td>\n",
       "      <td>Amlodipine</td>\n",
       "      <td>...</td>\n",
       "      <td>TAB</td>\n",
       "      <td>PO</td>\n",
       "      <td>31391</td>\n",
       "      <td>M</td>\n",
       "      <td>2058-08-04 00:00:00</td>\n",
       "      <td>2136-03-26 00:00:00</td>\n",
       "      <td>2136-03-26 00:00:00</td>\n",
       "      <td>NaN</td>\n",
       "      <td>1</td>\n",
       "      <td>77</td>\n",
       "    </tr>\n",
       "  </tbody>\n",
       "</table>\n",
       "<p>5 rows × 27 columns</p>\n",
       "</div>"
      ],
      "text/plain": [
       "   row_id_x  subject_id  hadm_id  icustay_id            startdate  \\\n",
       "0     59637       42275   128293    290478.0  2135-10-25 00:00:00   \n",
       "1     59638       42275   128293    290478.0  2135-10-25 00:00:00   \n",
       "2     59639       42275   128293    290478.0  2135-10-25 00:00:00   \n",
       "3     59640       42275   128293    290478.0  2135-10-25 00:00:00   \n",
       "4     59641       42275   128293    290478.0  2135-10-25 00:00:00   \n",
       "\n",
       "               enddate drug_type                         drug  \\\n",
       "0  2135-10-27 00:00:00      MAIN  Sodium Chloride 0.9%  Flush   \n",
       "1  2135-10-27 00:00:00      MAIN                      Heparin   \n",
       "2  2135-10-27 00:00:00      MAIN                  Guaifenesin   \n",
       "3  2135-10-27 00:00:00      MAIN            Albuterol Inhaler   \n",
       "4  2135-10-27 00:00:00      MAIN                   Amlodipine   \n",
       "\n",
       "                 drug_name_poe            drug_name_generic  ...  \\\n",
       "0  Sodium Chloride 0.9%  Flush  Sodium Chloride 0.9%  Flush  ...   \n",
       "1                      Heparin               Heparin Sodium  ...   \n",
       "2                  Guaifenesin                  Guaifenesin  ...   \n",
       "3            Albuterol Inhaler            Albuterol Inhaler  ...   \n",
       "4                   Amlodipine                   Amlodipine  ...   \n",
       "\n",
       "  form_unit_disp  route  row_id_y gender                  dob  \\\n",
       "0            SYR     IV     31391      M  2058-08-04 00:00:00   \n",
       "1             mL     SC     31391      M  2058-08-04 00:00:00   \n",
       "2          UDCUP     PO     31391      M  2058-08-04 00:00:00   \n",
       "3            INH     IH     31391      M  2058-08-04 00:00:00   \n",
       "4            TAB     PO     31391      M  2058-08-04 00:00:00   \n",
       "\n",
       "                   dod             dod_hosp dod_ssn expire_flag  age  \n",
       "0  2136-03-26 00:00:00  2136-03-26 00:00:00     NaN           1   77  \n",
       "1  2136-03-26 00:00:00  2136-03-26 00:00:00     NaN           1   77  \n",
       "2  2136-03-26 00:00:00  2136-03-26 00:00:00     NaN           1   77  \n",
       "3  2136-03-26 00:00:00  2136-03-26 00:00:00     NaN           1   77  \n",
       "4  2136-03-26 00:00:00  2136-03-26 00:00:00     NaN           1   77  \n",
       "\n",
       "[5 rows x 27 columns]"
      ]
     },
     "execution_count": 14,
     "metadata": {},
     "output_type": "execute_result"
    }
   ],
   "source": [
    "merged_prescription_patients = pd.merge(prescriptions, filtered_patients, on=\"subject_id\")\n",
    "merged_prescription_patients.head()\n"
   ]
  },
  {
   "cell_type": "code",
   "execution_count": 22,
   "metadata": {},
   "outputs": [
    {
     "data": {
      "image/png": "[encoded data removed]",
      "text/plain": [
       "<Figure size 1200x500 with 2 Axes>"
      ]
     },
     "metadata": {},
     "output_type": "display_data"
    }
   ],
   "source": [
    "# Show the prescribed drugs count distribution by gender\n",
    "plt.figure(figsize=(12, 5))\n",
    "\n",
    "# Count prescriptions for female patients\n",
    "female_counts = merged_prescription_patients[merged_prescription_patients['gender']=='F']['subject_id'].value_counts()\n",
    "\n",
    "plt.subplot(1, 2, 1)\n",
    "plt.hist(female_counts, bins=50, edgecolor='black', alpha=0.7, label='Female')\n",
    "plt.title('Distribution of Prescriptions - Female Patients')\n",
    "plt.xlabel('Number of Prescriptions')\n",
    "plt.ylabel('Number of Patients')\n",
    "plt.grid(True, alpha=0.3)\n",
    "plt.legend()\n",
    "\n",
    "# Count prescriptions for male patients\n",
    "male_counts = merged_prescription_patients[merged_prescription_patients['gender']=='M']['subject_id'].value_counts()\n",
    "\n",
    "plt.subplot(1, 2, 2)\n",
    "plt.hist(male_counts, bins=50, edgecolor='black', alpha=0.7, color='orange', label='Male')\n",
    "plt.title('Distribution of Prescriptions - Male Patients')\n",
    "plt.xlabel('Number of Prescriptions')\n",
    "plt.ylabel('Number of Patients')\n",
    "plt.grid(True, alpha=0.3)\n",
    "plt.legend()\n",
    "\n",
    "plt.tight_layout()\n",
    "\n"
   ]
  },
  {
   "cell_type": "code",
   "execution_count": 32,
   "metadata": {},
   "outputs": [
    {
     "name": "stderr",
     "output_type": "stream",
     "text": [
      "C:\\Users\\patel\\AppData\\Local\\Temp\\ipykernel_21852\\989502827.py:11: FutureWarning:\n",
      "\n",
      "\n",
      "\n",
      "Passing `palette` without assigning `hue` is deprecated and will be removed in v0.14.0. Assign the `y` variable to `hue` and set `legend=False` for the same effect.\n",
      "\n",
      "\n",
      "C:\\Users\\patel\\AppData\\Local\\Temp\\ipykernel_21852\\989502827.py:18: FutureWarning:\n",
      "\n",
      "\n",
      "\n",
      "Passing `palette` without assigning `hue` is deprecated and will be removed in v0.14.0. Assign the `y` variable to `hue` and set `legend=False` for the same effect.\n",
      "\n",
      "\n"
     ]
    },
    {
     "data": {
      "image/png": "[encoded data removed]",
      "text/plain": [
       "<Figure size 1200x600 with 2 Axes>"
      ]
     },
     "metadata": {},
     "output_type": "display_data"
    }
   ],
   "source": [
    "# Get count of drugs prescribed for each gender\n",
    "\n",
    "prescription_counts_male = merged_prescription_patients[merged_prescription_patients['gender'] == 'M']['drug'].value_counts().head(10)\n",
    "prescription_counts_female = merged_prescription_patients[merged_prescription_patients['gender'] == 'F']['drug'].value_counts().head(10)\n",
    "\n",
    "# Create a figure with subplots\n",
    "plt.figure(figsize=(12, 6))\n",
    "\n",
    "# Subplot for Male Subjects\n",
    "plt.subplot(1, 2, 1)\n",
    "sns.barplot(x=prescription_counts_male.values, y=prescription_counts_male.index, palette='viridis')\n",
    "plt.title(\"Top 10 Prescribed Drugs for Male Subjects\")\n",
    "plt.xlabel(\"Count\")\n",
    "plt.ylabel(\"Drug\")\n",
    "\n",
    "# Subplot for Female Subjects\n",
    "plt.subplot(1, 2, 2)\n",
    "sns.barplot(x=prescription_counts_female.values, y=prescription_counts_female.index, palette='viridis')\n",
    "plt.title(\"Top 10 Prescribed Drugs for Female Subjects\")\n",
    "plt.xlabel(\"Count\")\n",
    "plt.ylabel(\"Drug\")\n",
    "\n",
    "# Adjust layout\n",
    "plt.tight_layout()\n",
    "\n",
    "# Show the plot\n",
    "plt.show()\n",
    "\n"
   ]
  },
  {
   "cell_type": "markdown",
   "metadata": {},
   "source": [
    "### Using Plotly to visualize such data"
   ]
  },
  {
   "cell_type": "code",
   "execution_count": 33,
   "metadata": {},
   "outputs": [
    {
     "data": {
      "application/vnd.plotly.v1+json": {
       "config": {
        "plotlyServerURL": "https://plot.ly"
       },
       "data": [
        {
         "customdata": [
          [
           "0.9% Sodium Chloride",
           "0.9% Sodium Chloride<br>Count: 293"
          ],
          [
           "Potassium Chloride",
           "Potassium Chloride<br>Count: 233"
          ],
          [
           "D5W",
           "D5W<br>Count: 188"
          ],
          [
           "5% Dextrose",
           "5% Dextrose<br>Count: 185"
          ],
          [
           "NS",
           "NS<br>Count: 150"
          ],
          [
           "Furosemide",
           "Furosemide<br>Count: 133"
          ],
          [
           "Insulin",
           "Insulin<br>Count: 121"
          ],
          [
           "Iso-Osmotic Dextrose",
           "Iso-Osmotic Dextrose<br>Count: 120"
          ],
          [
           "SW",
           "SW<br>Count: 118"
          ],
          [
           "Magnesium Sulfate",
           "Magnesium Sulfate<br>Count: 106"
          ]
         ],
         "hovertemplate": "<b>%{customdata[0]}</b><br>%{customdata[1]}",
         "labels": [
          "0.9% Sodium Chloride",
          "Potassium Chloride",
          "D5W",
          "5% Dextrose",
          "NS",
          "Furosemide",
          "Insulin",
          "Iso-Osmotic Dextrose",
          "SW",
          "Magnesium Sulfate"
         ],
         "parents": [
          "",
          "",
          "",
          "",
          "",
          "",
          "",
          "",
          "",
          ""
         ],
         "type": "treemap",
         "values": {
          "bdata": "JQHpALwAuQCWAIUAeQB4AHYAagA=",
          "dtype": "i2"
         }
        }
       ],
       "layout": {
        "template": {
         "data": {
          "bar": [
           {
            "error_x": {
             "color": "#2a3f5f"
            },
            "error_y": {
             "color": "#2a3f5f"
            },
            "marker": {
             "line": {
              "color": "#E5ECF6",
              "width": 0.5
             },
             "pattern": {
              "fillmode": "overlay",
              "size": 10,
              "solidity": 0.2
             }
            },
            "type": "bar"
           }
          ],
          "barpolar": [
           {
            "marker": {
             "line": {
              "color": "#E5ECF6",
              "width": 0.5
             },
             "pattern": {
              "fillmode": "overlay",
              "size": 10,
              "solidity": 0.2
             }
            },
            "type": "barpolar"
           }
          ],
          "carpet": [
           {
            "aaxis": {
             "endlinecolor": "#2a3f5f",
             "gridcolor": "white",
             "linecolor": "white",
             "minorgridcolor": "white",
             "startlinecolor": "#2a3f5f"
            },
            "baxis": {
             "endlinecolor": "#2a3f5f",
             "gridcolor": "white",
             "linecolor": "white",
             "minorgridcolor": "white",
             "startlinecolor": "#2a3f5f"
            },
            "type": "carpet"
           }
          ],
          "choropleth": [
           {
            "colorbar": {
             "outlinewidth": 0,
             "ticks": ""
            },
            "type": "choropleth"
           }
          ],
          "contour": [
           {
            "colorbar": {
             "outlinewidth": 0,
             "ticks": ""
            },
            "colorscale": [
             [
              0,
              "#0d0887"
             ],
             [
              0.1111111111111111,
              "#46039f"
             ],
             [
              0.2222222222222222,
              "#7201a8"
             ],
             [
              0.3333333333333333,
              "#9c179e"
             ],
             [
              0.4444444444444444,
              "#bd3786"
             ],
             [
              0.5555555555555556,
              "#d8576b"
             ],
             [
              0.6666666666666666,
              "#ed7953"
             ],
             [
              0.7777777777777778,
              "#fb9f3a"
             ],
             [
              0.8888888888888888,
              "#fdca26"
             ],
             [
              1,
              "#f0f921"
             ]
            ],
            "type": "contour"
           }
          ],
          "contourcarpet": [
           {
            "colorbar": {
             "outlinewidth": 0,
             "ticks": ""
            },
            "type": "contourcarpet"
           }
          ],
          "heatmap": [
           {
            "colorbar": {
             "outlinewidth": 0,
             "ticks": ""
            },
            "colorscale": [
             [
              0,
              "#0d0887"
             ],
             [
              0.1111111111111111,
              "#46039f"
             ],
             [
              0.2222222222222222,
              "#7201a8"
             ],
             [
              0.3333333333333333,
              "#9c179e"
             ],
             [
              0.4444444444444444,
              "#bd3786"
             ],
             [
              0.5555555555555556,
              "#d8576b"
             ],
             [
              0.6666666666666666,
              "#ed7953"
             ],
             [
              0.7777777777777778,
              "#fb9f3a"
             ],
             [
              0.8888888888888888,
              "#fdca26"
             ],
             [
              1,
              "#f0f921"
             ]
            ],
            "type": "heatmap"
           }
          ],
          "histogram": [
           {
            "marker": {
             "pattern": {
              "fillmode": "overlay",
              "size": 10,
              "solidity": 0.2
             }
            },
            "type": "histogram"
           }
          ],
          "histogram2d": [
           {
            "colorbar": {
             "outlinewidth": 0,
             "ticks": ""
            },
            "colorscale": [
             [
              0,
              "#0d0887"
             ],
             [
              0.1111111111111111,
              "#46039f"
             ],
             [
              0.2222222222222222,
              "#7201a8"
             ],
             [
              0.3333333333333333,
              "#9c179e"
             ],
             [
              0.4444444444444444,
              "#bd3786"
             ],
             [
              0.5555555555555556,
              "#d8576b"
             ],
             [
              0.6666666666666666,
              "#ed7953"
             ],
             [
              0.7777777777777778,
              "#fb9f3a"
             ],
             [
              0.8888888888888888,
              "#fdca26"
             ],
             [
              1,
              "#f0f921"
             ]
            ],
            "type": "histogram2d"
           }
          ],
          "histogram2dcontour": [
           {
            "colorbar": {
             "outlinewidth": 0,
             "ticks": ""
            },
            "colorscale": [
             [
              0,
              "#0d0887"
             ],
             [
              0.1111111111111111,
              "#46039f"
             ],
             [
              0.2222222222222222,
              "#7201a8"
             ],
             [
              0.3333333333333333,
              "#9c179e"
             ],
             [
              0.4444444444444444,
              "#bd3786"
             ],
             [
              0.5555555555555556,
              "#d8576b"
             ],
             [
              0.6666666666666666,
              "#ed7953"
             ],
             [
              0.7777777777777778,
              "#fb9f3a"
             ],
             [
              0.8888888888888888,
              "#fdca26"
             ],
             [
              1,
              "#f0f921"
             ]
            ],
            "type": "histogram2dcontour"
           }
          ],
          "mesh3d": [
           {
            "colorbar": {
             "outlinewidth": 0,
             "ticks": ""
            },
            "type": "mesh3d"
           }
          ],
          "parcoords": [
           {
            "line": {
             "colorbar": {
              "outlinewidth": 0,
              "ticks": ""
             }
            },
            "type": "parcoords"
           }
          ],
          "pie": [
           {
            "automargin": true,
            "type": "pie"
           }
          ],
          "scatter": [
           {
            "fillpattern": {
             "fillmode": "overlay",
             "size": 10,
             "solidity": 0.2
            },
            "type": "scatter"
           }
          ],
          "scatter3d": [
           {
            "line": {
             "colorbar": {
              "outlinewidth": 0,
              "ticks": ""
             }
            },
            "marker": {
             "colorbar": {
              "outlinewidth": 0,
              "ticks": ""
             }
            },
            "type": "scatter3d"
           }
          ],
          "scattercarpet": [
           {
            "marker": {
             "colorbar": {
              "outlinewidth": 0,
              "ticks": ""
             }
            },
            "type": "scattercarpet"
           }
          ],
          "scattergeo": [
           {
            "marker": {
             "colorbar": {
              "outlinewidth": 0,
              "ticks": ""
             }
            },
            "type": "scattergeo"
           }
          ],
          "scattergl": [
           {
            "marker": {
             "colorbar": {
              "outlinewidth": 0,
              "ticks": ""
             }
            },
            "type": "scattergl"
           }
          ],
          "scattermap": [
           {
            "marker": {
             "colorbar": {
              "outlinewidth": 0,
              "ticks": ""
             }
            },
            "type": "scattermap"
           }
          ],
          "scattermapbox": [
           {
            "marker": {
             "colorbar": {
              "outlinewidth": 0,
              "ticks": ""
             }
            },
            "type": "scattermapbox"
           }
          ],
          "scatterpolar": [
           {
            "marker": {
             "colorbar": {
              "outlinewidth": 0,
              "ticks": ""
             }
            },
            "type": "scatterpolar"
           }
          ],
          "scatterpolargl": [
           {
            "marker": {
             "colorbar": {
              "outlinewidth": 0,
              "ticks": ""
             }
            },
            "type": "scatterpolargl"
           }
          ],
          "scatterternary": [
           {
            "marker": {
             "colorbar": {
              "outlinewidth": 0,
              "ticks": ""
             }
            },
            "type": "scatterternary"
           }
          ],
          "surface": [
           {
            "colorbar": {
             "outlinewidth": 0,
             "ticks": ""
            },
            "colorscale": [
             [
              0,
              "#0d0887"
             ],
             [
              0.1111111111111111,
              "#46039f"
             ],
             [
              0.2222222222222222,
              "#7201a8"
             ],
             [
              0.3333333333333333,
              "#9c179e"
             ],
             [
              0.4444444444444444,
              "#bd3786"
             ],
             [
              0.5555555555555556,
              "#d8576b"
             ],
             [
              0.6666666666666666,
              "#ed7953"
             ],
             [
              0.7777777777777778,
              "#fb9f3a"
             ],
             [
              0.8888888888888888,
              "#fdca26"
             ],
             [
              1,
              "#f0f921"
             ]
            ],
            "type": "surface"
           }
          ],
          "table": [
           {
            "cells": {
             "fill": {
              "color": "#EBF0F8"
             },
             "line": {
              "color": "white"
             }
            },
            "header": {
             "fill": {
              "color": "#C8D4E3"
             },
             "line": {
              "color": "white"
             }
            },
            "type": "table"
           }
          ]
         },
         "layout": {
          "annotationdefaults": {
           "arrowcolor": "#2a3f5f",
           "arrowhead": 0,
           "arrowwidth": 1
          },
          "autotypenumbers": "strict",
          "coloraxis": {
           "colorbar": {
            "outlinewidth": 0,
            "ticks": ""
           }
          },
          "colorscale": {
           "diverging": [
            [
             0,
             "#8e0152"
            ],
            [
             0.1,
             "#c51b7d"
            ],
            [
             0.2,
             "#de77ae"
            ],
            [
             0.3,
             "#f1b6da"
            ],
            [
             0.4,
             "#fde0ef"
            ],
            [
             0.5,
             "#f7f7f7"
            ],
            [
             0.6,
             "#e6f5d0"
            ],
            [
             0.7,
             "#b8e186"
            ],
            [
             0.8,
             "#7fbc41"
            ],
            [
             0.9,
             "#4d9221"
            ],
            [
             1,
             "#276419"
            ]
           ],
           "sequential": [
            [
             0,
             "#0d0887"
            ],
            [
             0.1111111111111111,
             "#46039f"
            ],
            [
             0.2222222222222222,
             "#7201a8"
            ],
            [
             0.3333333333333333,
             "#9c179e"
            ],
            [
             0.4444444444444444,
             "#bd3786"
            ],
            [
             0.5555555555555556,
             "#d8576b"
            ],
            [
             0.6666666666666666,
             "#ed7953"
            ],
            [
             0.7777777777777778,
             "#fb9f3a"
            ],
            [
             0.8888888888888888,
             "#fdca26"
            ],
            [
             1,
             "#f0f921"
            ]
           ],
           "sequentialminus": [
            [
             0,
             "#0d0887"
            ],
            [
             0.1111111111111111,
             "#46039f"
            ],
            [
             0.2222222222222222,
             "#7201a8"
            ],
            [
             0.3333333333333333,
             "#9c179e"
            ],
            [
             0.4444444444444444,
             "#bd3786"
            ],
            [
             0.5555555555555556,
             "#d8576b"
            ],
            [
             0.6666666666666666,
             "#ed7953"
            ],
            [
             0.7777777777777778,
             "#fb9f3a"
            ],
            [
             0.8888888888888888,
             "#fdca26"
            ],
            [
             1,
             "#f0f921"
            ]
           ]
          },
          "colorway": [
           "#636efa",
           "#EF553B",
           "#00cc96",
           "#ab63fa",
           "#FFA15A",
           "#19d3f3",
           "#FF6692",
           "#B6E880",
           "#FF97FF",
           "#FECB52"
          ],
          "font": {
           "color": "#2a3f5f"
          },
          "geo": {
           "bgcolor": "white",
           "lakecolor": "white",
           "landcolor": "#E5ECF6",
           "showlakes": true,
           "showland": true,
           "subunitcolor": "white"
          },
          "hoverlabel": {
           "align": "left"
          },
          "hovermode": "closest",
          "mapbox": {
           "style": "light"
          },
          "paper_bgcolor": "white",
          "plot_bgcolor": "#E5ECF6",
          "polar": {
           "angularaxis": {
            "gridcolor": "white",
            "linecolor": "white",
            "ticks": ""
           },
           "bgcolor": "#E5ECF6",
           "radialaxis": {
            "gridcolor": "white",
            "linecolor": "white",
            "ticks": ""
           }
          },
          "scene": {
           "xaxis": {
            "backgroundcolor": "#E5ECF6",
            "gridcolor": "white",
            "gridwidth": 2,
            "linecolor": "white",
            "showbackground": true,
            "ticks": "",
            "zerolinecolor": "white"
           },
           "yaxis": {
            "backgroundcolor": "#E5ECF6",
            "gridcolor": "white",
            "gridwidth": 2,
            "linecolor": "white",
            "showbackground": true,
            "ticks": "",
            "zerolinecolor": "white"
           },
           "zaxis": {
            "backgroundcolor": "#E5ECF6",
            "gridcolor": "white",
            "gridwidth": 2,
            "linecolor": "white",
            "showbackground": true,
            "ticks": "",
            "zerolinecolor": "white"
           }
          },
          "shapedefaults": {
           "line": {
            "color": "#2a3f5f"
           }
          },
          "ternary": {
           "aaxis": {
            "gridcolor": "white",
            "linecolor": "white",
            "ticks": ""
           },
           "baxis": {
            "gridcolor": "white",
            "linecolor": "white",
            "ticks": ""
           },
           "bgcolor": "#E5ECF6",
           "caxis": {
            "gridcolor": "white",
            "linecolor": "white",
            "ticks": ""
           }
          },
          "title": {
           "x": 0.05
          },
          "xaxis": {
           "automargin": true,
           "gridcolor": "white",
           "linecolor": "white",
           "ticks": "",
           "title": {
            "standoff": 15
           },
           "zerolinecolor": "white",
           "zerolinewidth": 2
          },
          "yaxis": {
           "automargin": true,
           "gridcolor": "white",
           "linecolor": "white",
           "ticks": "",
           "title": {
            "standoff": 15
           },
           "zerolinecolor": "white",
           "zerolinewidth": 2
          }
         }
        },
        "title": {
         "text": "Top 10 Prescribed Drugs for Male Subjects"
        }
       }
      }
     },
     "metadata": {},
     "output_type": "display_data"
    },
    {
     "data": {
      "application/vnd.plotly.v1+json": {
       "config": {
        "plotlyServerURL": "https://plot.ly"
       },
       "data": [
        {
         "customdata": [
          [
           "Potassium Chloride",
           "Potassium Chloride<br>Count: 280"
          ],
          [
           "D5W",
           "D5W<br>Count: 222"
          ],
          [
           "Furosemide",
           "Furosemide<br>Count: 204"
          ],
          [
           "NS",
           "NS<br>Count: 199"
          ],
          [
           "Insulin",
           "Insulin<br>Count: 135"
          ],
          [
           "Iso-Osmotic Dextrose",
           "Iso-Osmotic Dextrose<br>Count: 126"
          ],
          [
           "SW",
           "SW<br>Count: 117"
          ],
          [
           "0.9% Sodium Chloride",
           "0.9% Sodium Chloride<br>Count: 104"
          ],
          [
           "Morphine Sulfate",
           "Morphine Sulfate<br>Count: 101"
          ],
          [
           "Magnesium Sulfate",
           "Magnesium Sulfate<br>Count: 95"
          ]
         ],
         "hovertemplate": "<b>%{customdata[0]}</b><br>%{customdata[1]}",
         "labels": [
          "Potassium Chloride",
          "D5W",
          "Furosemide",
          "NS",
          "Insulin",
          "Iso-Osmotic Dextrose",
          "SW",
          "0.9% Sodium Chloride",
          "Morphine Sulfate",
          "Magnesium Sulfate"
         ],
         "parents": [
          "",
          "",
          "",
          "",
          "",
          "",
          "",
          "",
          "",
          ""
         ],
         "type": "treemap",
         "values": {
          "bdata": "GAHeAMwAxwCHAH4AdQBoAGUAXwA=",
          "dtype": "i2"
         }
        }
       ],
       "layout": {
        "template": {
         "data": {
          "bar": [
           {
            "error_x": {
             "color": "#2a3f5f"
            },
            "error_y": {
             "color": "#2a3f5f"
            },
            "marker": {
             "line": {
              "color": "#E5ECF6",
              "width": 0.5
             },
             "pattern": {
              "fillmode": "overlay",
              "size": 10,
              "solidity": 0.2
             }
            },
            "type": "bar"
           }
          ],
          "barpolar": [
           {
            "marker": {
             "line": {
              "color": "#E5ECF6",
              "width": 0.5
             },
             "pattern": {
              "fillmode": "overlay",
              "size": 10,
              "solidity": 0.2
             }
            },
            "type": "barpolar"
           }
          ],
          "carpet": [
           {
            "aaxis": {
             "endlinecolor": "#2a3f5f",
             "gridcolor": "white",
             "linecolor": "white",
             "minorgridcolor": "white",
             "startlinecolor": "#2a3f5f"
            },
            "baxis": {
             "endlinecolor": "#2a3f5f",
             "gridcolor": "white",
             "linecolor": "white",
             "minorgridcolor": "white",
             "startlinecolor": "#2a3f5f"
            },
            "type": "carpet"
           }
          ],
          "choropleth": [
           {
            "colorbar": {
             "outlinewidth": 0,
             "ticks": ""
            },
            "type": "choropleth"
           }
          ],
          "contour": [
           {
            "colorbar": {
             "outlinewidth": 0,
             "ticks": ""
            },
            "colorscale": [
             [
              0,
              "#0d0887"
             ],
             [
              0.1111111111111111,
              "#46039f"
             ],
             [
              0.2222222222222222,
              "#7201a8"
             ],
             [
              0.3333333333333333,
              "#9c179e"
             ],
             [
              0.4444444444444444,
              "#bd3786"
             ],
             [
              0.5555555555555556,
              "#d8576b"
             ],
             [
              0.6666666666666666,
              "#ed7953"
             ],
             [
              0.7777777777777778,
              "#fb9f3a"
             ],
             [
              0.8888888888888888,
              "#fdca26"
             ],
             [
              1,
              "#f0f921"
             ]
            ],
            "type": "contour"
           }
          ],
          "contourcarpet": [
           {
            "colorbar": {
             "outlinewidth": 0,
             "ticks": ""
            },
            "type": "contourcarpet"
           }
          ],
          "heatmap": [
           {
            "colorbar": {
             "outlinewidth": 0,
             "ticks": ""
            },
            "colorscale": [
             [
              0,
              "#0d0887"
             ],
             [
              0.1111111111111111,
              "#46039f"
             ],
             [
              0.2222222222222222,
              "#7201a8"
             ],
             [
              0.3333333333333333,
              "#9c179e"
             ],
             [
              0.4444444444444444,
              "#bd3786"
             ],
             [
              0.5555555555555556,
              "#d8576b"
             ],
             [
              0.6666666666666666,
              "#ed7953"
             ],
             [
              0.7777777777777778,
              "#fb9f3a"
             ],
             [
              0.8888888888888888,
              "#fdca26"
             ],
             [
              1,
              "#f0f921"
             ]
            ],
            "type": "heatmap"
           }
          ],
          "histogram": [
           {
            "marker": {
             "pattern": {
              "fillmode": "overlay",
              "size": 10,
              "solidity": 0.2
             }
            },
            "type": "histogram"
           }
          ],
          "histogram2d": [
           {
            "colorbar": {
             "outlinewidth": 0,
             "ticks": ""
            },
            "colorscale": [
             [
              0,
              "#0d0887"
             ],
             [
              0.1111111111111111,
              "#46039f"
             ],
             [
              0.2222222222222222,
              "#7201a8"
             ],
             [
              0.3333333333333333,
              "#9c179e"
             ],
             [
              0.4444444444444444,
              "#bd3786"
             ],
             [
              0.5555555555555556,
              "#d8576b"
             ],
             [
              0.6666666666666666,
              "#ed7953"
             ],
             [
              0.7777777777777778,
              "#fb9f3a"
             ],
             [
              0.8888888888888888,
              "#fdca26"
             ],
             [
              1,
              "#f0f921"
             ]
            ],
            "type": "histogram2d"
           }
          ],
          "histogram2dcontour": [
           {
            "colorbar": {
             "outlinewidth": 0,
             "ticks": ""
            },
            "colorscale": [
             [
              0,
              "#0d0887"
             ],
             [
              0.1111111111111111,
              "#46039f"
             ],
             [
              0.2222222222222222,
              "#7201a8"
             ],
             [
              0.3333333333333333,
              "#9c179e"
             ],
             [
              0.4444444444444444,
              "#bd3786"
             ],
             [
              0.5555555555555556,
              "#d8576b"
             ],
             [
              0.6666666666666666,
              "#ed7953"
             ],
             [
              0.7777777777777778,
              "#fb9f3a"
             ],
             [
              0.8888888888888888,
              "#fdca26"
             ],
             [
              1,
              "#f0f921"
             ]
            ],
            "type": "histogram2dcontour"
           }
          ],
          "mesh3d": [
           {
            "colorbar": {
             "outlinewidth": 0,
             "ticks": ""
            },
            "type": "mesh3d"
           }
          ],
          "parcoords": [
           {
            "line": {
             "colorbar": {
              "outlinewidth": 0,
              "ticks": ""
             }
            },
            "type": "parcoords"
           }
          ],
          "pie": [
           {
            "automargin": true,
            "type": "pie"
           }
          ],
          "scatter": [
           {
            "fillpattern": {
             "fillmode": "overlay",
             "size": 10,
             "solidity": 0.2
            },
            "type": "scatter"
           }
          ],
          "scatter3d": [
           {
            "line": {
             "colorbar": {
              "outlinewidth": 0,
              "ticks": ""
             }
            },
            "marker": {
             "colorbar": {
              "outlinewidth": 0,
              "ticks": ""
             }
            },
            "type": "scatter3d"
           }
          ],
          "scattercarpet": [
           {
            "marker": {
             "colorbar": {
              "outlinewidth": 0,
              "ticks": ""
             }
            },
            "type": "scattercarpet"
           }
          ],
          "scattergeo": [
           {
            "marker": {
             "colorbar": {
              "outlinewidth": 0,
              "ticks": ""
             }
            },
            "type": "scattergeo"
           }
          ],
          "scattergl": [
           {
            "marker": {
             "colorbar": {
              "outlinewidth": 0,
              "ticks": ""
             }
            },
            "type": "scattergl"
           }
          ],
          "scattermap": [
           {
            "marker": {
             "colorbar": {
              "outlinewidth": 0,
              "ticks": ""
             }
            },
            "type": "scattermap"
           }
          ],
          "scattermapbox": [
           {
            "marker": {
             "colorbar": {
              "outlinewidth": 0,
              "ticks": ""
             }
            },
            "type": "scattermapbox"
           }
          ],
          "scatterpolar": [
           {
            "marker": {
             "colorbar": {
              "outlinewidth": 0,
              "ticks": ""
             }
            },
            "type": "scatterpolar"
           }
          ],
          "scatterpolargl": [
           {
            "marker": {
             "colorbar": {
              "outlinewidth": 0,
              "ticks": ""
             }
            },
            "type": "scatterpolargl"
           }
          ],
          "scatterternary": [
           {
            "marker": {
             "colorbar": {
              "outlinewidth": 0,
              "ticks": ""
             }
            },
            "type": "scatterternary"
           }
          ],
          "surface": [
           {
            "colorbar": {
             "outlinewidth": 0,
             "ticks": ""
            },
            "colorscale": [
             [
              0,
              "#0d0887"
             ],
             [
              0.1111111111111111,
              "#46039f"
             ],
             [
              0.2222222222222222,
              "#7201a8"
             ],
             [
              0.3333333333333333,
              "#9c179e"
             ],
             [
              0.4444444444444444,
              "#bd3786"
             ],
             [
              0.5555555555555556,
              "#d8576b"
             ],
             [
              0.6666666666666666,
              "#ed7953"
             ],
             [
              0.7777777777777778,
              "#fb9f3a"
             ],
             [
              0.8888888888888888,
              "#fdca26"
             ],
             [
              1,
              "#f0f921"
             ]
            ],
            "type": "surface"
           }
          ],
          "table": [
           {
            "cells": {
             "fill": {
              "color": "#EBF0F8"
             },
             "line": {
              "color": "white"
             }
            },
            "header": {
             "fill": {
              "color": "#C8D4E3"
             },
             "line": {
              "color": "white"
             }
            },
            "type": "table"
           }
          ]
         },
         "layout": {
          "annotationdefaults": {
           "arrowcolor": "#2a3f5f",
           "arrowhead": 0,
           "arrowwidth": 1
          },
          "autotypenumbers": "strict",
          "coloraxis": {
           "colorbar": {
            "outlinewidth": 0,
            "ticks": ""
           }
          },
          "colorscale": {
           "diverging": [
            [
             0,
             "#8e0152"
            ],
            [
             0.1,
             "#c51b7d"
            ],
            [
             0.2,
             "#de77ae"
            ],
            [
             0.3,
             "#f1b6da"
            ],
            [
             0.4,
             "#fde0ef"
            ],
            [
             0.5,
             "#f7f7f7"
            ],
            [
             0.6,
             "#e6f5d0"
            ],
            [
             0.7,
             "#b8e186"
            ],
            [
             0.8,
             "#7fbc41"
            ],
            [
             0.9,
             "#4d9221"
            ],
            [
             1,
             "#276419"
            ]
           ],
           "sequential": [
            [
             0,
             "#0d0887"
            ],
            [
             0.1111111111111111,
             "#46039f"
            ],
            [
             0.2222222222222222,
             "#7201a8"
            ],
            [
             0.3333333333333333,
             "#9c179e"
            ],
            [
             0.4444444444444444,
             "#bd3786"
            ],
            [
             0.5555555555555556,
             "#d8576b"
            ],
            [
             0.6666666666666666,
             "#ed7953"
            ],
            [
             0.7777777777777778,
             "#fb9f3a"
            ],
            [
             0.8888888888888888,
             "#fdca26"
            ],
            [
             1,
             "#f0f921"
            ]
           ],
           "sequentialminus": [
            [
             0,
             "#0d0887"
            ],
            [
             0.1111111111111111,
             "#46039f"
            ],
            [
             0.2222222222222222,
             "#7201a8"
            ],
            [
             0.3333333333333333,
             "#9c179e"
            ],
            [
             0.4444444444444444,
             "#bd3786"
            ],
            [
             0.5555555555555556,
             "#d8576b"
            ],
            [
             0.6666666666666666,
             "#ed7953"
            ],
            [
             0.7777777777777778,
             "#fb9f3a"
            ],
            [
             0.8888888888888888,
             "#fdca26"
            ],
            [
             1,
             "#f0f921"
            ]
           ]
          },
          "colorway": [
           "#636efa",
           "#EF553B",
           "#00cc96",
           "#ab63fa",
           "#FFA15A",
           "#19d3f3",
           "#FF6692",
           "#B6E880",
           "#FF97FF",
           "#FECB52"
          ],
          "font": {
           "color": "#2a3f5f"
          },
          "geo": {
           "bgcolor": "white",
           "lakecolor": "white",
           "landcolor": "#E5ECF6",
           "showlakes": true,
           "showland": true,
           "subunitcolor": "white"
          },
          "hoverlabel": {
           "align": "left"
          },
          "hovermode": "closest",
          "mapbox": {
           "style": "light"
          },
          "paper_bgcolor": "white",
          "plot_bgcolor": "#E5ECF6",
          "polar": {
           "angularaxis": {
            "gridcolor": "white",
            "linecolor": "white",
            "ticks": ""
           },
           "bgcolor": "#E5ECF6",
           "radialaxis": {
            "gridcolor": "white",
            "linecolor": "white",
            "ticks": ""
           }
          },
          "scene": {
           "xaxis": {
            "backgroundcolor": "#E5ECF6",
            "gridcolor": "white",
            "gridwidth": 2,
            "linecolor": "white",
            "showbackground": true,
            "ticks": "",
            "zerolinecolor": "white"
           },
           "yaxis": {
            "backgroundcolor": "#E5ECF6",
            "gridcolor": "white",
            "gridwidth": 2,
            "linecolor": "white",
            "showbackground": true,
            "ticks": "",
            "zerolinecolor": "white"
           },
           "zaxis": {
            "backgroundcolor": "#E5ECF6",
            "gridcolor": "white",
            "gridwidth": 2,
            "linecolor": "white",
            "showbackground": true,
            "ticks": "",
            "zerolinecolor": "white"
           }
          },
          "shapedefaults": {
           "line": {
            "color": "#2a3f5f"
           }
          },
          "ternary": {
           "aaxis": {
            "gridcolor": "white",
            "linecolor": "white",
            "ticks": ""
           },
           "baxis": {
            "gridcolor": "white",
            "linecolor": "white",
            "ticks": ""
           },
           "bgcolor": "#E5ECF6",
           "caxis": {
            "gridcolor": "white",
            "linecolor": "white",
            "ticks": ""
           }
          },
          "title": {
           "x": 0.05
          },
          "xaxis": {
           "automargin": true,
           "gridcolor": "white",
           "linecolor": "white",
           "ticks": "",
           "title": {
            "standoff": 15
           },
           "zerolinecolor": "white",
           "zerolinewidth": 2
          },
          "yaxis": {
           "automargin": true,
           "gridcolor": "white",
           "linecolor": "white",
           "ticks": "",
           "title": {
            "standoff": 15
           },
           "zerolinecolor": "white",
           "zerolinewidth": 2
          }
         }
        },
        "title": {
         "text": "Top 10 Prescribed Drugs for Female Subjects"
        }
       }
      }
     },
     "metadata": {},
     "output_type": "display_data"
    }
   ],
   "source": [
    "import pandas as pd\n",
    "import plotly.graph_objects as go\n",
    "\n",
    "# Create a DataFrame for male and female prescription counts\n",
    "male_df = pd.DataFrame({'drug': prescription_counts_male.index, 'count': prescription_counts_male.values})\n",
    "female_df = pd.DataFrame({'drug': prescription_counts_female.index, 'count': prescription_counts_female.values})\n",
    "\n",
    "# Create a new column 'hover_text' that combines 'drug', 'count'\n",
    "male_df['hover_text'] = male_df['drug'] + '<br>Count: ' + male_df['count'].astype(str)\n",
    "female_df['hover_text'] = female_df['drug'] + '<br>Count: ' + female_df['count'].astype(str)\n",
    "\n",
    "# Create treemaps using Plotly Graph Objects with custom hover data and template\n",
    "fig_male = go.Figure(go.Treemap(\n",
    "    labels=male_df['drug'],\n",
    "    parents=[''] * len(male_df),  # Set parent to empty string to remove parent levels\n",
    "    values=male_df['count'],\n",
    "    customdata=male_df[['drug', 'hover_text']],\n",
    "    hovertemplate='<b>%{customdata[0]}</b><br>%{customdata[1]}',\n",
    "))\n",
    "fig_male.update_layout(title='Top 10 Prescribed Drugs for Male Subjects')\n",
    "\n",
    "fig_female = go.Figure(go.Treemap(\n",
    "    labels=female_df['drug'],\n",
    "    parents=[''] * len(female_df),  # Set parent to empty string to remove parent levels\n",
    "    values=female_df['count'],\n",
    "    customdata=female_df[['drug', 'hover_text']],\n",
    "    hovertemplate='<b>%{customdata[0]}</b><br>%{customdata[1]}',\n",
    "))\n",
    "fig_female.update_layout(title='Top 10 Prescribed Drugs for Female Subjects')\n",
    "\n",
    "# Show the treemaps\n",
    "fig_male.show()\n",
    "fig_female.show()\n"
   ]
  },
  {
   "cell_type": "markdown",
   "metadata": {},
   "source": [
    "## Analyze Lab Data"
   ]
  },
  {
   "cell_type": "code",
   "execution_count": null,
   "metadata": {},
   "outputs": [],
   "source": [
    "\n"
   ]
  },
  {
   "cell_type": "markdown",
   "metadata": {},
   "source": [
    "## Analyze Chart Events Data\n",
    "\n",
    "Maybe use patient data to add a Gender Column to the chart_events data, and then create a dictionary for each itemid -> Label for D_Items. And then plot the events data for each gender."
   ]
  },
  {
   "cell_type": "code",
   "execution_count": null,
   "metadata": {},
   "outputs": [],
   "source": []
  },
  {
   "cell_type": "markdown",
   "metadata": {},
   "source": [
    "## Analyze Procedures Data\n",
    "\n",
    "This is very similar to Diagnosis Data Analysis from Tutorial"
   ]
  },
  {
   "cell_type": "code",
   "execution_count": null,
   "metadata": {},
   "outputs": [],
   "source": []
  }
 ],
 "metadata": {
  "kernelspec": {
   "display_name": "AI-IN-HEALTH",
   "language": "python",
   "name": "python3"
  },
  "language_info": {
   "codemirror_mode": {
    "name": "ipython",
    "version": 3
   },
   "file_extension": ".py",
   "mimetype": "text/x-python",
   "name": "python",
   "nbconvert_exporter": "python",
   "pygments_lexer": "ipython3",
   "version": "3.13.1"
  }
 },
 "nbformat": 4,
 "nbformat_minor": 2
}
